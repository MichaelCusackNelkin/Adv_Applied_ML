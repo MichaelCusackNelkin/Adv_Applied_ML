{
  "nbformat": 4,
  "nbformat_minor": 0,
  "metadata": {
    "colab": {
      "name": "DATA 410 Lecture 17 - Spring 2022.ipynb",
      "provenance": [],
      "collapsed_sections": []
    },
    "kernelspec": {
      "name": "python3",
      "display_name": "Python 3"
    }
  },
  "cells": [
    {
      "cell_type": "markdown",
      "metadata": {
        "id": "CqNdUXUM3rv9"
      },
      "source": [
        "#DATA 410 Lecture 17 - Spring 2022"
      ]
    },
    {
      "cell_type": "markdown",
      "metadata": {
        "id": "dHOKSncF3r-L"
      },
      "source": [
        "<font face=\"Chalkboard\" color=\"darkgreen\" size=10>Data Applications with Variable Selection Algorithms</font>"
      ]
    },
    {
      "cell_type": "markdown",
      "metadata": {
        "id": "pc9qszd09OeF"
      },
      "source": [
        "## Data Simulations for Linear Regression & Variable Selection/Regularization"
      ]
    },
    {
      "cell_type": "code",
      "metadata": {
        "id": "ZZHcmJvq99IG"
      },
      "source": [
        "%matplotlib inline\n",
        "%config InlineBackend.figure_format = 'retina'\n",
        "import matplotlib as mpl\n",
        "mpl.rcParams['figure.dpi'] = 150"
      ],
      "execution_count": null,
      "outputs": []
    },
    {
      "cell_type": "code",
      "metadata": {
        "id": "9xwR0IFGUxbH"
      },
      "source": [
        "# This is important: update the statsmodels package\n",
        "#! pip install --upgrade Cython\n",
        "#! pip install --upgrade git+https://github.com/statsmodels/statsmodels\n",
        "import statsmodels.api as sm"
      ],
      "execution_count": null,
      "outputs": []
    },
    {
      "cell_type": "code",
      "metadata": {
        "id": "0zPhjSO04C--"
      },
      "source": [
        "# general imports\n",
        "import numpy as np\n",
        "import pandas as pd\n",
        "from math import ceil\n",
        "from scipy import linalg\n",
        "from sklearn.linear_model import LinearRegression, Ridge, Lasso, ElasticNet\n",
        "from sklearn.metrics import mean_absolute_error\n",
        "from sklearn.metrics import make_scorer\n",
        "from sklearn.model_selection import GridSearchCV\n",
        "from sklearn.datasets import make_spd_matrix\n",
        "import matplotlib.pyplot as plt\n",
        "from scipy.optimize import minimize\n",
        "from scipy.linalg import toeplitz\n",
        "from matplotlib import pyplot"
      ],
      "execution_count": null,
      "outputs": []
    },
    {
      "cell_type": "markdown",
      "metadata": {
        "id": "FlJqMoD_iD1o"
      },
      "source": [
        "## For simulating multiple correlations we can use a Toeplitz matrix"
      ]
    },
    {
      "cell_type": "markdown",
      "metadata": {
        "id": "0b2M8KmCi6Qq"
      },
      "source": [
        "## What is the connection between correlation and covariance?\n",
        "\n",
        "$$\\mbox{corr}(X,Y) = \\frac{\\mbox{Cov(X,Y)}}{\\sigma_X\\cdot\\sigma_Y}$$"
      ]
    },
    {
      "cell_type": "code",
      "metadata": {
        "id": "ZPl3rxQLzH9V"
      },
      "source": [
        "# we want to define a function for generating X with a prescribed number of obsvervations, features and Toeplitz correlation structure.\n",
        "def make_correlated_features(num_samples,p,rho):\n",
        "  vcor = [] \n",
        "  for i in range(p):\n",
        "    vcor.append(rho**i)\n",
        "  r = toeplitz(vcor)\n",
        "  mu = np.repeat(0,p)\n",
        "  X = np.random.multivariate_normal(mu, r, size=num_samples)\n",
        "  return X"
      ],
      "execution_count": null,
      "outputs": []
    },
    {
      "cell_type": "code",
      "metadata": {
        "id": "pFuXPF-Z1pUS"
      },
      "source": [
        "# the number of feautures is p and n is the number of observations\n",
        "n = 200\n",
        "p = 50\n",
        "X = make_correlated_features(200,p,0.8)"
      ],
      "execution_count": null,
      "outputs": []
    },
    {
      "cell_type": "code",
      "metadata": {
        "id": "PvWA1vEiQPh3"
      },
      "source": [
        "np.corrcoef(np.transpose(X))"
      ],
      "execution_count": null,
      "outputs": []
    },
    {
      "cell_type": "markdown",
      "metadata": {
        "id": "BfFOiKN24tiZ"
      },
      "source": [
        "## Simulate some ground truth:\n",
        "\n",
        "The is supposed to be linear: \n",
        "\n",
        "$$\\large y = X\\cdot \\beta^* +\\sigma\\epsilon$$\n",
        "\n"
      ]
    },
    {
      "cell_type": "code",
      "metadata": {
        "id": "_SfzxzOO47vb",
        "colab": {
          "base_uri": "https://localhost:8080/"
        },
        "outputId": "4418ba6e-39ee-4e2a-d34c-a1e5aea6c133"
      },
      "source": [
        "beta =np.array([-1,2,3,0,0,0,0,2,-1,4])\n",
        "beta.shape"
      ],
      "execution_count": null,
      "outputs": [
        {
          "output_type": "execute_result",
          "data": {
            "text/plain": [
              "(10,)"
            ]
          },
          "metadata": {
            "tags": []
          },
          "execution_count": 11
        }
      ]
    },
    {
      "cell_type": "code",
      "metadata": {
        "id": "W_jr2_Ee5bw0"
      },
      "source": [
        "beta = beta.reshape(-1,1)\n",
        "betas = np.concatenate([beta,np.repeat(0,p-len(beta)).reshape(-1,1)],axis=0)"
      ],
      "execution_count": null,
      "outputs": []
    },
    {
      "cell_type": "code",
      "metadata": {
        "colab": {
          "base_uri": "https://localhost:8080/"
        },
        "id": "XAYSNmcR6agG",
        "outputId": "6b71f2f5-81fb-4fb4-eadb-84f5aa67c4de"
      },
      "source": [
        "# this is our simulated ground truth\n",
        "betas.shape"
      ],
      "execution_count": null,
      "outputs": [
        {
          "output_type": "execute_result",
          "data": {
            "text/plain": [
              "(50, 1)"
            ]
          },
          "metadata": {
            "tags": []
          },
          "execution_count": 13
        }
      ]
    },
    {
      "cell_type": "code",
      "metadata": {
        "id": "bkIkbUkJ2juH"
      },
      "source": [
        "n = 200\n",
        "sigma = 2\n",
        "y = X.dot(betas) + sigma*np.random.normal(0,1,n).reshape(-1,1)"
      ],
      "execution_count": null,
      "outputs": []
    },
    {
      "cell_type": "markdown",
      "metadata": {
        "id": "M-93M_9JE46g"
      },
      "source": [
        "## Square Root Lasso\n",
        "\n",
        "https://arxiv.org/abs/1009.5689\n",
        "\n",
        "*Square Root Lasso* is also based on minimizing an objective function plus a $L_1$ constraint (penalty).\n",
        "\n",
        "For example, *Square Root Lasso* is represented by the following optimization problem:\n",
        "\n",
        "$$\n",
        "\\displaystyle\\text{minimize} \\sqrt{\\frac{1}{n}\\sum\\limits_{i=1}^{n}(y_i-\\hat{y}_i)^2} +\\alpha\\sum\\limits_{i=1}^{p}|\\beta_i|\n",
        "$$"
      ]
    },
    {
      "cell_type": "code",
      "metadata": {
        "colab": {
          "base_uri": "https://localhost:8080/"
        },
        "id": "39GjznDlYZBm",
        "outputId": "f9b9bc3a-20c2-4c6c-a829-a729883563e3"
      },
      "source": [
        "# here alpha is a hyperparameter\n",
        "model = sm.OLS(y,X)\n",
        "result = model.fit_regularized(method='sqrt_lasso', alpha=4,profile_scale=True)\n",
        "betahat = result.params\n",
        "\n",
        "# we can compare the output with the ground truth betas via an L1 or an L2 norm:\n",
        "\n",
        "# via L1\n",
        "np.sum(np.abs(betahat-betas))\n",
        "\n",
        "# via L2 norm\n",
        "np.sqrt(np.sum((betahat-betas)**2))"
      ],
      "execution_count": null,
      "outputs": [
        {
          "output_type": "execute_result",
          "data": {
            "text/plain": [
              "56.50252640856572"
            ]
          },
          "metadata": {
            "tags": []
          },
          "execution_count": 24
        }
      ]
    },
    {
      "cell_type": "code",
      "metadata": {
        "id": "5RpgW_zET5DK"
      },
      "source": [
        "betahat[np.abs(betahat)<1e-3]=0"
      ],
      "execution_count": null,
      "outputs": []
    },
    {
      "cell_type": "code",
      "metadata": {
        "colab": {
          "base_uri": "https://localhost:8080/"
        },
        "id": "WElrLVzvUeBD",
        "outputId": "a1ccbd62-5576-4463-d8d2-8204096c9123"
      },
      "source": [
        ""
      ],
      "execution_count": null,
      "outputs": [
        {
          "output_type": "execute_result",
          "data": {
            "text/plain": [
              "56.50252759453032"
            ]
          },
          "metadata": {
            "tags": []
          },
          "execution_count": 28
        }
      ]
    },
    {
      "cell_type": "code",
      "metadata": {
        "id": "mUXsSN5uGpzS"
      },
      "source": [
        "def sqrtLasso(X,y,alpha):\n",
        "    model = sm.OLS(y,X)\n",
        "    result = model.fit_regularized(method='sqrt_lasso', alpha=alpha,profile_scale=True)\n",
        "    return result.predict(X), result.params"
      ],
      "execution_count": null,
      "outputs": []
    },
    {
      "cell_type": "code",
      "metadata": {
        "id": "fYmBlFSidzwy"
      },
      "source": [
        "df = pd.read_csv('drive/MyDrive/Data Sets/Boston Housing Prices.csv')\n",
        "features = ['crime','rooms','residential','industrial','nox','older','distance','highway','tax','ptratio','lstat']\n",
        "X = np.array(df[features])\n",
        "y = np.array(df['cmedv']).reshape(-1,1)"
      ],
      "execution_count": null,
      "outputs": []
    },
    {
      "cell_type": "code",
      "metadata": {
        "colab": {
          "base_uri": "https://localhost:8080/",
          "height": 415
        },
        "id": "3OEuarA4koqb",
        "outputId": "dd147769-d2bf-42c4-d1f8-ff6c895f4853"
      },
      "source": [
        "df"
      ],
      "execution_count": null,
      "outputs": [
        {
          "output_type": "execute_result",
          "data": {
            "text/html": [
              "<div>\n",
              "<style scoped>\n",
              "    .dataframe tbody tr th:only-of-type {\n",
              "        vertical-align: middle;\n",
              "    }\n",
              "\n",
              "    .dataframe tbody tr th {\n",
              "        vertical-align: top;\n",
              "    }\n",
              "\n",
              "    .dataframe thead th {\n",
              "        text-align: right;\n",
              "    }\n",
              "</style>\n",
              "<table border=\"1\" class=\"dataframe\">\n",
              "  <thead>\n",
              "    <tr style=\"text-align: right;\">\n",
              "      <th></th>\n",
              "      <th>town</th>\n",
              "      <th>tract</th>\n",
              "      <th>longitude</th>\n",
              "      <th>latitude</th>\n",
              "      <th>crime</th>\n",
              "      <th>residential</th>\n",
              "      <th>industrial</th>\n",
              "      <th>river</th>\n",
              "      <th>nox</th>\n",
              "      <th>rooms</th>\n",
              "      <th>older</th>\n",
              "      <th>distance</th>\n",
              "      <th>highway</th>\n",
              "      <th>tax</th>\n",
              "      <th>ptratio</th>\n",
              "      <th>lstat</th>\n",
              "      <th>cmedv</th>\n",
              "    </tr>\n",
              "  </thead>\n",
              "  <tbody>\n",
              "    <tr>\n",
              "      <th>0</th>\n",
              "      <td>Nahant</td>\n",
              "      <td>2011</td>\n",
              "      <td>-70.955002</td>\n",
              "      <td>42.255001</td>\n",
              "      <td>0.00632</td>\n",
              "      <td>18.0</td>\n",
              "      <td>2.31</td>\n",
              "      <td>no</td>\n",
              "      <td>0.538</td>\n",
              "      <td>6.575</td>\n",
              "      <td>65.199997</td>\n",
              "      <td>4.0900</td>\n",
              "      <td>1</td>\n",
              "      <td>296</td>\n",
              "      <td>15.300000</td>\n",
              "      <td>4.98</td>\n",
              "      <td>24.000000</td>\n",
              "    </tr>\n",
              "    <tr>\n",
              "      <th>1</th>\n",
              "      <td>Swampscott</td>\n",
              "      <td>2021</td>\n",
              "      <td>-70.949997</td>\n",
              "      <td>42.287498</td>\n",
              "      <td>0.02731</td>\n",
              "      <td>0.0</td>\n",
              "      <td>7.07</td>\n",
              "      <td>no</td>\n",
              "      <td>0.469</td>\n",
              "      <td>6.421</td>\n",
              "      <td>78.900002</td>\n",
              "      <td>4.9671</td>\n",
              "      <td>2</td>\n",
              "      <td>242</td>\n",
              "      <td>17.799999</td>\n",
              "      <td>9.14</td>\n",
              "      <td>21.600000</td>\n",
              "    </tr>\n",
              "    <tr>\n",
              "      <th>2</th>\n",
              "      <td>Swampscott</td>\n",
              "      <td>2022</td>\n",
              "      <td>-70.935997</td>\n",
              "      <td>42.283001</td>\n",
              "      <td>0.02729</td>\n",
              "      <td>0.0</td>\n",
              "      <td>7.07</td>\n",
              "      <td>no</td>\n",
              "      <td>0.469</td>\n",
              "      <td>7.185</td>\n",
              "      <td>61.099998</td>\n",
              "      <td>4.9671</td>\n",
              "      <td>2</td>\n",
              "      <td>242</td>\n",
              "      <td>17.799999</td>\n",
              "      <td>4.03</td>\n",
              "      <td>34.700001</td>\n",
              "    </tr>\n",
              "    <tr>\n",
              "      <th>3</th>\n",
              "      <td>Marblehead</td>\n",
              "      <td>2031</td>\n",
              "      <td>-70.928001</td>\n",
              "      <td>42.292999</td>\n",
              "      <td>0.03237</td>\n",
              "      <td>0.0</td>\n",
              "      <td>2.18</td>\n",
              "      <td>no</td>\n",
              "      <td>0.458</td>\n",
              "      <td>6.998</td>\n",
              "      <td>45.799999</td>\n",
              "      <td>6.0622</td>\n",
              "      <td>3</td>\n",
              "      <td>222</td>\n",
              "      <td>18.700001</td>\n",
              "      <td>2.94</td>\n",
              "      <td>33.400002</td>\n",
              "    </tr>\n",
              "    <tr>\n",
              "      <th>4</th>\n",
              "      <td>Marblehead</td>\n",
              "      <td>2032</td>\n",
              "      <td>-70.921997</td>\n",
              "      <td>42.298000</td>\n",
              "      <td>0.06905</td>\n",
              "      <td>0.0</td>\n",
              "      <td>2.18</td>\n",
              "      <td>no</td>\n",
              "      <td>0.458</td>\n",
              "      <td>7.147</td>\n",
              "      <td>54.200001</td>\n",
              "      <td>6.0622</td>\n",
              "      <td>3</td>\n",
              "      <td>222</td>\n",
              "      <td>18.700001</td>\n",
              "      <td>5.33</td>\n",
              "      <td>36.200001</td>\n",
              "    </tr>\n",
              "    <tr>\n",
              "      <th>...</th>\n",
              "      <td>...</td>\n",
              "      <td>...</td>\n",
              "      <td>...</td>\n",
              "      <td>...</td>\n",
              "      <td>...</td>\n",
              "      <td>...</td>\n",
              "      <td>...</td>\n",
              "      <td>...</td>\n",
              "      <td>...</td>\n",
              "      <td>...</td>\n",
              "      <td>...</td>\n",
              "      <td>...</td>\n",
              "      <td>...</td>\n",
              "      <td>...</td>\n",
              "      <td>...</td>\n",
              "      <td>...</td>\n",
              "      <td>...</td>\n",
              "    </tr>\n",
              "    <tr>\n",
              "      <th>501</th>\n",
              "      <td>Winthrop</td>\n",
              "      <td>1801</td>\n",
              "      <td>-70.986000</td>\n",
              "      <td>42.231201</td>\n",
              "      <td>0.06263</td>\n",
              "      <td>0.0</td>\n",
              "      <td>11.93</td>\n",
              "      <td>no</td>\n",
              "      <td>0.573</td>\n",
              "      <td>6.593</td>\n",
              "      <td>69.099998</td>\n",
              "      <td>2.4786</td>\n",
              "      <td>1</td>\n",
              "      <td>273</td>\n",
              "      <td>21.000000</td>\n",
              "      <td>9.67</td>\n",
              "      <td>22.400000</td>\n",
              "    </tr>\n",
              "    <tr>\n",
              "      <th>502</th>\n",
              "      <td>Winthrop</td>\n",
              "      <td>1802</td>\n",
              "      <td>-70.990997</td>\n",
              "      <td>42.227501</td>\n",
              "      <td>0.04527</td>\n",
              "      <td>0.0</td>\n",
              "      <td>11.93</td>\n",
              "      <td>no</td>\n",
              "      <td>0.573</td>\n",
              "      <td>6.120</td>\n",
              "      <td>76.699997</td>\n",
              "      <td>2.2875</td>\n",
              "      <td>1</td>\n",
              "      <td>273</td>\n",
              "      <td>21.000000</td>\n",
              "      <td>9.08</td>\n",
              "      <td>20.600000</td>\n",
              "    </tr>\n",
              "    <tr>\n",
              "      <th>503</th>\n",
              "      <td>Winthrop</td>\n",
              "      <td>1803</td>\n",
              "      <td>-70.994797</td>\n",
              "      <td>42.226002</td>\n",
              "      <td>0.06076</td>\n",
              "      <td>0.0</td>\n",
              "      <td>11.93</td>\n",
              "      <td>no</td>\n",
              "      <td>0.573</td>\n",
              "      <td>6.976</td>\n",
              "      <td>91.000000</td>\n",
              "      <td>2.1675</td>\n",
              "      <td>1</td>\n",
              "      <td>273</td>\n",
              "      <td>21.000000</td>\n",
              "      <td>5.64</td>\n",
              "      <td>23.900000</td>\n",
              "    </tr>\n",
              "    <tr>\n",
              "      <th>504</th>\n",
              "      <td>Winthrop</td>\n",
              "      <td>1804</td>\n",
              "      <td>-70.987503</td>\n",
              "      <td>42.223999</td>\n",
              "      <td>0.10959</td>\n",
              "      <td>0.0</td>\n",
              "      <td>11.93</td>\n",
              "      <td>no</td>\n",
              "      <td>0.573</td>\n",
              "      <td>6.794</td>\n",
              "      <td>89.300003</td>\n",
              "      <td>2.3889</td>\n",
              "      <td>1</td>\n",
              "      <td>273</td>\n",
              "      <td>21.000000</td>\n",
              "      <td>6.48</td>\n",
              "      <td>22.000000</td>\n",
              "    </tr>\n",
              "    <tr>\n",
              "      <th>505</th>\n",
              "      <td>Winthrop</td>\n",
              "      <td>1805</td>\n",
              "      <td>-70.982498</td>\n",
              "      <td>42.221001</td>\n",
              "      <td>0.04741</td>\n",
              "      <td>0.0</td>\n",
              "      <td>11.93</td>\n",
              "      <td>no</td>\n",
              "      <td>0.573</td>\n",
              "      <td>6.030</td>\n",
              "      <td>80.800003</td>\n",
              "      <td>2.5050</td>\n",
              "      <td>1</td>\n",
              "      <td>273</td>\n",
              "      <td>21.000000</td>\n",
              "      <td>7.88</td>\n",
              "      <td>19.000000</td>\n",
              "    </tr>\n",
              "  </tbody>\n",
              "</table>\n",
              "<p>506 rows × 17 columns</p>\n",
              "</div>"
            ],
            "text/plain": [
              "           town  tract  longitude   latitude  ...  tax    ptratio  lstat      cmedv\n",
              "0        Nahant   2011 -70.955002  42.255001  ...  296  15.300000   4.98  24.000000\n",
              "1    Swampscott   2021 -70.949997  42.287498  ...  242  17.799999   9.14  21.600000\n",
              "2    Swampscott   2022 -70.935997  42.283001  ...  242  17.799999   4.03  34.700001\n",
              "3    Marblehead   2031 -70.928001  42.292999  ...  222  18.700001   2.94  33.400002\n",
              "4    Marblehead   2032 -70.921997  42.298000  ...  222  18.700001   5.33  36.200001\n",
              "..          ...    ...        ...        ...  ...  ...        ...    ...        ...\n",
              "501    Winthrop   1801 -70.986000  42.231201  ...  273  21.000000   9.67  22.400000\n",
              "502    Winthrop   1802 -70.990997  42.227501  ...  273  21.000000   9.08  20.600000\n",
              "503    Winthrop   1803 -70.994797  42.226002  ...  273  21.000000   5.64  23.900000\n",
              "504    Winthrop   1804 -70.987503  42.223999  ...  273  21.000000   6.48  22.000000\n",
              "505    Winthrop   1805 -70.982498  42.221001  ...  273  21.000000   7.88  19.000000\n",
              "\n",
              "[506 rows x 17 columns]"
            ]
          },
          "metadata": {
            "tags": []
          },
          "execution_count": 100
        }
      ]
    },
    {
      "cell_type": "code",
      "metadata": {
        "id": "eIQ_HfGrGp-e"
      },
      "source": [
        "from sklearn.model_selection import train_test_split as tts"
      ],
      "execution_count": null,
      "outputs": []
    },
    {
      "cell_type": "code",
      "metadata": {
        "id": "2aanhWhUgsDQ"
      },
      "source": [
        "X_train, X_test, y_train, y_test = tts(X,y,test_size=0.3,random_state=1234)"
      ],
      "execution_count": null,
      "outputs": []
    },
    {
      "cell_type": "code",
      "metadata": {
        "id": "a_6wKc2liCuh"
      },
      "source": [
        "from sklearn.metrics import mean_absolute_error as MAE\n",
        "from sklearn.preprocessing import StandardScaler"
      ],
      "execution_count": null,
      "outputs": []
    },
    {
      "cell_type": "code",
      "metadata": {
        "colab": {
          "base_uri": "https://localhost:8080/"
        },
        "id": "43LHvONLg_WG",
        "outputId": "a8278fb8-c602-4c2e-ea6c-fc5b6738c390"
      },
      "source": [
        "model = sm.OLS(y_train,X_train)\n",
        "result = model.fit_regularized(method='sqrt_lasso', alpha=0.5)\n",
        "yhat_test = result.predict(X_test)\n",
        "1000*MAE(y_test,yhat_test)"
      ],
      "execution_count": null,
      "outputs": [
        {
          "output_type": "execute_result",
          "data": {
            "text/plain": [
              "3393.4313897309585"
            ]
          },
          "metadata": {
            "tags": []
          },
          "execution_count": 149
        }
      ]
    },
    {
      "cell_type": "code",
      "metadata": {
        "id": "nztUBOo7iWTi"
      },
      "source": [
        "scale = StandardScaler()\n",
        "Xs_train = scale.fit_transform(X_train)\n",
        "Xs_test  = scale.transform(X_test)"
      ],
      "execution_count": null,
      "outputs": []
    },
    {
      "cell_type": "code",
      "metadata": {
        "colab": {
          "base_uri": "https://localhost:8080/"
        },
        "id": "SyI8WZABirqy",
        "outputId": "22b5e01f-1003-4818-d6ea-fe9e2b381944"
      },
      "source": [
        "model = sm.OLS(y_train,Xs_train)\n",
        "#result = model.fit()\n",
        "result = model.fit_regularized(method='elastic_net', alpha=0.5,L1_wt=0.5)\n",
        "yhat_test = result.predict(Xs_test)\n",
        "1000*MAE(y_test,yhat_test)"
      ],
      "execution_count": null,
      "outputs": [
        {
          "output_type": "execute_result",
          "data": {
            "text/plain": [
              "22560.78482808174"
            ]
          },
          "metadata": {
            "tags": []
          },
          "execution_count": 148
        }
      ]
    },
    {
      "cell_type": "code",
      "metadata": {
        "id": "a5HRGVkN28cm"
      },
      "source": [
        "model = sm.OLS(y,X)\n",
        "results = model.fit()\n",
        "print(results.summary())"
      ],
      "execution_count": null,
      "outputs": []
    },
    {
      "cell_type": "code",
      "metadata": {
        "colab": {
          "base_uri": "https://localhost:8080/"
        },
        "id": "rzZJxVN1k1WI",
        "outputId": "20498119-325d-4347-e61c-9a83ffb088a2"
      },
      "source": [
        "model = Lasso(alpha=0.5)\n",
        "result = model.fit(Xs_train,y_train)\n",
        "yhat_test = result.predict(Xs_test)\n",
        "1000*MAE(y_test,yhat_test)"
      ],
      "execution_count": null,
      "outputs": [
        {
          "output_type": "execute_result",
          "data": {
            "text/plain": [
              "3728.1436091653027"
            ]
          },
          "metadata": {
            "tags": []
          },
          "execution_count": 150
        }
      ]
    },
    {
      "cell_type": "code",
      "metadata": {
        "colab": {
          "base_uri": "https://localhost:8080/"
        },
        "id": "unQLTO3hosiF",
        "outputId": "a952d507-0325-4f34-e723-db9c3f23bd8f"
      },
      "source": [
        "model = ElasticNet(alpha=0.5,l1_ratio=0.5)\n",
        "result = model.fit(Xs_train,y_train)\n",
        "yhat_test = result.predict(Xs_test)\n",
        "1000*MAE(y_test,yhat_test)"
      ],
      "execution_count": null,
      "outputs": [
        {
          "output_type": "execute_result",
          "data": {
            "text/plain": [
              "3632.161735858232"
            ]
          },
          "metadata": {
            "tags": []
          },
          "execution_count": 151
        }
      ]
    },
    {
      "cell_type": "markdown",
      "metadata": {
        "id": "qC0A5WSLV8_o"
      },
      "source": [
        "## How to implement your own sklearn estimator\n",
        "\n",
        "http://danielhnyk.cz/creating-your-own-estimator-scikit-learn/ For bonus points"
      ]
    },
    {
      "cell_type": "code",
      "metadata": {
        "id": "YBvrlsXjL-39"
      },
      "source": [
        "from sklearn.model_selection import KFold\n",
        "kf = KFold(n_splits=5,shuffle=True,random_state=1234)"
      ],
      "execution_count": null,
      "outputs": []
    },
    {
      "cell_type": "code",
      "metadata": {
        "id": "UXUIfCtCWWnE"
      },
      "source": [
        "alphas = np.arange(0,10,0.1)"
      ],
      "execution_count": null,
      "outputs": []
    },
    {
      "cell_type": "code",
      "metadata": {
        "id": "-uVIfFZ_WWvU"
      },
      "source": [
        "def DoKFold(X,y,alpha):\n",
        "  MSE = []\n",
        "  for idxtrain, idxtest in kf.split(X):\n",
        "    X_train = X[idxtrain,:]\n",
        "    y_train = y[idxtrain]\n",
        "    X_test  = X[idxtest,:]\n",
        "    y_test  = y[idxtest]\n",
        "    model = sm.OLS(y_train,X_train)\n",
        "    result = model.fit_regularized(method='sqrt_lasso', alpha=alpha,profile_scale=True)\n",
        "    yhat_test = result.predict(X_test)\n",
        "    MSE.append(np.sum((y_test-yhat_test)**2))\n",
        "  return np.sqrt(np.mean(MSE))"
      ],
      "execution_count": null,
      "outputs": []
    },
    {
      "cell_type": "code",
      "metadata": {
        "id": "9qVV0VnTWW3d"
      },
      "source": [
        "# we get the 5-fold crossvalidated Root Mean Squared Error:\n",
        "cv_rmse =[]\n",
        "for i in range(len(alphas)):\n",
        "  cv_rmse.append(DoKFold(X,y,alphas[i]))\n"
      ],
      "execution_count": null,
      "outputs": []
    },
    {
      "cell_type": "code",
      "metadata": {
        "id": "7V_6h1IxamuX"
      },
      "source": [
        "def SqrtLassoCV(alpha):\n",
        "  MSE = []\n",
        "  for i in range(len(alpha[:,0])):\n",
        "    a = alpha[i,0]\n",
        "    for idxtrain, idxtest in kf.split(X):\n",
        "      X_train = X[idxtrain,:]\n",
        "      y_train = y[idxtrain]\n",
        "      X_test  = X[idxtest,:]\n",
        "      y_test  = y[idxtest]\n",
        "      model = sm.OLS(y_train,X_train)\n",
        "      result = model.fit_regularized(method='sqrt_lasso', alpha=a)\n",
        "      yhat_test = result.predict(X_test)\n",
        "      MSE.append(np.sum((y_test-yhat_test)**2))\n",
        "  return np.sqrt(np.mean(MSE))"
      ],
      "execution_count": null,
      "outputs": []
    },
    {
      "cell_type": "code",
      "metadata": {
        "id": "-r0Ui7yWWXAe"
      },
      "source": [
        ""
      ],
      "execution_count": null,
      "outputs": []
    },
    {
      "cell_type": "code",
      "metadata": {
        "id": "qqSCC7ZjUM8v"
      },
      "source": [
        "model  = LinearRegression()\n",
        "model.fit(X,y)\n",
        "model.coef_"
      ],
      "execution_count": null,
      "outputs": []
    },
    {
      "cell_type": "code",
      "metadata": {
        "colab": {
          "base_uri": "https://localhost:8080/"
        },
        "id": "dfFuQ_HzUNII",
        "outputId": "faec6188-f20d-4f3c-ab99-f85865bce254"
      },
      "source": [
        "model = Lasso(alpha=0.1)\n",
        "model.fit(X,y)\n",
        "model.coef_"
      ],
      "execution_count": null,
      "outputs": [
        {
          "output_type": "execute_result",
          "data": {
            "text/plain": [
              "array([-0.72989416,  1.67586938,  2.5186417 ,  0.01460169,  0.16767627,\n",
              "        0.        , -0.        ,  1.68780325, -0.34387493,  3.8160577 ,\n",
              "        0.12751221,  0.        ,  0.06810297, -0.06883119, -0.        ,\n",
              "       -0.        , -0.        ,  0.        ,  0.        ,  0.        ])"
            ]
          },
          "metadata": {
            "tags": []
          },
          "execution_count": 61
        }
      ]
    },
    {
      "cell_type": "code",
      "metadata": {
        "colab": {
          "base_uri": "https://localhost:8080/"
        },
        "id": "RdWg02PNV5Ci",
        "outputId": "413be1a3-96ee-46d6-ab3f-fb06fba43781"
      },
      "source": [
        "model = ElasticNet(alpha=0.2,l1_ratio=0.75)\n",
        "model.fit(X,y)\n",
        "model.coef_"
      ],
      "execution_count": null,
      "outputs": [
        {
          "output_type": "execute_result",
          "data": {
            "text/plain": [
              "array([-0.39403815,  1.3998379 ,  2.20618106,  0.21584558,  0.24331836,\n",
              "        0.        ,  0.        ,  1.54099904, -0.        ,  3.19358678,\n",
              "        0.41944205,  0.        ,  0.        , -0.        , -0.        ,\n",
              "       -0.        , -0.        ,  0.        ,  0.        ,  0.        ])"
            ]
          },
          "metadata": {
            "tags": []
          },
          "execution_count": 62
        }
      ]
    },
    {
      "cell_type": "markdown",
      "metadata": {
        "id": "p66gvix44gqw"
      },
      "source": [
        "## SCAD"
      ]
    },
    {
      "cell_type": "code",
      "metadata": {
        "id": "SLDy5ApX4eTE"
      },
      "source": [
        "def scad_penalty(beta_hat, lambda_val, a_val):\n",
        "    is_linear = (np.abs(beta_hat) <= lambda_val)\n",
        "    is_quadratic = np.logical_and(lambda_val < np.abs(beta_hat), np.abs(beta_hat) <= a_val * lambda_val)\n",
        "    is_constant = (a_val * lambda_val) < np.abs(beta_hat)\n",
        "    \n",
        "    linear_part = lambda_val * np.abs(beta_hat) * is_linear\n",
        "    quadratic_part = (2 * a_val * lambda_val * np.abs(beta_hat) - beta_hat**2 - lambda_val**2) / (2 * (a_val - 1)) * is_quadratic\n",
        "    constant_part = (lambda_val**2 * (a_val + 1)) / 2 * is_constant\n",
        "    return linear_part + quadratic_part + constant_part\n",
        "    \n",
        "def scad_derivative(beta_hat, lambda_val, a_val):\n",
        "    return lambda_val * ((beta_hat <= lambda_val) + (a_val * lambda_val - beta_hat)*((a_val * lambda_val - beta_hat) > 0) / ((a_val - 1) * lambda_val) * (beta_hat > lambda_val))"
      ],
      "execution_count": null,
      "outputs": []
    },
    {
      "cell_type": "code",
      "metadata": {
        "id": "mvLvdV3ol7UN"
      },
      "source": [
        "def scad(beta):\n",
        "  beta = beta.flatten()\n",
        "  beta = beta.reshape(-1,1)\n",
        "  n = len(y)\n",
        "  return 1/n*np.sum((y-X.dot(beta))**2) + np.sum(scad_penalty(beta,lam,a))\n",
        "  \n",
        "def dscad(beta):\n",
        "  beta = beta.flatten()\n",
        "  beta = beta.reshape(-1,1)\n",
        "  n = len(y)\n",
        "  return np.array(-2/n*np.transpose(X).dot(y-X.dot(beta))+scad_derivative(beta,lam,a)).flatten()"
      ],
      "execution_count": null,
      "outputs": []
    },
    {
      "cell_type": "code",
      "metadata": {
        "id": "O5_N9Ex7l8tf"
      },
      "source": [
        "p = X.shape[1]\n",
        "b0 = np.random.normal(1,1,p)"
      ],
      "execution_count": null,
      "outputs": []
    },
    {
      "cell_type": "code",
      "metadata": {
        "colab": {
          "base_uri": "https://localhost:8080/"
        },
        "id": "dPfDeDVmoEvc",
        "outputId": "e8ba195d-d62e-4794-98a8-4d6d45890d48"
      },
      "source": [
        "b0"
      ],
      "execution_count": null,
      "outputs": [
        {
          "output_type": "execute_result",
          "data": {
            "text/plain": [
              "array([ 0.68576004, -0.29358592,  1.24550668,  2.34660693])"
            ]
          },
          "metadata": {
            "tags": []
          },
          "execution_count": 105
        }
      ]
    },
    {
      "cell_type": "code",
      "metadata": {
        "id": "Wun-o5Hol8-t"
      },
      "source": [
        "lam = 1\n",
        "a = 2\n",
        "output = minimize(scad, b0, method='L-BFGS-B', jac=dscad,options={'gtol': 1e-8, 'maxiter': 50000,'maxls': 25,'disp': True})"
      ],
      "execution_count": null,
      "outputs": []
    },
    {
      "cell_type": "code",
      "metadata": {
        "colab": {
          "base_uri": "https://localhost:8080/"
        },
        "id": "kUh86EwyrZkt",
        "outputId": "0d820588-f648-4ca8-aea4-d49cbbff129d"
      },
      "source": [
        " yhat_test_scad = X_test.dot(output.x)"
      ],
      "execution_count": null,
      "outputs": [
        {
          "output_type": "execute_result",
          "data": {
            "text/plain": [
              "array([ 2.63313332e+00, -2.06516159e-01, -3.76166150e+00,  1.14064311e-04])"
            ]
          },
          "metadata": {
            "tags": []
          },
          "execution_count": 109
        }
      ]
    },
    {
      "cell_type": "code",
      "metadata": {
        "id": "91bJ_k9I3TCT"
      },
      "source": [
        "lam = 2\n",
        "a = 1.01"
      ],
      "execution_count": null,
      "outputs": []
    },
    {
      "cell_type": "code",
      "metadata": {
        "colab": {
          "base_uri": "https://localhost:8080/"
        },
        "id": "pBnixMwM3tpA",
        "outputId": "17dfc3cc-ff86-4604-ec3b-ea0d71b9373f"
      },
      "source": [
        "dscad(b0)"
      ],
      "execution_count": null,
      "outputs": [
        {
          "output_type": "execute_result",
          "data": {
            "text/plain": [
              "array([5.43892114, 5.43892114, 5.43892114, ..., 0.57162878, 0.57162878,\n",
              "       0.57162878])"
            ]
          },
          "metadata": {
            "tags": []
          },
          "execution_count": 196
        }
      ]
    },
    {
      "cell_type": "code",
      "metadata": {
        "id": "r7TVZb_H3TK5"
      },
      "source": [
        "beta = np.arange(-10,10,.01)\n",
        "y = scad_penalty(beta,lam,a)"
      ],
      "execution_count": null,
      "outputs": []
    },
    {
      "cell_type": "code",
      "metadata": {
        "colab": {
          "base_uri": "https://localhost:8080/",
          "height": 501
        },
        "id": "7TcWbXiU3TTu",
        "outputId": "978820d1-f2d3-494c-ba2b-3a275764dbca"
      },
      "source": [
        "fig, ax = plt.subplots(figsize=(8,8))\n",
        "ax.scatter(beta,y)"
      ],
      "execution_count": null,
      "outputs": [
        {
          "output_type": "execute_result",
          "data": {
            "text/plain": [
              "<matplotlib.collections.PathCollection at 0x7f6e8c8a4450>"
            ]
          },
          "metadata": {
            "tags": []
          },
          "execution_count": 195
        },
        {
          "output_type": "display_data",
          "data": {
            "image/png": "[encoded data removed]",
            "text/plain": [
              "<Figure size 576x576 with 1 Axes>"
            ]
          },
          "metadata": {
            "tags": [],
            "needs_background": "light"
          }
        }
      ]
    },
    {
      "cell_type": "markdown",
      "metadata": {
        "id": "iTEAXCTIroTK"
      },
      "source": [
        "## Grid Search application for choosing the optimal hyperparameters."
      ]
    },
    {
      "cell_type": "code",
      "metadata": {
        "id": "oYtHI_SYsR5F"
      },
      "source": [
        "from sklearn.model_selection import cross_val_score\n",
        "from sklearn.model_selection import GridSearchCV"
      ],
      "execution_count": null,
      "outputs": []
    },
    {
      "cell_type": "code",
      "metadata": {
        "id": "Jo2hNMWoFTuG"
      },
      "source": [
        "%%time\n",
        "model = ElasticNet()\n",
        "params = [{'alpha':np.linspace(0.001,1,num=50),'l1_ratio':np.linspace(0,1,num=50)}]\n",
        "gs = GridSearchCV(estimator=model,cv=10,scoring='neg_mean_squared_error',param_grid=params)\n",
        "gs_results = gs.fit(X,y)\n",
        "print(gs_results.best_params_)\n",
        "print('The mean square error is: ', np.abs(gs_results.best_score_))"
      ],
      "execution_count": null,
      "outputs": []
    },
    {
      "cell_type": "markdown",
      "metadata": {
        "id": "op2_MRk5thJM"
      },
      "source": [
        "## Example of Stepwise Regression"
      ]
    },
    {
      "cell_type": "code",
      "metadata": {
        "id": "J4-R5nngtmMR"
      },
      "source": [
        "# Implementation of stepwise regression\n",
        "def stepwise_selection(X, y, \n",
        "                       initial_list=[], \n",
        "                       threshold_in=0.01, \n",
        "                       threshold_out = 0.05, \n",
        "                       verbose=True):\n",
        "    \"\"\" Perform a forward-backward feature selection \n",
        "    based on p-value from statsmodels.api.OLS\n",
        "    Arguments:\n",
        "        X - pandas.DataFrame with candidate features\n",
        "        y - list-like with the target\n",
        "        initial_list - list of features to start with (column names of X)\n",
        "        threshold_in - include a feature if its p-value < threshold_in\n",
        "        threshold_out - exclude a feature if its p-value > threshold_out\n",
        "        verbose - whether to print the sequence of inclusions and exclusions\n",
        "    Returns: list of selected features \n",
        "    Always set threshold_in < threshold_out to avoid infinite looping.\n",
        "    See https://en.wikipedia.org/wiki/Stepwise_regression for the details \"\"\"\n",
        "    \n",
        "    included = list(initial_list)\n",
        "    while True:\n",
        "        changed=False\n",
        "        # forward step\n",
        "        excluded = list(set(X.columns)-set(included))\n",
        "        new_pval = pd.Series(index=excluded)\n",
        "        for new_column in excluded:\n",
        "            model = sm.OLS(y, sm.add_constant(pd.DataFrame(X[included+[new_column]]))).fit()\n",
        "            new_pval[new_column] = model.pvalues[new_column]\n",
        "        best_pval = new_pval.min()\n",
        "        if best_pval < threshold_in:\n",
        "            best_feature = new_pval.idxmin()\n",
        "            included.append(best_feature)\n",
        "            changed=True\n",
        "            if verbose:\n",
        "                print('Add  {:30} with p-value {:.6}'.format(best_feature, best_pval))\n",
        "\n",
        "        # backward step\n",
        "        model = sm.OLS(y, sm.add_constant(pd.DataFrame(X[included]))).fit()\n",
        "        # use all coefs except intercept\n",
        "        pvalues = model.pvalues.iloc[1:]\n",
        "        worst_pval = pvalues.max() # null if pvalues is empty\n",
        "        if worst_pval > threshold_out:\n",
        "            changed=True\n",
        "            worst_feature = pvalues.idxmax()\n",
        "            included.remove(worst_feature)\n",
        "            if verbose:\n",
        "                print('Drop {:30} with p-value {:.6}'.format(worst_feature, worst_pval))\n",
        "        if not changed:\n",
        "            break\n",
        "    return included"
      ],
      "execution_count": null,
      "outputs": []
    },
    {
      "cell_type": "markdown",
      "metadata": {
        "id": "QkY8Sg3gs42o"
      },
      "source": [
        "## Ranking Variables (this is relative to the context/model)"
      ]
    },
    {
      "cell_type": "code",
      "metadata": {
        "id": "AoaqcGFYtCkF"
      },
      "source": [
        "from sklearn.ensemble import RandomForestRegressor\n",
        "\n",
        "model = RandomForestRegressor(random_state=310, max_depth=10,n_estimators=100)\n",
        "df=pd.get_dummies(df)\n",
        "model.fit(df,y)"
      ],
      "execution_count": null,
      "outputs": []
    },
    {
      "cell_type": "code",
      "metadata": {
        "id": "G4gjNvoitMXN"
      },
      "source": [
        "features = df.columns\n",
        "importances = model.feature_importances_\n",
        "indices = np.argsort(importances)[-9:]  # top 10 features\n",
        "plt.title('Feature Importances')\n",
        "plt.barh(range(len(indices)), importances[indices], color='b', align='center')\n",
        "plt.yticks(range(len(indices)), [features[i] for i in indices])\n",
        "plt.xlabel('Relative Importance')\n",
        "plt.show()"
      ],
      "execution_count": null,
      "outputs": []
    }
  ]
}