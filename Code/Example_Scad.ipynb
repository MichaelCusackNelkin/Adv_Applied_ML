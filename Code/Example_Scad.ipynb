{
  "nbformat": 4,
  "nbformat_minor": 0,
  "metadata": {
    "colab": {
      "name": "Example Scad.ipynb",
      "provenance": []
    },
    "kernelspec": {
      "name": "python3",
      "display_name": "Python 3"
    }
  },
  "cells": [
    {
      "cell_type": "code",
      "metadata": {
        "id": "VNFbl7PWZo6X"
      },
      "source": [
        "from numba import njit\n",
        "import numpy as np\n",
        "import pandas as pd\n",
        "from scipy.optimize import minimize\n",
        "from sklearn.linear_model import LinearRegression, Ridge, Lasso, ElasticNet\n",
        "from sklearn.preprocessing import StandardScaler"
      ],
      "execution_count": 44,
      "outputs": []
    },
    {
      "cell_type": "code",
      "metadata": {
        "id": "bTvdmxpxaGkQ"
      },
      "source": [
        "df = pd.read_csv('drive/MyDrive/Data Sets/housing.csv')"
      ],
      "execution_count": 2,
      "outputs": []
    },
    {
      "cell_type": "code",
      "metadata": {
        "colab": {
          "base_uri": "https://localhost:8080/",
          "height": 487
        },
        "id": "6mQbu-z2ahCY",
        "outputId": "4868e68e-cb0d-43cf-82b7-366f8c5b1f3e"
      },
      "source": [
        "df"
      ],
      "execution_count": 3,
      "outputs": [
        {
          "output_type": "execute_result",
          "data": {
            "text/plain": [
              "           town  tract  longitude   latitude    crime  residential  \\\n",
              "0        Nahant   2011 -70.955002  42.255001  0.00632         18.0   \n",
              "1    Swampscott   2021 -70.949997  42.287498  0.02731          0.0   \n",
              "2    Swampscott   2022 -70.935997  42.283001  0.02729          0.0   \n",
              "3    Marblehead   2031 -70.928001  42.292999  0.03237          0.0   \n",
              "4    Marblehead   2032 -70.921997  42.298000  0.06905          0.0   \n",
              "..          ...    ...        ...        ...      ...          ...   \n",
              "501    Winthrop   1801 -70.986000  42.231201  0.06263          0.0   \n",
              "502    Winthrop   1802 -70.990997  42.227501  0.04527          0.0   \n",
              "503    Winthrop   1803 -70.994797  42.226002  0.06076          0.0   \n",
              "504    Winthrop   1804 -70.987503  42.223999  0.10959          0.0   \n",
              "505    Winthrop   1805 -70.982498  42.221001  0.04741          0.0   \n",
              "\n",
              "     industrial river    nox  rooms      older  distance  highway  tax  \\\n",
              "0          2.31    no  0.538  6.575  65.199997    4.0900        1  296   \n",
              "1          7.07    no  0.469  6.421  78.900002    4.9671        2  242   \n",
              "2          7.07    no  0.469  7.185  61.099998    4.9671        2  242   \n",
              "3          2.18    no  0.458  6.998  45.799999    6.0622        3  222   \n",
              "4          2.18    no  0.458  7.147  54.200001    6.0622        3  222   \n",
              "..          ...   ...    ...    ...        ...       ...      ...  ...   \n",
              "501       11.93    no  0.573  6.593  69.099998    2.4786        1  273   \n",
              "502       11.93    no  0.573  6.120  76.699997    2.2875        1  273   \n",
              "503       11.93    no  0.573  6.976  91.000000    2.1675        1  273   \n",
              "504       11.93    no  0.573  6.794  89.300003    2.3889        1  273   \n",
              "505       11.93    no  0.573  6.030  80.800003    2.5050        1  273   \n",
              "\n",
              "       ptratio  lstat      cmedv  \n",
              "0    15.300000   4.98  24.000000  \n",
              "1    17.799999   9.14  21.600000  \n",
              "2    17.799999   4.03  34.700001  \n",
              "3    18.700001   2.94  33.400002  \n",
              "4    18.700001   5.33  36.200001  \n",
              "..         ...    ...        ...  \n",
              "501  21.000000   9.67  22.400000  \n",
              "502  21.000000   9.08  20.600000  \n",
              "503  21.000000   5.64  23.900000  \n",
              "504  21.000000   6.48  22.000000  \n",
              "505  21.000000   7.88  19.000000  \n",
              "\n",
              "[506 rows x 17 columns]"
            ],
            "text/html": [
              "\n",
              "  <div id=\"df-7667503f-2cb0-4b13-8081-ea9ade384651\">\n",
              "    <div class=\"colab-df-container\">\n",
              "      <div>\n",
              "<style scoped>\n",
              "    .dataframe tbody tr th:only-of-type {\n",
              "        vertical-align: middle;\n",
              "    }\n",
              "\n",
              "    .dataframe tbody tr th {\n",
              "        vertical-align: top;\n",
              "    }\n",
              "\n",
              "    .dataframe thead th {\n",
              "        text-align: right;\n",
              "    }\n",
              "</style>\n",
              "<table border=\"1\" class=\"dataframe\">\n",
              "  <thead>\n",
              "    <tr style=\"text-align: right;\">\n",
              "      <th></th>\n",
              "      <th>town</th>\n",
              "      <th>tract</th>\n",
              "      <th>longitude</th>\n",
              "      <th>latitude</th>\n",
              "      <th>crime</th>\n",
              "      <th>residential</th>\n",
              "      <th>industrial</th>\n",
              "      <th>river</th>\n",
              "      <th>nox</th>\n",
              "      <th>rooms</th>\n",
              "      <th>older</th>\n",
              "      <th>distance</th>\n",
              "      <th>highway</th>\n",
              "      <th>tax</th>\n",
              "      <th>ptratio</th>\n",
              "      <th>lstat</th>\n",
              "      <th>cmedv</th>\n",
              "    </tr>\n",
              "  </thead>\n",
              "  <tbody>\n",
              "    <tr>\n",
              "      <th>0</th>\n",
              "      <td>Nahant</td>\n",
              "      <td>2011</td>\n",
              "      <td>-70.955002</td>\n",
              "      <td>42.255001</td>\n",
              "      <td>0.00632</td>\n",
              "      <td>18.0</td>\n",
              "      <td>2.31</td>\n",
              "      <td>no</td>\n",
              "      <td>0.538</td>\n",
              "      <td>6.575</td>\n",
              "      <td>65.199997</td>\n",
              "      <td>4.0900</td>\n",
              "      <td>1</td>\n",
              "      <td>296</td>\n",
              "      <td>15.300000</td>\n",
              "      <td>4.98</td>\n",
              "      <td>24.000000</td>\n",
              "    </tr>\n",
              "    <tr>\n",
              "      <th>1</th>\n",
              "      <td>Swampscott</td>\n",
              "      <td>2021</td>\n",
              "      <td>-70.949997</td>\n",
              "      <td>42.287498</td>\n",
              "      <td>0.02731</td>\n",
              "      <td>0.0</td>\n",
              "      <td>7.07</td>\n",
              "      <td>no</td>\n",
              "      <td>0.469</td>\n",
              "      <td>6.421</td>\n",
              "      <td>78.900002</td>\n",
              "      <td>4.9671</td>\n",
              "      <td>2</td>\n",
              "      <td>242</td>\n",
              "      <td>17.799999</td>\n",
              "      <td>9.14</td>\n",
              "      <td>21.600000</td>\n",
              "    </tr>\n",
              "    <tr>\n",
              "      <th>2</th>\n",
              "      <td>Swampscott</td>\n",
              "      <td>2022</td>\n",
              "      <td>-70.935997</td>\n",
              "      <td>42.283001</td>\n",
              "      <td>0.02729</td>\n",
              "      <td>0.0</td>\n",
              "      <td>7.07</td>\n",
              "      <td>no</td>\n",
              "      <td>0.469</td>\n",
              "      <td>7.185</td>\n",
              "      <td>61.099998</td>\n",
              "      <td>4.9671</td>\n",
              "      <td>2</td>\n",
              "      <td>242</td>\n",
              "      <td>17.799999</td>\n",
              "      <td>4.03</td>\n",
              "      <td>34.700001</td>\n",
              "    </tr>\n",
              "    <tr>\n",
              "      <th>3</th>\n",
              "      <td>Marblehead</td>\n",
              "      <td>2031</td>\n",
              "      <td>-70.928001</td>\n",
              "      <td>42.292999</td>\n",
              "      <td>0.03237</td>\n",
              "      <td>0.0</td>\n",
              "      <td>2.18</td>\n",
              "      <td>no</td>\n",
              "      <td>0.458</td>\n",
              "      <td>6.998</td>\n",
              "      <td>45.799999</td>\n",
              "      <td>6.0622</td>\n",
              "      <td>3</td>\n",
              "      <td>222</td>\n",
              "      <td>18.700001</td>\n",
              "      <td>2.94</td>\n",
              "      <td>33.400002</td>\n",
              "    </tr>\n",
              "    <tr>\n",
              "      <th>4</th>\n",
              "      <td>Marblehead</td>\n",
              "      <td>2032</td>\n",
              "      <td>-70.921997</td>\n",
              "      <td>42.298000</td>\n",
              "      <td>0.06905</td>\n",
              "      <td>0.0</td>\n",
              "      <td>2.18</td>\n",
              "      <td>no</td>\n",
              "      <td>0.458</td>\n",
              "      <td>7.147</td>\n",
              "      <td>54.200001</td>\n",
              "      <td>6.0622</td>\n",
              "      <td>3</td>\n",
              "      <td>222</td>\n",
              "      <td>18.700001</td>\n",
              "      <td>5.33</td>\n",
              "      <td>36.200001</td>\n",
              "    </tr>\n",
              "    <tr>\n",
              "      <th>...</th>\n",
              "      <td>...</td>\n",
              "      <td>...</td>\n",
              "      <td>...</td>\n",
              "      <td>...</td>\n",
              "      <td>...</td>\n",
              "      <td>...</td>\n",
              "      <td>...</td>\n",
              "      <td>...</td>\n",
              "      <td>...</td>\n",
              "      <td>...</td>\n",
              "      <td>...</td>\n",
              "      <td>...</td>\n",
              "      <td>...</td>\n",
              "      <td>...</td>\n",
              "      <td>...</td>\n",
              "      <td>...</td>\n",
              "      <td>...</td>\n",
              "    </tr>\n",
              "    <tr>\n",
              "      <th>501</th>\n",
              "      <td>Winthrop</td>\n",
              "      <td>1801</td>\n",
              "      <td>-70.986000</td>\n",
              "      <td>42.231201</td>\n",
              "      <td>0.06263</td>\n",
              "      <td>0.0</td>\n",
              "      <td>11.93</td>\n",
              "      <td>no</td>\n",
              "      <td>0.573</td>\n",
              "      <td>6.593</td>\n",
              "      <td>69.099998</td>\n",
              "      <td>2.4786</td>\n",
              "      <td>1</td>\n",
              "      <td>273</td>\n",
              "      <td>21.000000</td>\n",
              "      <td>9.67</td>\n",
              "      <td>22.400000</td>\n",
              "    </tr>\n",
              "    <tr>\n",
              "      <th>502</th>\n",
              "      <td>Winthrop</td>\n",
              "      <td>1802</td>\n",
              "      <td>-70.990997</td>\n",
              "      <td>42.227501</td>\n",
              "      <td>0.04527</td>\n",
              "      <td>0.0</td>\n",
              "      <td>11.93</td>\n",
              "      <td>no</td>\n",
              "      <td>0.573</td>\n",
              "      <td>6.120</td>\n",
              "      <td>76.699997</td>\n",
              "      <td>2.2875</td>\n",
              "      <td>1</td>\n",
              "      <td>273</td>\n",
              "      <td>21.000000</td>\n",
              "      <td>9.08</td>\n",
              "      <td>20.600000</td>\n",
              "    </tr>\n",
              "    <tr>\n",
              "      <th>503</th>\n",
              "      <td>Winthrop</td>\n",
              "      <td>1803</td>\n",
              "      <td>-70.994797</td>\n",
              "      <td>42.226002</td>\n",
              "      <td>0.06076</td>\n",
              "      <td>0.0</td>\n",
              "      <td>11.93</td>\n",
              "      <td>no</td>\n",
              "      <td>0.573</td>\n",
              "      <td>6.976</td>\n",
              "      <td>91.000000</td>\n",
              "      <td>2.1675</td>\n",
              "      <td>1</td>\n",
              "      <td>273</td>\n",
              "      <td>21.000000</td>\n",
              "      <td>5.64</td>\n",
              "      <td>23.900000</td>\n",
              "    </tr>\n",
              "    <tr>\n",
              "      <th>504</th>\n",
              "      <td>Winthrop</td>\n",
              "      <td>1804</td>\n",
              "      <td>-70.987503</td>\n",
              "      <td>42.223999</td>\n",
              "      <td>0.10959</td>\n",
              "      <td>0.0</td>\n",
              "      <td>11.93</td>\n",
              "      <td>no</td>\n",
              "      <td>0.573</td>\n",
              "      <td>6.794</td>\n",
              "      <td>89.300003</td>\n",
              "      <td>2.3889</td>\n",
              "      <td>1</td>\n",
              "      <td>273</td>\n",
              "      <td>21.000000</td>\n",
              "      <td>6.48</td>\n",
              "      <td>22.000000</td>\n",
              "    </tr>\n",
              "    <tr>\n",
              "      <th>505</th>\n",
              "      <td>Winthrop</td>\n",
              "      <td>1805</td>\n",
              "      <td>-70.982498</td>\n",
              "      <td>42.221001</td>\n",
              "      <td>0.04741</td>\n",
              "      <td>0.0</td>\n",
              "      <td>11.93</td>\n",
              "      <td>no</td>\n",
              "      <td>0.573</td>\n",
              "      <td>6.030</td>\n",
              "      <td>80.800003</td>\n",
              "      <td>2.5050</td>\n",
              "      <td>1</td>\n",
              "      <td>273</td>\n",
              "      <td>21.000000</td>\n",
              "      <td>7.88</td>\n",
              "      <td>19.000000</td>\n",
              "    </tr>\n",
              "  </tbody>\n",
              "</table>\n",
              "<p>506 rows × 17 columns</p>\n",
              "</div>\n",
              "      <button class=\"colab-df-convert\" onclick=\"convertToInteractive('df-7667503f-2cb0-4b13-8081-ea9ade384651')\"\n",
              "              title=\"Convert this dataframe to an interactive table.\"\n",
              "              style=\"display:none;\">\n",
              "        \n",
              "  <svg xmlns=\"http://www.w3.org/2000/svg\" height=\"24px\"viewBox=\"0 0 24 24\"\n",
              "       width=\"24px\">\n",
              "    <path d=\"M0 0h24v24H0V0z\" fill=\"none\"/>\n",
              "    <path d=\"M18.56 5.44l.94 2.06.94-2.06 2.06-.94-2.06-.94-.94-2.06-.94 2.06-2.06.94zm-11 1L8.5 8.5l.94-2.06 2.06-.94-2.06-.94L8.5 2.5l-.94 2.06-2.06.94zm10 10l.94 2.06.94-2.06 2.06-.94-2.06-.94-.94-2.06-.94 2.06-2.06.94z\"/><path d=\"M17.41 7.96l-1.37-1.37c-.4-.4-.92-.59-1.43-.59-.52 0-1.04.2-1.43.59L10.3 9.45l-7.72 7.72c-.78.78-.78 2.05 0 2.83L4 21.41c.39.39.9.59 1.41.59.51 0 1.02-.2 1.41-.59l7.78-7.78 2.81-2.81c.8-.78.8-2.07 0-2.86zM5.41 20L4 18.59l7.72-7.72 1.47 1.35L5.41 20z\"/>\n",
              "  </svg>\n",
              "      </button>\n",
              "      \n",
              "  <style>\n",
              "    .colab-df-container {\n",
              "      display:flex;\n",
              "      flex-wrap:wrap;\n",
              "      gap: 12px;\n",
              "    }\n",
              "\n",
              "    .colab-df-convert {\n",
              "      background-color: #E8F0FE;\n",
              "      border: none;\n",
              "      border-radius: 50%;\n",
              "      cursor: pointer;\n",
              "      display: none;\n",
              "      fill: #1967D2;\n",
              "      height: 32px;\n",
              "      padding: 0 0 0 0;\n",
              "      width: 32px;\n",
              "    }\n",
              "\n",
              "    .colab-df-convert:hover {\n",
              "      background-color: #E2EBFA;\n",
              "      box-shadow: 0px 1px 2px rgba(60, 64, 67, 0.3), 0px 1px 3px 1px rgba(60, 64, 67, 0.15);\n",
              "      fill: #174EA6;\n",
              "    }\n",
              "\n",
              "    [theme=dark] .colab-df-convert {\n",
              "      background-color: #3B4455;\n",
              "      fill: #D2E3FC;\n",
              "    }\n",
              "\n",
              "    [theme=dark] .colab-df-convert:hover {\n",
              "      background-color: #434B5C;\n",
              "      box-shadow: 0px 1px 3px 1px rgba(0, 0, 0, 0.15);\n",
              "      filter: drop-shadow(0px 1px 2px rgba(0, 0, 0, 0.3));\n",
              "      fill: #FFFFFF;\n",
              "    }\n",
              "  </style>\n",
              "\n",
              "      <script>\n",
              "        const buttonEl =\n",
              "          document.querySelector('#df-7667503f-2cb0-4b13-8081-ea9ade384651 button.colab-df-convert');\n",
              "        buttonEl.style.display =\n",
              "          google.colab.kernel.accessAllowed ? 'block' : 'none';\n",
              "\n",
              "        async function convertToInteractive(key) {\n",
              "          const element = document.querySelector('#df-7667503f-2cb0-4b13-8081-ea9ade384651');\n",
              "          const dataTable =\n",
              "            await google.colab.kernel.invokeFunction('convertToInteractive',\n",
              "                                                     [key], {});\n",
              "          if (!dataTable) return;\n",
              "\n",
              "          const docLinkHtml = 'Like what you see? Visit the ' +\n",
              "            '<a target=\"_blank\" href=https://colab.research.google.com/notebooks/data_table.ipynb>data table notebook</a>'\n",
              "            + ' to learn more about interactive tables.';\n",
              "          element.innerHTML = '';\n",
              "          dataTable['output_type'] = 'display_data';\n",
              "          await google.colab.output.renderOutput(dataTable, element);\n",
              "          const docLink = document.createElement('div');\n",
              "          docLink.innerHTML = docLinkHtml;\n",
              "          element.appendChild(docLink);\n",
              "        }\n",
              "      </script>\n",
              "    </div>\n",
              "  </div>\n",
              "  "
            ]
          },
          "metadata": {},
          "execution_count": 3
        }
      ]
    },
    {
      "cell_type": "markdown",
      "metadata": {
        "id": "gtSEUmYYdhZp"
      },
      "source": [
        "## We have to make sure that y is a column vector so we applied .reshape(-1,1)"
      ]
    },
    {
      "cell_type": "code",
      "source": [
        "scale = StandardScaler()"
      ],
      "metadata": {
        "id": "NB2_8ShIFh1n"
      },
      "execution_count": 45,
      "outputs": []
    },
    {
      "cell_type": "code",
      "metadata": {
        "id": "zlgbxsE2aiQ9"
      },
      "source": [
        "y = df['cmedv'].values.reshape(-1,1)\n",
        "X = df[['crime','residential','industrial','nox','rooms','older','distance','tax','ptratio','lstat']].values"
      ],
      "execution_count": 6,
      "outputs": []
    },
    {
      "cell_type": "code",
      "source": [
        "y = y - np.mean(y) # so we don;t need intercept\n",
        "xscaled = scale.fit_transform(X)"
      ],
      "metadata": {
        "id": "x9M1sLxhFOvb"
      },
      "execution_count": 46,
      "outputs": []
    },
    {
      "cell_type": "markdown",
      "metadata": {
        "id": "_Sy1kD1obS7N"
      },
      "source": [
        "## Define SCAD functions"
      ]
    },
    {
      "cell_type": "code",
      "metadata": {
        "id": "SLDy5ApX4eTE"
      },
      "source": [
        "@njit\n",
        "def scad_penalty(beta_hat, lambda_val, a_val):\n",
        "    is_linear = (np.abs(beta_hat) <= lambda_val)\n",
        "    is_quadratic = np.logical_and(lambda_val < np.abs(beta_hat), np.abs(beta_hat) <= a_val * lambda_val)\n",
        "    is_constant = (a_val * lambda_val) < np.abs(beta_hat)\n",
        "    \n",
        "    linear_part = lambda_val * np.abs(beta_hat) * is_linear\n",
        "    quadratic_part = (2 * a_val * lambda_val * np.abs(beta_hat) - beta_hat**2 - lambda_val**2) / (2 * (a_val - 1)) * is_quadratic\n",
        "    constant_part = (lambda_val**2 * (a_val + 1)) / 2 * is_constant\n",
        "    return linear_part + quadratic_part + constant_part\n",
        "\n",
        "@njit    \n",
        "def scad_derivative(beta_hat, lambda_val, a_val):\n",
        "    return lambda_val * ((beta_hat <= lambda_val) + (a_val * lambda_val - beta_hat)*((a_val * lambda_val - beta_hat) > 0) / ((a_val - 1) * lambda_val) * (beta_hat > lambda_val))"
      ],
      "execution_count": 16,
      "outputs": []
    },
    {
      "cell_type": "code",
      "source": [
        "x = xscaled"
      ],
      "metadata": {
        "id": "_aCcBlrHFvPx"
      },
      "execution_count": 48,
      "outputs": []
    },
    {
      "cell_type": "code",
      "metadata": {
        "id": "mvLvdV3ol7UN"
      },
      "source": [
        "@njit\n",
        "def scad(beta):\n",
        "  beta = beta.flatten()\n",
        "  beta = beta.reshape(-1,1)\n",
        "  n = len(y)\n",
        "  return 1/n*np.sum((y-x.dot(beta))**2) + np.sum(scad_penalty(beta,lam,a))\n",
        "\n",
        "@njit  \n",
        "def dscad(beta):\n",
        "  beta = beta.flatten()\n",
        "  beta = beta.reshape(-1,1)\n",
        "  n = len(y)\n",
        "  output = -2/n*np.transpose(x).dot(y-x.dot(beta))+scad_derivative(beta,lam,a)\n",
        "  return output.flatten()"
      ],
      "execution_count": 49,
      "outputs": []
    },
    {
      "cell_type": "code",
      "metadata": {
        "id": "O5_N9Ex7l8tf"
      },
      "source": [
        "p = xscaled.shape[1]\n",
        "b0 = np.zeros(p)"
      ],
      "execution_count": 97,
      "outputs": []
    },
    {
      "cell_type": "code",
      "metadata": {
        "id": "Wun-o5Hol8-t"
      },
      "source": [
        "lam = 1\n",
        "a = 2\n",
        "output = minimize(scad, b0, method='L-BFGS-B', jac=dscad,options={'gtol': 1e-8, 'maxiter': 50000,'maxls': 50,'disp': True})"
      ],
      "execution_count": 98,
      "outputs": []
    },
    {
      "cell_type": "code",
      "metadata": {
        "colab": {
          "base_uri": "https://localhost:8080/"
        },
        "id": "EkN4CCXJbEXe",
        "outputId": "eaf9a1bc-5586-4edc-c1cd-4a8ff8ad15f6"
      },
      "source": [
        "output.x"
      ],
      "execution_count": 99,
      "outputs": [
        {
          "output_type": "execute_result",
          "data": {
            "text/plain": [
              "array([-0.99744124, -0.4630991 , -0.81686872, -0.98205241,  3.32158715,\n",
              "       -0.57370125, -2.96633188, -0.62804734, -2.40612143, -3.873139  ])"
            ]
          },
          "metadata": {},
          "execution_count": 99
        }
      ]
    },
    {
      "cell_type": "code",
      "metadata": {
        "id": "VXD7CR5qbuI9"
      },
      "source": [
        ""
      ],
      "execution_count": null,
      "outputs": []
    },
    {
      "cell_type": "markdown",
      "source": [
        "---------\n",
        "## SKLearn compliant SCAD function"
      ],
      "metadata": {
        "id": "tlhJJ0Ie_tO-"
      }
    },
    {
      "cell_type": "code",
      "source": [
        "# the following is very important\n",
        "from sklearn.base import BaseEstimator, RegressorMixin"
      ],
      "metadata": {
        "id": "y4JPwjyFAEqw"
      },
      "execution_count": 13,
      "outputs": []
    },
    {
      "cell_type": "code",
      "source": [
        "class SCAD(BaseEstimator, RegressorMixin):\n",
        "    def __init__(self, a=2,lam=1):\n",
        "        self.a, self.lam = a, lam\n",
        "  \n",
        "    def fit(self, x, y):\n",
        "        a = self.a\n",
        "        lam   = self.lam\n",
        "\n",
        "        @njit\n",
        "        def scad(beta):\n",
        "          beta = beta.flatten()\n",
        "          beta = beta.reshape(-1,1)\n",
        "          n = len(y)\n",
        "          return 1/n*np.sum((y-x.dot(beta))**2) + np.sum(scad_penalty(beta,lam,a))\n",
        "\n",
        "        @njit  \n",
        "        def dscad(beta):\n",
        "          beta = beta.flatten()\n",
        "          beta = beta.reshape(-1,1)\n",
        "          n = len(y)\n",
        "          output = -2/n*np.transpose(x).dot(y-x.dot(beta))+scad_derivative(beta,lam,a)\n",
        "          return output.flatten()\n",
        "        \n",
        "        \n",
        "        beta0 = np.zeros(p)\n",
        "        output = minimize(scad, beta0, method='L-BFGS-B', jac=dscad,options={'gtol': 1e-8, 'maxiter': 50000,'maxls': 50,'disp': False})\n",
        "        beta = output.x\n",
        "        self.coef_ = beta\n",
        "        \n",
        "    def predict(self, x):\n",
        "        return x.dot(self.coef_)"
      ],
      "metadata": {
        "id": "cJTa5Hu0_xd7"
      },
      "execution_count": 100,
      "outputs": []
    },
    {
      "cell_type": "code",
      "source": [
        "model = SCAD(a=2,lam=1)"
      ],
      "metadata": {
        "id": "Eiylis0WAAoh"
      },
      "execution_count": 101,
      "outputs": []
    },
    {
      "cell_type": "code",
      "source": [
        "model.fit(x,y)"
      ],
      "metadata": {
        "id": "YlScpEHJBrkG"
      },
      "execution_count": 102,
      "outputs": []
    },
    {
      "cell_type": "code",
      "source": [
        "model.coef_"
      ],
      "metadata": {
        "colab": {
          "base_uri": "https://localhost:8080/"
        },
        "id": "tvqDDoSaCFm4",
        "outputId": "b6616639-f01c-4e06-dc28-c77453c61aff"
      },
      "execution_count": 103,
      "outputs": [
        {
          "output_type": "execute_result",
          "data": {
            "text/plain": [
              "array([-0.99744124, -0.4630991 , -0.81686872, -0.98205241,  3.32158715,\n",
              "       -0.57370125, -2.96633188, -0.62804734, -2.40612143, -3.873139  ])"
            ]
          },
          "metadata": {},
          "execution_count": 103
        }
      ]
    },
    {
      "cell_type": "code",
      "source": [
        ""
      ],
      "metadata": {
        "id": "-_4JDBzwCOPY"
      },
      "execution_count": null,
      "outputs": []
    }
  ]
}