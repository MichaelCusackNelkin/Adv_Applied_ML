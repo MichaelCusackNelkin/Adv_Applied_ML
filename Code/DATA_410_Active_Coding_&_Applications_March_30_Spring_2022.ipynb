{
  "nbformat": 4,
  "nbformat_minor": 0,
  "metadata": {
    "colab": {
      "name": "DATA 410 Active Coding & Applications March 30 - Spring 2022.ipynb",
      "provenance": []
    },
    "kernelspec": {
      "name": "python3",
      "display_name": "Python 3"
    },
    "language_info": {
      "name": "python"
    }
  },
  "cells": [
    {
      "cell_type": "code",
      "execution_count": 1,
      "metadata": {
        "id": "B5WtcO14CP0D"
      },
      "outputs": [],
      "source": [
        "%matplotlib inline\n",
        "%config InlineBackend.figure_format = 'retina'\n",
        "import matplotlib as mpl\n",
        "mpl.rcParams['figure.dpi'] = 150"
      ]
    },
    {
      "cell_type": "code",
      "source": [
        "# general imports\n",
        "import numpy as np\n",
        "import pandas as pd\n",
        "from math import ceil\n",
        "from scipy import linalg\n",
        "from sklearn.linear_model import LinearRegression, Ridge, Lasso, ElasticNet\n",
        "from sklearn.metrics import mean_absolute_error\n",
        "from sklearn.datasets import make_spd_matrix\n",
        "import matplotlib.pyplot as plt\n",
        "from scipy.optimize import minimize\n",
        "from scipy.linalg import toeplitz\n",
        "from matplotlib import pyplot"
      ],
      "metadata": {
        "id": "rqznAMOgDI2J"
      },
      "execution_count": 2,
      "outputs": []
    },
    {
      "cell_type": "code",
      "source": [
        "# import an optimizer\n",
        "from scipy.optimize import minimize"
      ],
      "metadata": {
        "id": "DnYPIb9uDMFQ"
      },
      "execution_count": 3,
      "outputs": []
    },
    {
      "cell_type": "code",
      "source": [
        "class SQRTLasso:\n",
        "    def __init__(self, alpha=0.01):\n",
        "        self.alpha = alpha\n",
        "    \n",
        "    def fit(self, x, y):\n",
        "        alpha=self.alpha\n",
        "        def f_obj(x,y,beta,alpha):\n",
        "          n =len(x)\n",
        "          beta = beta.flatten()\n",
        "          beta = beta.reshape(-1,1)\n",
        "          output = np.sqrt(1/n*np.sum((y-x.dot(beta))**2)) + alpha*np.sum(np.abs(beta))\n",
        "          return output\n",
        "        \n",
        "        def f_grad(x,y,beta,alpha):\n",
        "          n=x.shape[0]\n",
        "          p=x.shape[1]\n",
        "          beta = beta.flatten()\n",
        "          beta = beta.reshape(-1,1)\n",
        "          output = np.array((-1/np.sqrt(n))*np.transpose(x).dot(y-x.dot(beta))/np.sqrt(np.sum((y-x.dot(beta))**2))+alpha*np.sign(beta)).flatten()\n",
        "          return output\n",
        "        \n",
        "        def objective(beta):\n",
        "          return(f_obj(x,y,beta,alpha))\n",
        "\n",
        "        def gradient(beta):\n",
        "          return(f_grad(x,y,beta,alpha))\n",
        "        \n",
        "        beta0 = np.ones((x.shape[1],1))\n",
        "        output = minimize(objective, beta0, method='L-BFGS-B', jac=gradient,options={'gtol': 1e-8, 'maxiter': 50000,'maxls': 25,'disp': True})\n",
        "        beta = output.x\n",
        "        self.coef_ = beta\n",
        "        \n",
        "    def predict(self, x):\n",
        "        return x.dot(self.coef_)"
      ],
      "metadata": {
        "id": "f3lVcoDbVBTv"
      },
      "execution_count": 4,
      "outputs": []
    },
    {
      "cell_type": "code",
      "source": [
        "n = 200\n",
        "p = 1200"
      ],
      "metadata": {
        "id": "SWfZMlXUDQg5"
      },
      "execution_count": 5,
      "outputs": []
    },
    {
      "cell_type": "code",
      "source": [
        "[1]*7"
      ],
      "metadata": {
        "colab": {
          "base_uri": "https://localhost:8080/"
        },
        "id": "vgTPpQ03D3iF",
        "outputId": "d6c2912d-8e9e-4035-b01b-c15ddd976c76"
      },
      "execution_count": null,
      "outputs": [
        {
          "output_type": "execute_result",
          "data": {
            "text/plain": [
              "[1, 1, 1, 1, 1, 1, 1]"
            ]
          },
          "metadata": {},
          "execution_count": 5
        }
      ]
    },
    {
      "cell_type": "code",
      "source": [
        "[0]*25"
      ],
      "metadata": {
        "colab": {
          "base_uri": "https://localhost:8080/"
        },
        "id": "aqF-MqoYD3ki",
        "outputId": "53aebb5e-e466-4195-85b1-554cb80e6c1a"
      },
      "execution_count": null,
      "outputs": [
        {
          "output_type": "execute_result",
          "data": {
            "text/plain": [
              "[0, 0, 0, 0, 0, 0, 0, 0, 0, 0, 0, 0, 0, 0, 0, 0, 0, 0, 0, 0, 0, 0, 0, 0, 0]"
            ]
          },
          "metadata": {},
          "execution_count": 6
        }
      ]
    },
    {
      "cell_type": "code",
      "source": [
        "beta_star = np.concatenate(([1]*7,[0]*25,[0.25]*5,[0]*50,[0.7]*15,[0]*1098))"
      ],
      "metadata": {
        "id": "272aXQFRD3nD"
      },
      "execution_count": 12,
      "outputs": []
    },
    {
      "cell_type": "code",
      "source": [
        "# what we want to detect is the position of the actual information or \"signal\"\n",
        "pos = np.where(beta_star!=0)"
      ],
      "metadata": {
        "id": "9S9xmtprD3pi"
      },
      "execution_count": null,
      "outputs": []
    },
    {
      "cell_type": "code",
      "source": [
        "np.array(pos).shape[1]"
      ],
      "metadata": {
        "colab": {
          "base_uri": "https://localhost:8080/"
        },
        "id": "NBHRsJ2lE3Lq",
        "outputId": "e81b37c0-6cd4-4efa-a950-ff5c10fee3af"
      },
      "execution_count": null,
      "outputs": [
        {
          "output_type": "execute_result",
          "data": {
            "text/plain": [
              "27"
            ]
          },
          "metadata": {},
          "execution_count": 66
        }
      ]
    },
    {
      "cell_type": "code",
      "source": [
        "toeplitz([1,2,3,4])"
      ],
      "metadata": {
        "colab": {
          "base_uri": "https://localhost:8080/"
        },
        "id": "oo8ihT3OFPsO",
        "outputId": "425ee951-74d4-4b74-b2ca-87d4eb5eb2ba"
      },
      "execution_count": null,
      "outputs": [
        {
          "output_type": "execute_result",
          "data": {
            "text/plain": [
              "array([[1, 2, 3, 4],\n",
              "       [2, 1, 2, 3],\n",
              "       [3, 2, 1, 2],\n",
              "       [4, 3, 2, 1]])"
            ]
          },
          "metadata": {},
          "execution_count": 14
        }
      ]
    },
    {
      "cell_type": "code",
      "source": [
        "# we need toeplitz([1,0.8,0.8**2,0.8**3,0.8**4,...0.8**1199])\n",
        "v = []\n",
        "for i in range(p):\n",
        "  v.append(0.8**i)"
      ],
      "metadata": {
        "id": "dhl1j03iFwxr"
      },
      "execution_count": 6,
      "outputs": []
    },
    {
      "cell_type": "code",
      "source": [
        "v"
      ],
      "metadata": {
        "id": "rNnMvvpYGZqh"
      },
      "execution_count": null,
      "outputs": []
    },
    {
      "cell_type": "code",
      "source": [
        "mu = [0]*p\n",
        "sigma = 3.5\n",
        "# Generate the random samples.\n",
        "np.random.seed(123)\n",
        "x = np.random.multivariate_normal(mu, toeplitz(v), size=n) # this where we generate some fake data\n",
        "#y = X.dot(beta) + sigma*np.random.normal(0,1,[num_samples,1])\n",
        "y = np.matmul(x,beta_star).reshape(-1,1) + sigma*np.random.normal(0,1,size=(n,1))"
      ],
      "metadata": {
        "id": "tfvWnvtHGdu_"
      },
      "execution_count": 21,
      "outputs": []
    },
    {
      "cell_type": "code",
      "source": [
        "y.shape"
      ],
      "metadata": {
        "colab": {
          "base_uri": "https://localhost:8080/"
        },
        "id": "VyO3Bkr-SD3N",
        "outputId": "9e237fbc-47d6-4415-b511-5dc2bd638029"
      },
      "execution_count": 22,
      "outputs": [
        {
          "output_type": "execute_result",
          "data": {
            "text/plain": [
              "(200, 1)"
            ]
          },
          "metadata": {},
          "execution_count": 22
        }
      ]
    },
    {
      "cell_type": "code",
      "source": [
        "model = SQRTLasso(alpha=0.1)"
      ],
      "metadata": {
        "id": "J1SSbnCqHYK0"
      },
      "execution_count": 15,
      "outputs": []
    },
    {
      "cell_type": "code",
      "source": [
        "model.fit(x,y)"
      ],
      "metadata": {
        "id": "0IdDbgUvRvWd"
      },
      "execution_count": 23,
      "outputs": []
    },
    {
      "cell_type": "code",
      "source": [
        "model.coef_"
      ],
      "metadata": {
        "colab": {
          "base_uri": "https://localhost:8080/"
        },
        "id": "oknN5wZBR5Lw",
        "outputId": "00722d07-5192-4789-b4c2-35044deec6cb"
      },
      "execution_count": 18,
      "outputs": [
        {
          "output_type": "execute_result",
          "data": {
            "text/plain": [
              "array([ 1.22459961e+00,  1.52938092e+00,  7.80717575e-01, ...,\n",
              "       -1.84326301e-07,  8.60941267e-06,  7.35081035e-07])"
            ]
          },
          "metadata": {},
          "execution_count": 18
        }
      ]
    },
    {
      "cell_type": "code",
      "source": [
        "model.coef_"
      ],
      "metadata": {
        "colab": {
          "base_uri": "https://localhost:8080/"
        },
        "id": "WwK78l7BH771",
        "outputId": "db900494-d7c7-47a9-8001-247d1ef4c110"
      },
      "execution_count": 24,
      "outputs": [
        {
          "output_type": "execute_result",
          "data": {
            "text/plain": [
              "array([ 1.22459961e+00,  1.52938092e+00,  7.80717575e-01, ...,\n",
              "       -1.84326301e-07,  8.60941267e-06,  7.35081035e-07])"
            ]
          },
          "metadata": {},
          "execution_count": 24
        }
      ]
    },
    {
      "cell_type": "code",
      "source": [
        "# apply Lasso and check how many important variables are recovered\n",
        "model = Lasso(alpha=0.1,fit_intercept=False,max_iter=10000)"
      ],
      "metadata": {
        "id": "mRnKK9HGHYyz"
      },
      "execution_count": null,
      "outputs": []
    },
    {
      "cell_type": "code",
      "source": [
        "model.fit(x,y)"
      ],
      "metadata": {
        "colab": {
          "base_uri": "https://localhost:8080/"
        },
        "id": "Le5TsOBxIRkc",
        "outputId": "1cba2131-be59-43ec-d61b-d7ef1ccfd21a"
      },
      "execution_count": null,
      "outputs": [
        {
          "output_type": "execute_result",
          "data": {
            "text/plain": [
              "Lasso(alpha=0.1, fit_intercept=False, max_iter=10000)"
            ]
          },
          "metadata": {},
          "execution_count": 55
        }
      ]
    },
    {
      "cell_type": "code",
      "source": [
        "beta_hat = model.coef_"
      ],
      "metadata": {
        "id": "2-Z2kE2nISyV"
      },
      "execution_count": null,
      "outputs": []
    },
    {
      "cell_type": "code",
      "source": [
        "beta_hat.shape"
      ],
      "metadata": {
        "colab": {
          "base_uri": "https://localhost:8080/"
        },
        "id": "eqBvQLe7IlFI",
        "outputId": "d8b96b75-c249-4160-f770-054d0bf71c3e"
      },
      "execution_count": null,
      "outputs": [
        {
          "output_type": "execute_result",
          "data": {
            "text/plain": [
              "(1200,)"
            ]
          },
          "metadata": {},
          "execution_count": 57
        }
      ]
    },
    {
      "cell_type": "code",
      "source": [
        "beta_hat"
      ],
      "metadata": {
        "colab": {
          "base_uri": "https://localhost:8080/"
        },
        "id": "kGgP_VSgKTXR",
        "outputId": "28c64fc6-f1fb-4c0d-b155-91ee79998c7f"
      },
      "execution_count": null,
      "outputs": [
        {
          "output_type": "execute_result",
          "data": {
            "text/plain": [
              "array([ 0.87672602,  2.60465118,  0.16529373, ..., -0.        ,\n",
              "       -0.        , -0.        ])"
            ]
          },
          "metadata": {},
          "execution_count": 60
        }
      ]
    },
    {
      "cell_type": "code",
      "source": [
        "pos_lasso = np.where(beta_hat!=0)"
      ],
      "metadata": {
        "id": "skv44tbdImMZ"
      },
      "execution_count": null,
      "outputs": []
    },
    {
      "cell_type": "code",
      "source": [
        "pos_lasso"
      ],
      "metadata": {
        "colab": {
          "base_uri": "https://localhost:8080/"
        },
        "id": "gfSV1uL0I5VB",
        "outputId": "38af21d5-9ddb-435b-ff3e-54390f1c14c8"
      },
      "execution_count": null,
      "outputs": [
        {
          "output_type": "execute_result",
          "data": {
            "text/plain": [
              "(array([   0,    1,    2,    3,    4,    5,    6,    7,   18,   29,   32,\n",
              "          35,   39,   58,   63,   64,   86,   87,   88,   89,   90,   92,\n",
              "          94,   95,   96,   97,   99,  100,  101,  108,  133,  138,  143,\n",
              "         151,  156,  163,  164,  168,  180,  184,  191,  192,  200,  243,\n",
              "         249,  250,  258,  265,  270,  274,  285,  291,  297,  300,  301,\n",
              "         314,  356,  367,  374,  382,  391,  401,  413,  459,  469,  475,\n",
              "         480,  481,  482,  498,  503,  504,  515,  518,  538,  572,  575,\n",
              "         582,  586,  588,  592,  630,  634,  646,  652,  660,  666,  672,\n",
              "         684,  695,  717,  723,  724,  733,  734,  745,  758,  769,  770,\n",
              "         779,  785,  805,  807,  824,  858,  860,  871,  876,  881,  897,\n",
              "         904,  912,  920,  934,  947,  955,  973,  984,  993, 1003, 1010,\n",
              "        1012, 1018, 1025, 1026, 1031, 1033, 1037, 1054, 1068, 1093, 1094,\n",
              "        1134, 1140, 1141, 1142, 1146, 1147, 1159, 1166, 1167, 1187, 1194,\n",
              "        1196]),)"
            ]
          },
          "metadata": {},
          "execution_count": 59
        }
      ]
    },
    {
      "cell_type": "code",
      "source": [
        "np.array(pos_lasso).shape[1]"
      ],
      "metadata": {
        "colab": {
          "base_uri": "https://localhost:8080/"
        },
        "id": "NSCnd43oI62B",
        "outputId": "8a6378ec-abbb-40b6-e82e-45b824eabbd4"
      },
      "execution_count": null,
      "outputs": [
        {
          "output_type": "execute_result",
          "data": {
            "text/plain": [
              "144"
            ]
          },
          "metadata": {},
          "execution_count": 64
        }
      ]
    },
    {
      "cell_type": "code",
      "source": [
        "np.intersect1d(pos,pos_lasso).shape[0]"
      ],
      "metadata": {
        "colab": {
          "base_uri": "https://localhost:8080/"
        },
        "id": "O2ucxbpGKePb",
        "outputId": "d4c78197-608c-465d-fd5a-7913d10e556b"
      },
      "execution_count": null,
      "outputs": [
        {
          "output_type": "execute_result",
          "data": {
            "text/plain": [
              "21"
            ]
          },
          "metadata": {},
          "execution_count": 69
        }
      ]
    },
    {
      "cell_type": "code",
      "source": [
        ""
      ],
      "metadata": {
        "id": "ANmaNtndLLPW"
      },
      "execution_count": null,
      "outputs": []
    }
  ]
}