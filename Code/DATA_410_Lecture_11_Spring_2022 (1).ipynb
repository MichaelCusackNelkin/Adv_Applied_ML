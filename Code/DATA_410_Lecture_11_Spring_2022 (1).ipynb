{
  "nbformat": 4,
  "nbformat_minor": 0,
  "metadata": {
    "colab": {
      "name": "DATA 410  Lecture 11 - Spring 2022.ipynb",
      "provenance": [],
      "machine_shape": "hm"
    },
    "kernelspec": {
      "name": "python3",
      "display_name": "Python 3"
    },
    "accelerator": "GPU"
  },
  "cells": [
    {
      "cell_type": "markdown",
      "metadata": {
        "id": "-SOqMlRibziB"
      },
      "source": [
        "# DATA 410 Lecture 11 - Spring 2022"
      ]
    },
    {
      "cell_type": "code",
      "metadata": {
        "id": "qJCfZKCrwP70"
      },
      "source": [
        "# Update the statsmodels package\n",
        "#!pip install --upgrade Cython\n",
        "! pip install statsmodels==0.13.2"
      ],
      "execution_count": null,
      "outputs": []
    },
    {
      "cell_type": "code",
      "source": [
        "import statsmodels.api as sm\n",
        "sm.__version__"
      ],
      "metadata": {
        "colab": {
          "base_uri": "https://localhost:8080/",
          "height": 35
        },
        "id": "Y1V2EHaAoIcC",
        "outputId": "584eb7a2-fc9d-4f79-b338-5b10c25cfa12"
      },
      "execution_count": 3,
      "outputs": [
        {
          "output_type": "execute_result",
          "data": {
            "application/vnd.google.colaboratory.intrinsic+json": {
              "type": "string"
            },
            "text/plain": [
              "'0.13.2'"
            ]
          },
          "metadata": {},
          "execution_count": 3
        }
      ]
    },
    {
      "cell_type": "markdown",
      "metadata": {
        "id": "XDb8bGUrbV3Y"
      },
      "source": [
        "<font face=\"Chalkboard\" color=\"darkgreen\" size=6.5> Multivariate Models for Regression</font>"
      ]
    },
    {
      "cell_type": "markdown",
      "metadata": {
        "id": "Gkd4wL1JCMKj"
      },
      "source": [
        "## Multivariate Models\n",
        "\n",
        "In general we want\n",
        "\n",
        "$$ \\mathbb{E}(y|x_1,x_2,..x_p):=F(x_1,x_2,x_3,...x_p)$$\n",
        "\n",
        "where $F$ represents the model (regressor) we consider.\n",
        "\n",
        "### Variable Selection\n",
        "\n",
        "- We want to select only the features that are really important for our model.\n",
        "\n",
        "- If the functional input-output model is $Y = F(X_1,X_2,X_3,X_4,X_5...X_p)$ then we imagine that it is very possible that only a subset of the variables $X_1,X_2,X_3,X_4,X_5...X_p$ are important and we need to disconsider (eliminate from the model) those that are not relevant.\n",
        "\n",
        "- Programming and algorithms are based on equations, functions and statement evaluations.\n",
        "\n",
        "- To represent variable selection in a functional way, we can think of multiplying each variable from the model by a binary weight, a weight of $0$ means the feature is not important and a weight of $1$ means that it is important:\n",
        "\n",
        "$$\n",
        "Y = F(w_1\\cdot X_1,w_2\\cdot X_2,w_3\\cdot X_3,w_4\\cdot X_4,w_5\\cdot X_5...w_p\\cdot X_p)\n",
        "$$\n",
        "\n",
        "where the weights $w_i$ are either $0$ or $1.$\n",
        "\n",
        "The vector of binary weights $w=(w_1,w_2,w_3,...w_p)$ gives us what we call the ***sparsity pattern*** for the variable selection.\n",
        "\n",
        "### Critical Aspects\n",
        "\n",
        "1. What is the simplest choice for the function $F$?\n",
        "2. How do we perform variable selection?\n",
        "3. How do we accomodate nonlinear relationships?"
      ]
    },
    {
      "cell_type": "markdown",
      "metadata": {
        "id": "iCd-dl1RP66h"
      },
      "source": [
        "## Variable Selection\n",
        "\n",
        "In the case of multiple linear regression we have that\n",
        "\n",
        "$$F(X_1,X_2,...X_p)=\\beta_1 X_1+\\beta_2 X_2 + ...\\beta_p X_p$$\n",
        "\n",
        "and the sparsity pattern means that a subset of the $\\beta_1, \\beta_2, ...\\beta_p$ are equal to $0.$ \n",
        "\n",
        "So we assume \n",
        "\n",
        "$$ Y \\approx X\\cdot \\beta +\\sigma\\epsilon $$\n",
        "\n",
        "and we want the coefficients $\\beta.$ \n",
        "\n",
        "The \"classical\" way of solving is:\n",
        "\n",
        "$$X^{t}\\cdot Y \\approx X^{t}X\\cdot \\beta + \\sigma X^{t}\\epsilon$$ so we get $$ \\mathbb{E}(\\beta) = (X^{t}X)^{-1} X^{t}\\cdot \\mathbb{E}(Y)$$\n",
        "\n",
        "where $\\mathbb{E}(Y)$ denotes the expected value of $Y.$\n",
        "\n",
        "The questions that we explore are:\n",
        "\n",
        " - Why and how we know that we need variable selection.\n",
        " \n",
        " - How we measure the effects of variable selection on the model.\n",
        " \n",
        " - How to determine if the method of selecting a sparsity pattern is working in the context of our data. \n",
        "\n",
        "\n",
        "\n",
        "\n",
        "Let's assume that we have some data with three features, such as\n",
        "\n",
        "  Housing Area  |     Value   |    Property Tax  | Sales Price |\n",
        " -------------  |    ------   |   -------------  | ----------- |\n",
        "          1800  |       234   |             9.8  |       267.5\n",
        "          1980  |       244   |            10.5  |       278.2\n",
        "          2120  |       252   |            16.2  |       284.5\n",
        "          2500  |       280   |            18.4  |       310.4\n",
        "\n",
        "\n",
        "If this is the only data we have for these features do we need to do any variable selection for predicting the sales price with a linear model?\n",
        "\n",
        "\n",
        "\n",
        "If we try to fit the *Ordinary Least Squares* model (OLS) to determine the best fit what would we do?\n",
        "\n",
        "```r\n",
        "X <- matrix(c(1800,1980,2120, 2500, 234,244,252,280,9.8,10.5,16.2,18.4),4,3)\n",
        "Y <- c(267.5,278.2,284.5,310.4)\n",
        "model <- lm(Y~X)\n",
        "model\n",
        "```"
      ]
    },
    {
      "cell_type": "markdown",
      "metadata": {
        "id": "0u9v6O8GxMJv"
      },
      "source": [
        "## <font color= 'navy'> What does Rank Deficiency means and why we need Regularization</font>\n",
        "\n",
        "The assumption for multiple linear regression is\n",
        "\n",
        "$$\\large\n",
        "Y = X\\beta + \\sigma \\epsilon\n",
        "$$\n",
        "\n",
        "where $\\sigma$ is the standard deviatin of the noise. Further, we assume that the \"noise\" $\\epsilon$ is independent and identically distributed with a zero mean.\n",
        "\n",
        "We believe that the output is a linear combination of the input features.\n",
        "\n",
        "Thus, if we would like to solve for the \"weights\" $\\beta$ we may consider\n",
        "\n",
        "$$\\large\n",
        "X^tY = X^tX\\beta+\\sigma X^t\\epsilon\n",
        "$$\n",
        "\n",
        "And if the matrix $X^tX$ is invertible then we can solve for expected value of $\\beta$:\n",
        "\n",
        "$$\\large\n",
        "\\mathbb{E}(\\beta) = (X^tX)^{-1}X^t Y\n",
        "$$\n",
        "\n",
        "We can show by using *Linear Algebra* that the OLS solution obtained form minimizing the sum of the square residuals is equivalent.\n",
        "\n",
        "###<font color='green'> We can test whether the matrix $X^tX$ is invertible by simply computing its determinant and checking that it is not zero.\n",
        "\n",
        "###<font color='crimson'> IMPORTANT: When the matrix $X^tX$ is not invertible we cannot apply this method to get $\\mathbb{E}(\\beta)$. In this case if we minimize the sum of the squared residuals the algorithm cannot find just *one* best solution.</font>\n"
      ]
    },
    {
      "cell_type": "code",
      "metadata": {
        "id": "QQnu-WXboxmJ"
      },
      "source": [
        "import numpy as np\n",
        "import pandas as pd\n",
        "\n",
        "ex1 = pd.read_csv('drive/MyDrive/Colab Notebooks/dat.csv')"
      ],
      "execution_count": null,
      "outputs": []
    },
    {
      "cell_type": "code",
      "metadata": {
        "id": "UJ-A5W2PqOzn"
      },
      "source": [
        "x  = ex1.iloc[:,0:-1].values\n",
        "y  = ex1.iloc[:,-1].values"
      ],
      "execution_count": null,
      "outputs": []
    },
    {
      "cell_type": "code",
      "metadata": {
        "colab": {
          "base_uri": "https://localhost:8080/"
        },
        "id": "w5EM29SKt8t8",
        "outputId": "19242381-18e9-474a-cc2a-bf30874ef00b"
      },
      "source": [
        "np.linalg.det(np.matmul(np.transpose(x),x))"
      ],
      "execution_count": null,
      "outputs": [
        {
          "output_type": "execute_result",
          "data": {
            "text/plain": [
              "-9.648236308181509e-17"
            ]
          },
          "metadata": {
            "tags": []
          },
          "execution_count": 3
        }
      ]
    },
    {
      "cell_type": "code",
      "metadata": {
        "colab": {
          "base_uri": "https://localhost:8080/"
        },
        "id": "xfgjvcN5uz_M",
        "outputId": "321a3d25-5c53-4616-bc73-1b472cd1c092"
      },
      "source": [
        "np.matmul(np.matmul(np.transpose(x),x),np.linalg.inv(np.matmul(np.transpose(x),x)))"
      ],
      "execution_count": null,
      "outputs": [
        {
          "output_type": "execute_result",
          "data": {
            "text/plain": [
              "array([[ 1.05257211e+00, -1.90340909e-02, -2.64717717e-03,\n",
              "        -1.43378436e-02,  4.32669719e-02,  1.84772727e+00],\n",
              "       [ 7.60892563e-03,  9.85227273e-01,  2.45992291e-04,\n",
              "        -3.03785355e-03, -3.76722117e-02,  3.81818182e-01],\n",
              "       [ 2.38281250e+01, -1.72500000e+01,  1.46557617e+00,\n",
              "        -6.73632812e+00, -6.47187500e+01, -1.38000000e+02],\n",
              "       [ 4.63281250e+00,  5.18750000e+01,  9.26513672e-02,\n",
              "        -3.79882812e-01, -3.17187500e+00,  3.10000000e+01],\n",
              "       [-1.42137492e-02,  2.40246212e-01, -5.56519177e-05,\n",
              "        -8.29598982e-02,  1.40209034e+00,  1.92196970e+00],\n",
              "       [ 3.32031250e-02,  2.18750000e-01,  1.67846680e-03,\n",
              "        -1.68457031e-02, -4.29687500e-02,  7.50000000e-01]])"
            ]
          },
          "metadata": {
            "tags": []
          },
          "execution_count": 26
        }
      ]
    },
    {
      "cell_type": "markdown",
      "metadata": {
        "id": "BgIdRhXXcnv_"
      },
      "source": [
        "## <font color='navy'> The difference between L1 and L2 norms </font>\n",
        "\n",
        "In the following example the L2 norm of the vector $\\vec{AB}$ is 5 and the L1 norm is $4+3=7$.\n",
        "\n",
        "<figure>\n",
        "<center>\n",
        "<img src='https://drive.google.com/uc?id=1IIy5df8JcgHcI8oWxJbze9PiW_cUaIZD' \n",
        "width='550px' />\n",
        "<figcaption>The difference between the L1 and L2 norms</figcaption></center>\n",
        "</figure>\n"
      ]
    },
    {
      "cell_type": "markdown",
      "metadata": {
        "id": "A16XbxEnxMRI"
      },
      "source": [
        "## <font color= 'navy'> L2 Regularization - Tikhonov 1940's </font>\n",
        "\n",
        "The L2 norm is \n",
        "\n",
        "$$\n",
        "\\|\\beta\\|_2:=\\sqrt{\\sum_{j=1}^{p}\\beta_j^2}\n",
        "$$\n",
        "\n",
        "The Ridge model (also known as the *Tikhonov regularization*) consists of *learning* the weights by the following optimization:\n",
        "\n",
        "$$\\text{minimize} \\frac{1}{n}\\sum_{i=1}^{n}\\left(\\text{Residual}_i\\right)^2 + \\alpha \\sum\\limits_{j=1}^{p}\\beta_j^2$$\n",
        "\n",
        "where $alpha$ is a constant that can be adjusted based on a feedback loop so it is a hyperparameter.\n",
        "\n",
        "The hyperparameter $\\alpha$ is becoming a \"tunning\" parameter.\n",
        "\n",
        "This optimization is equivalent to minimizing the sum of the square residuals with a constraint on the sum of the squared weights\n",
        "\n",
        "$$\\text{minimize} \\frac{1}{n}\\sum_{i=1}^{n}\\left(\\text{Residual}_i\\right)^2$$\n",
        "\n",
        "subject to \n",
        "\n",
        "$$\n",
        " \\sum\\limits_{j=1}^{p}\\beta_j^2 < M\n",
        "$$"
      ]
    },
    {
      "cell_type": "markdown",
      "metadata": {
        "id": "TH9B6jEbxMXo"
      },
      "source": [
        "## <font color= 'navy'> L1 Regularization as known as Lasso (Tibshirani, 1993) </font>\n",
        "\n",
        "The L1 norm is \n",
        "\n",
        "$$\n",
        "\\|\\beta\\|_1:=\\sum_{j=1}^{p}|\\beta_j|\n",
        "$$\n",
        "\n",
        "The Lasso model  consists of *learning* the weights by the following optimization:\n",
        "\n",
        "$$\\text{minimize} \\frac{1}{n}\\sum_{i=1}^{n}\\left(\\text{Residual}_i\\right)^2 + \\alpha \\|\\beta\\|_1$$\n",
        "\n",
        "where $alpha$ is a constant that can be adjusted based on a feedback loop so it is a hyperparameter.\n",
        "\n",
        "This optimization is equivalent to minimizing the sum of the square residuals with a constraint on the sum of the squared weights\n",
        "\n",
        "$$\\text{minimize} \\frac{1}{n}\\sum_{i=1}^{n}\\left(\\text{Residual}_i\\right)^2$$\n",
        "\n",
        "subject to \n",
        "\n",
        "$$\n",
        " \\sum\\limits_{j=1}^{p}|\\beta_j| < M\n",
        "$$"
      ]
    },
    {
      "cell_type": "markdown",
      "metadata": {
        "id": "-J4gn3nZAUe_"
      },
      "source": [
        "##<font color='navy'> Geometric comparison in 2D between L1 and L2 norms\n",
        "\n",
        "<figure>\n",
        "<center>\n",
        "<img src='https://drive.google.com/uc?id=13uBQRlI_-LNfA8yLphY3fHChoEbjqOEW' \n",
        "width='500px' />\n",
        "<figcaption>Difference between L1 and L2</figcaption></center>\n",
        "</figure>\n"
      ]
    },
    {
      "cell_type": "markdown",
      "metadata": {
        "id": "zrPhoDWIJ04y"
      },
      "source": [
        "##<font color= 'navy'> Elastic Net Regularization (2005) </font>\n",
        "\n",
        "Tha main idea is to combine the L2 and L1 regularizations in a *convex* way, such as:\n",
        "\n",
        "$$\n",
        "\\lambda\\cdot \\sum\\limits_{j=1}^{p}|\\beta_j| + (1-\\lambda)\\cdot\\sum\\limits_{j=1}^{p}\\beta_j^2\n",
        "$$\n",
        "\n",
        "Here $0\\leq\\lambda\\leq1$, $\\alpha$ is formulated via the ratio between the two penalties such as $\\text{l1_ratio}=\\frac{\\lambda}{1-\\lambda}$\n",
        "\n",
        "The Elstic Net regularization consists of *learning* the weights by solving the following optimization problem:\n",
        "\n",
        "$$\\text{minimize} \\frac{1}{n}\\sum_{i=1}^{n}\\left(\\text{Residual}_i\\right)^2 + \\alpha\\left( \\lambda\\cdot \\sum\\limits_{j=1}^{p}|\\beta_j| + (1-\\lambda)\\cdot\\sum\\limits_{j=1}^{p}\\beta_j^2\\right)$$\n",
        "\n",
        "So with this rgularization approach we have two hyperparameters that we need to decide on."
      ]
    },
    {
      "cell_type": "markdown",
      "metadata": {
        "id": "hNZ7QSpfIVQP"
      },
      "source": [
        "## Critical Thinking: When do we know we should use regularization:\n",
        "\n",
        "- when we have to learn more weights than the number of independent observations (this is the case in deep learning).\n",
        "- when we have strong multiple correlations among the input features (if the correlation between two features is very strong then we get a rank defficient case - please, for fun see https://www.tylervigen.com/spurious-correlations\n"
      ]
    },
    {
      "cell_type": "code",
      "metadata": {
        "id": "1NhfDMt1bVyx"
      },
      "source": [
        "# imports\n",
        "from sklearn.linear_model import Ridge, Lasso, ElasticNet\n",
        "from sklearn.linear_model import LinearRegression"
      ],
      "execution_count": null,
      "outputs": []
    },
    {
      "cell_type": "code",
      "metadata": {
        "id": "DHRib_Kxih_q"
      },
      "source": [
        "lr = Ridge(alpha=0.01)\n"
      ],
      "execution_count": null,
      "outputs": []
    },
    {
      "cell_type": "code",
      "metadata": {
        "colab": {
          "base_uri": "https://localhost:8080/"
        },
        "id": "TT_rRda2i09_",
        "outputId": "613ddd6f-e089-40b8-9b49-a33e83883c32"
      },
      "source": [
        "# we got the regularized coeffiecients by Ridge regression\n",
        "lr.coef_"
      ],
      "execution_count": null,
      "outputs": [
        {
          "output_type": "execute_result",
          "data": {
            "text/plain": [
              "array([[ 0.05499038, -0.0880771 ,  0.03861881,  0.4372389 , -0.47123514]])"
            ]
          },
          "metadata": {
            "tags": []
          },
          "execution_count": 49
        }
      ]
    },
    {
      "cell_type": "code",
      "metadata": {
        "id": "Fw2v10cQ7C2h"
      },
      "source": [
        "# general imports\n",
        "from math import ceil\n",
        "from scipy import linalg\n",
        "from scipy.interpolate import interp1d\n",
        "import matplotlib.pyplot as plt\n",
        "from matplotlib import pyplot"
      ],
      "execution_count": null,
      "outputs": []
    },
    {
      "cell_type": "code",
      "metadata": {
        "colab": {
          "base_uri": "https://localhost:8080/",
          "height": 435
        },
        "id": "BJcivn5LeIHY",
        "outputId": "0cabba81-84c4-42b3-fbf7-71c0bf48d1a0"
      },
      "source": [
        "df = pd.read_csv('drive/MyDrive/Colab Notebooks/Boston Housing Prices.csv')\n",
        "df"
      ],
      "execution_count": null,
      "outputs": [
        {
          "output_type": "execute_result",
          "data": {
            "text/html": [
              "<div>\n",
              "<style scoped>\n",
              "    .dataframe tbody tr th:only-of-type {\n",
              "        vertical-align: middle;\n",
              "    }\n",
              "\n",
              "    .dataframe tbody tr th {\n",
              "        vertical-align: top;\n",
              "    }\n",
              "\n",
              "    .dataframe thead th {\n",
              "        text-align: right;\n",
              "    }\n",
              "</style>\n",
              "<table border=\"1\" class=\"dataframe\">\n",
              "  <thead>\n",
              "    <tr style=\"text-align: right;\">\n",
              "      <th></th>\n",
              "      <th>town</th>\n",
              "      <th>tract</th>\n",
              "      <th>longitude</th>\n",
              "      <th>latitude</th>\n",
              "      <th>crime</th>\n",
              "      <th>residential</th>\n",
              "      <th>industrial</th>\n",
              "      <th>river</th>\n",
              "      <th>nox</th>\n",
              "      <th>rooms</th>\n",
              "      <th>older</th>\n",
              "      <th>distance</th>\n",
              "      <th>highway</th>\n",
              "      <th>tax</th>\n",
              "      <th>ptratio</th>\n",
              "      <th>lstat</th>\n",
              "      <th>cmedv</th>\n",
              "    </tr>\n",
              "  </thead>\n",
              "  <tbody>\n",
              "    <tr>\n",
              "      <th>0</th>\n",
              "      <td>Nahant</td>\n",
              "      <td>2011</td>\n",
              "      <td>-70.955002</td>\n",
              "      <td>42.255001</td>\n",
              "      <td>0.00632</td>\n",
              "      <td>18.0</td>\n",
              "      <td>2.31</td>\n",
              "      <td>no</td>\n",
              "      <td>0.538</td>\n",
              "      <td>6.575</td>\n",
              "      <td>65.199997</td>\n",
              "      <td>4.0900</td>\n",
              "      <td>1</td>\n",
              "      <td>296</td>\n",
              "      <td>15.300000</td>\n",
              "      <td>4.98</td>\n",
              "      <td>24.000000</td>\n",
              "    </tr>\n",
              "    <tr>\n",
              "      <th>1</th>\n",
              "      <td>Swampscott</td>\n",
              "      <td>2021</td>\n",
              "      <td>-70.949997</td>\n",
              "      <td>42.287498</td>\n",
              "      <td>0.02731</td>\n",
              "      <td>0.0</td>\n",
              "      <td>7.07</td>\n",
              "      <td>no</td>\n",
              "      <td>0.469</td>\n",
              "      <td>6.421</td>\n",
              "      <td>78.900002</td>\n",
              "      <td>4.9671</td>\n",
              "      <td>2</td>\n",
              "      <td>242</td>\n",
              "      <td>17.799999</td>\n",
              "      <td>9.14</td>\n",
              "      <td>21.600000</td>\n",
              "    </tr>\n",
              "    <tr>\n",
              "      <th>2</th>\n",
              "      <td>Swampscott</td>\n",
              "      <td>2022</td>\n",
              "      <td>-70.935997</td>\n",
              "      <td>42.283001</td>\n",
              "      <td>0.02729</td>\n",
              "      <td>0.0</td>\n",
              "      <td>7.07</td>\n",
              "      <td>no</td>\n",
              "      <td>0.469</td>\n",
              "      <td>7.185</td>\n",
              "      <td>61.099998</td>\n",
              "      <td>4.9671</td>\n",
              "      <td>2</td>\n",
              "      <td>242</td>\n",
              "      <td>17.799999</td>\n",
              "      <td>4.03</td>\n",
              "      <td>34.700001</td>\n",
              "    </tr>\n",
              "    <tr>\n",
              "      <th>3</th>\n",
              "      <td>Marblehead</td>\n",
              "      <td>2031</td>\n",
              "      <td>-70.928001</td>\n",
              "      <td>42.292999</td>\n",
              "      <td>0.03237</td>\n",
              "      <td>0.0</td>\n",
              "      <td>2.18</td>\n",
              "      <td>no</td>\n",
              "      <td>0.458</td>\n",
              "      <td>6.998</td>\n",
              "      <td>45.799999</td>\n",
              "      <td>6.0622</td>\n",
              "      <td>3</td>\n",
              "      <td>222</td>\n",
              "      <td>18.700001</td>\n",
              "      <td>2.94</td>\n",
              "      <td>33.400002</td>\n",
              "    </tr>\n",
              "    <tr>\n",
              "      <th>4</th>\n",
              "      <td>Marblehead</td>\n",
              "      <td>2032</td>\n",
              "      <td>-70.921997</td>\n",
              "      <td>42.298000</td>\n",
              "      <td>0.06905</td>\n",
              "      <td>0.0</td>\n",
              "      <td>2.18</td>\n",
              "      <td>no</td>\n",
              "      <td>0.458</td>\n",
              "      <td>7.147</td>\n",
              "      <td>54.200001</td>\n",
              "      <td>6.0622</td>\n",
              "      <td>3</td>\n",
              "      <td>222</td>\n",
              "      <td>18.700001</td>\n",
              "      <td>5.33</td>\n",
              "      <td>36.200001</td>\n",
              "    </tr>\n",
              "    <tr>\n",
              "      <th>...</th>\n",
              "      <td>...</td>\n",
              "      <td>...</td>\n",
              "      <td>...</td>\n",
              "      <td>...</td>\n",
              "      <td>...</td>\n",
              "      <td>...</td>\n",
              "      <td>...</td>\n",
              "      <td>...</td>\n",
              "      <td>...</td>\n",
              "      <td>...</td>\n",
              "      <td>...</td>\n",
              "      <td>...</td>\n",
              "      <td>...</td>\n",
              "      <td>...</td>\n",
              "      <td>...</td>\n",
              "      <td>...</td>\n",
              "      <td>...</td>\n",
              "    </tr>\n",
              "    <tr>\n",
              "      <th>501</th>\n",
              "      <td>Winthrop</td>\n",
              "      <td>1801</td>\n",
              "      <td>-70.986000</td>\n",
              "      <td>42.231201</td>\n",
              "      <td>0.06263</td>\n",
              "      <td>0.0</td>\n",
              "      <td>11.93</td>\n",
              "      <td>no</td>\n",
              "      <td>0.573</td>\n",
              "      <td>6.593</td>\n",
              "      <td>69.099998</td>\n",
              "      <td>2.4786</td>\n",
              "      <td>1</td>\n",
              "      <td>273</td>\n",
              "      <td>21.000000</td>\n",
              "      <td>9.67</td>\n",
              "      <td>22.400000</td>\n",
              "    </tr>\n",
              "    <tr>\n",
              "      <th>502</th>\n",
              "      <td>Winthrop</td>\n",
              "      <td>1802</td>\n",
              "      <td>-70.990997</td>\n",
              "      <td>42.227501</td>\n",
              "      <td>0.04527</td>\n",
              "      <td>0.0</td>\n",
              "      <td>11.93</td>\n",
              "      <td>no</td>\n",
              "      <td>0.573</td>\n",
              "      <td>6.120</td>\n",
              "      <td>76.699997</td>\n",
              "      <td>2.2875</td>\n",
              "      <td>1</td>\n",
              "      <td>273</td>\n",
              "      <td>21.000000</td>\n",
              "      <td>9.08</td>\n",
              "      <td>20.600000</td>\n",
              "    </tr>\n",
              "    <tr>\n",
              "      <th>503</th>\n",
              "      <td>Winthrop</td>\n",
              "      <td>1803</td>\n",
              "      <td>-70.994797</td>\n",
              "      <td>42.226002</td>\n",
              "      <td>0.06076</td>\n",
              "      <td>0.0</td>\n",
              "      <td>11.93</td>\n",
              "      <td>no</td>\n",
              "      <td>0.573</td>\n",
              "      <td>6.976</td>\n",
              "      <td>91.000000</td>\n",
              "      <td>2.1675</td>\n",
              "      <td>1</td>\n",
              "      <td>273</td>\n",
              "      <td>21.000000</td>\n",
              "      <td>5.64</td>\n",
              "      <td>23.900000</td>\n",
              "    </tr>\n",
              "    <tr>\n",
              "      <th>504</th>\n",
              "      <td>Winthrop</td>\n",
              "      <td>1804</td>\n",
              "      <td>-70.987503</td>\n",
              "      <td>42.223999</td>\n",
              "      <td>0.10959</td>\n",
              "      <td>0.0</td>\n",
              "      <td>11.93</td>\n",
              "      <td>no</td>\n",
              "      <td>0.573</td>\n",
              "      <td>6.794</td>\n",
              "      <td>89.300003</td>\n",
              "      <td>2.3889</td>\n",
              "      <td>1</td>\n",
              "      <td>273</td>\n",
              "      <td>21.000000</td>\n",
              "      <td>6.48</td>\n",
              "      <td>22.000000</td>\n",
              "    </tr>\n",
              "    <tr>\n",
              "      <th>505</th>\n",
              "      <td>Winthrop</td>\n",
              "      <td>1805</td>\n",
              "      <td>-70.982498</td>\n",
              "      <td>42.221001</td>\n",
              "      <td>0.04741</td>\n",
              "      <td>0.0</td>\n",
              "      <td>11.93</td>\n",
              "      <td>no</td>\n",
              "      <td>0.573</td>\n",
              "      <td>6.030</td>\n",
              "      <td>80.800003</td>\n",
              "      <td>2.5050</td>\n",
              "      <td>1</td>\n",
              "      <td>273</td>\n",
              "      <td>21.000000</td>\n",
              "      <td>7.88</td>\n",
              "      <td>19.000000</td>\n",
              "    </tr>\n",
              "  </tbody>\n",
              "</table>\n",
              "<p>506 rows × 17 columns</p>\n",
              "</div>"
            ],
            "text/plain": [
              "           town  tract  longitude   latitude  ...  tax    ptratio  lstat      cmedv\n",
              "0        Nahant   2011 -70.955002  42.255001  ...  296  15.300000   4.98  24.000000\n",
              "1    Swampscott   2021 -70.949997  42.287498  ...  242  17.799999   9.14  21.600000\n",
              "2    Swampscott   2022 -70.935997  42.283001  ...  242  17.799999   4.03  34.700001\n",
              "3    Marblehead   2031 -70.928001  42.292999  ...  222  18.700001   2.94  33.400002\n",
              "4    Marblehead   2032 -70.921997  42.298000  ...  222  18.700001   5.33  36.200001\n",
              "..          ...    ...        ...        ...  ...  ...        ...    ...        ...\n",
              "501    Winthrop   1801 -70.986000  42.231201  ...  273  21.000000   9.67  22.400000\n",
              "502    Winthrop   1802 -70.990997  42.227501  ...  273  21.000000   9.08  20.600000\n",
              "503    Winthrop   1803 -70.994797  42.226002  ...  273  21.000000   5.64  23.900000\n",
              "504    Winthrop   1804 -70.987503  42.223999  ...  273  21.000000   6.48  22.000000\n",
              "505    Winthrop   1805 -70.982498  42.221001  ...  273  21.000000   7.88  19.000000\n",
              "\n",
              "[506 rows x 17 columns]"
            ]
          },
          "metadata": {
            "tags": []
          },
          "execution_count": 44
        }
      ]
    },
    {
      "cell_type": "markdown",
      "metadata": {
        "id": "qMCkMlgDjskW"
      },
      "source": [
        "Extract the features we want (specifying them without any criteria is not optimal)"
      ]
    },
    {
      "cell_type": "code",
      "metadata": {
        "id": "BeBpYgM1eenu"
      },
      "source": [
        "features = ['crime','rooms','residential','industrial','nox','older','distance','highway','tax','ptratio','lstat']\n",
        "X = np.array(df[features])\n",
        "y = np.array(df['cmedv']).reshape(-1,1)\n",
        "dat = np.concatenate([X,y], axis=1)"
      ],
      "execution_count": null,
      "outputs": []
    },
    {
      "cell_type": "code",
      "metadata": {
        "id": "pDw6o1_kmkBT"
      },
      "source": [
        "from sklearn.metrics import mean_absolute_error"
      ],
      "execution_count": null,
      "outputs": []
    },
    {
      "cell_type": "code",
      "metadata": {
        "id": "MnigJyhefQpt"
      },
      "source": [
        "from sklearn.model_selection import train_test_split as tts\n",
        "dat_train, dat_test = tts(dat, test_size=0.3, random_state=1234)"
      ],
      "execution_count": null,
      "outputs": []
    },
    {
      "cell_type": "code",
      "metadata": {
        "id": "WjjIdU51cToi",
        "colab": {
          "base_uri": "https://localhost:8080/"
        },
        "outputId": "71220f47-5de5-4c61-fb9c-8e7df9adc78f"
      },
      "source": [
        "from sklearn.linear_model import LinearRegression\n",
        "lm = LinearRegression()\n",
        "lm.fit(dat_train[:,:-1],dat_train[:,-1])\n",
        "yhat_lm = lm.predict(dat_test[:,:-1])\n",
        "mae_lm = mean_absolute_error(dat_test[:,-1], yhat_lm)\n",
        "print(\"MAE Linear Model = ${:,.2f}\".format(1000*mae_lm))"
      ],
      "execution_count": null,
      "outputs": [
        {
          "output_type": "stream",
          "text": [
            "MAE Linear Model = $3,640.02\n"
          ],
          "name": "stdout"
        }
      ]
    },
    {
      "cell_type": "markdown",
      "metadata": {
        "id": "1xOdbJpzp_ck"
      },
      "source": [
        "### Critical Thinking Question: Is this the best we can do with a linear model?"
      ]
    },
    {
      "cell_type": "code",
      "metadata": {
        "id": "vmwwytkL0hkH"
      },
      "source": [
        "lr = Ridge(alpha=1)"
      ],
      "execution_count": null,
      "outputs": []
    },
    {
      "cell_type": "code",
      "metadata": {
        "id": "IwintZPdp-X3",
        "colab": {
          "base_uri": "https://localhost:8080/"
        },
        "outputId": "cc696861-b450-4a20-9044-e6c012ce868d"
      },
      "source": [
        "lr.fit(dat_train[:,:-1],dat_train[:,-1])\n",
        "yhat_lr = lr.predict(dat_test[:,:-1])\n",
        "mae_lr = mean_absolute_error(dat_test[:,-1], yhat_lr)\n",
        "print(\"MAE Linear Model = ${:,.2f}\".format(1000*mae_lr))"
      ],
      "execution_count": null,
      "outputs": [
        {
          "output_type": "stream",
          "text": [
            "MAE Linear Model = $3,600.77\n"
          ],
          "name": "stdout"
        }
      ]
    },
    {
      "cell_type": "code",
      "metadata": {
        "id": "Nm3rXNJtuRJW"
      },
      "source": [
        "ls = Lasso(alpha=0.1)"
      ],
      "execution_count": null,
      "outputs": []
    },
    {
      "cell_type": "code",
      "metadata": {
        "colab": {
          "base_uri": "https://localhost:8080/"
        },
        "id": "0JjQUC-m1CMt",
        "outputId": "b89bb501-1438-47a0-e62a-64786c1eb0c4"
      },
      "source": [
        "ls = Lasso(alpha=0.01)\n",
        "ls.fit(dat_train[:,:-1],dat_train[:,-1])\n",
        "yhat_ls = ls.predict(dat_test[:,:-1])\n",
        "mae_ls = mean_absolute_error(dat_test[:,-1], yhat_ls)\n",
        "print(\"MAE Linear Model = ${:,.2f}\".format(1000*mae_ls))"
      ],
      "execution_count": null,
      "outputs": [
        {
          "output_type": "stream",
          "text": [
            "MAE Linear Model = $3,619.90\n"
          ],
          "name": "stdout"
        }
      ]
    },
    {
      "cell_type": "code",
      "metadata": {
        "id": "cnnV1fD8MDq3"
      },
      "source": [
        "from sklearn.preprocessing import StandardScaler\n",
        "scale = StandardScaler()\n",
        "# we apply the scaling only for the input features"
      ],
      "execution_count": null,
      "outputs": []
    },
    {
      "cell_type": "code",
      "metadata": {
        "colab": {
          "base_uri": "https://localhost:8080/"
        },
        "id": "kjo7jxLtMEKN",
        "outputId": "7487e742-ae87-4275-c7d5-8e3adb06f27d"
      },
      "source": [
        "lr = Ridge(alpha=45)\n",
        "lr.fit(scale.fit_transform(dat_train[:,:-1]),dat_train[:,-1])\n",
        "yhat_lr = lr.predict(scale.transform(dat_test[:,:-1]))\n",
        "mae_lr = mean_absolute_error(dat_test[:,-1], yhat_lr)\n",
        "print(\"MAE Linear Model = ${:,.2f}\".format(1000*mae_lr))"
      ],
      "execution_count": null,
      "outputs": [
        {
          "output_type": "stream",
          "text": [
            "MAE Linear Model = $3,443.23\n"
          ],
          "name": "stdout"
        }
      ]
    },
    {
      "cell_type": "code",
      "metadata": {
        "id": "p_PneTYdMEU5"
      },
      "source": [
        "maelr = []\n",
        "for i in range(100):\n",
        "  lr = Ridge(alpha=i)\n",
        "  lr.fit(scale.fit_transform(dat_train[:,:-1]),dat_train[:,-1])\n",
        "  yhat_lr = lr.predict(scale.transform(dat_test[:,:-1]))\n",
        "  maelr.append(mean_absolute_error(dat_test[:,-1], yhat_lr))"
      ],
      "execution_count": null,
      "outputs": []
    },
    {
      "cell_type": "code",
      "metadata": {
        "colab": {
          "base_uri": "https://localhost:8080/",
          "height": 283
        },
        "id": "9kquTh1RONQG",
        "outputId": "00a06848-b039-418c-fc76-a7d5adb074ae"
      },
      "source": [
        "plt.scatter(range(100),maelr)"
      ],
      "execution_count": null,
      "outputs": [
        {
          "output_type": "execute_result",
          "data": {
            "text/plain": [
              "<matplotlib.collections.PathCollection at 0x7f740e996da0>"
            ]
          },
          "metadata": {
            "tags": []
          },
          "execution_count": 87
        },
        {
          "output_type": "display_data",
          "data": {
            "image/png": "[encoded data removed]",
            "text/plain": [
              "<Figure size 432x288 with 1 Axes>"
            ]
          },
          "metadata": {
            "tags": [],
            "image/png": {
              "width": 384,
              "height": 248
            },
            "needs_background": "light"
          }
        }
      ]
    },
    {
      "cell_type": "code",
      "metadata": {
        "colab": {
          "base_uri": "https://localhost:8080/"
        },
        "id": "dHoFy7yZ1g05",
        "outputId": "dad9f7e0-1b7b-4f03-e226-22961c63141c"
      },
      "source": [
        "ls = Lasso(alpha=0.16)\n",
        "ls.fit(scale.fit_transform(dat_train[:,:-1]),dat_train[:,-1])\n",
        "yhat_ls = ls.predict(scale.transform(dat_test[:,:-1]))\n",
        "mae_ls = mean_absolute_error(dat_test[:,-1], yhat_ls)\n",
        "print(\"MAE Lasso Model = ${:,.2f}\".format(1000*mae_ls))"
      ],
      "execution_count": null,
      "outputs": [
        {
          "output_type": "stream",
          "text": [
            "MAE Lasso Model = $3,499.16\n"
          ],
          "name": "stdout"
        }
      ]
    },
    {
      "cell_type": "code",
      "metadata": {
        "id": "ZttIToDaPHRo"
      },
      "source": [
        "v = np.arange(0,1,0.01)"
      ],
      "execution_count": null,
      "outputs": []
    },
    {
      "cell_type": "code",
      "metadata": {
        "colab": {
          "base_uri": "https://localhost:8080/"
        },
        "id": "4U8TW9aWPOKb",
        "outputId": "7c8657d3-612d-4795-ca98-53d6f018ca09"
      },
      "source": [
        "v.shape"
      ],
      "execution_count": null,
      "outputs": [
        {
          "output_type": "execute_result",
          "data": {
            "text/plain": [
              "(100,)"
            ]
          },
          "metadata": {
            "tags": []
          },
          "execution_count": 103
        }
      ]
    },
    {
      "cell_type": "code",
      "metadata": {
        "colab": {
          "base_uri": "https://localhost:8080/"
        },
        "id": "fhuCqqRUPUSQ",
        "outputId": "2508c52c-65f1-43f4-eaea-4e3b57d395be"
      },
      "source": [
        "maels = []\n",
        "for i in range(100):\n",
        "  ls = Lasso(alpha=v[i])\n",
        "  ls.fit(scale.fit_transform(dat_train[:,:-1]),dat_train[:,-1])\n",
        "  yhat_ls = ls.predict(scale.transform(dat_test[:,:-1]))\n",
        "  maels.append(mean_absolute_error(dat_test[:,-1], yhat_ls))"
      ],
      "execution_count": null,
      "outputs": [
        {
          "output_type": "stream",
          "text": [
            "/usr/local/lib/python3.6/dist-packages/ipykernel_launcher.py:4: UserWarning: With alpha=0, this algorithm does not converge well. You are advised to use the LinearRegression estimator\n",
            "  after removing the cwd from sys.path.\n",
            "/usr/local/lib/python3.6/dist-packages/sklearn/linear_model/_coordinate_descent.py:476: UserWarning: Coordinate descent with no regularization may lead to unexpected results and is discouraged.\n",
            "  positive)\n",
            "/usr/local/lib/python3.6/dist-packages/sklearn/linear_model/_coordinate_descent.py:476: ConvergenceWarning: Objective did not converge. You might want to increase the number of iterations. Duality gap: 3985.74252840827, tolerance: 2.85630598265659\n",
            "  positive)\n"
          ],
          "name": "stderr"
        }
      ]
    },
    {
      "cell_type": "code",
      "metadata": {
        "colab": {
          "base_uri": "https://localhost:8080/",
          "height": 283
        },
        "id": "CEkwbu6APlY3",
        "outputId": "b2fd9980-e782-43ed-9088-54644af2242a"
      },
      "source": [
        "plt.scatter(v,maels)"
      ],
      "execution_count": null,
      "outputs": [
        {
          "output_type": "execute_result",
          "data": {
            "text/plain": [
              "<matplotlib.collections.PathCollection at 0x7f740e3234a8>"
            ]
          },
          "metadata": {
            "tags": []
          },
          "execution_count": 108
        },
        {
          "output_type": "display_data",
          "data": {
            "image/png": "[encoded data removed]",
            "text/plain": [
              "<Figure size 432x288 with 1 Axes>"
            ]
          },
          "metadata": {
            "tags": [],
            "image/png": {
              "width": 378,
              "height": 248
            },
            "needs_background": "light"
          }
        }
      ]
    },
    {
      "cell_type": "code",
      "metadata": {
        "colab": {
          "base_uri": "https://localhost:8080/"
        },
        "id": "d6MT-UwXP13N",
        "outputId": "7b6af371-3fb2-45cb-fdbe-e20be811e5b1"
      },
      "source": [
        "# here the best value we found for alpha and Lasso regularization is\n",
        "v[np.argmin(maels)]"
      ],
      "execution_count": null,
      "outputs": [
        {
          "output_type": "execute_result",
          "data": {
            "text/plain": [
              "0.13"
            ]
          },
          "metadata": {
            "tags": []
          },
          "execution_count": 111
        }
      ]
    },
    {
      "cell_type": "code",
      "metadata": {
        "colab": {
          "base_uri": "https://localhost:8080/"
        },
        "id": "ZLgSFbgtQKXE",
        "outputId": "a14facc9-340d-44e6-f0bd-3565d65e2053"
      },
      "source": [
        "1000*maels[np.argmin(maels)]"
      ],
      "execution_count": null,
      "outputs": [
        {
          "output_type": "execute_result",
          "data": {
            "text/plain": [
              "3489.259243584383"
            ]
          },
          "metadata": {
            "tags": []
          },
          "execution_count": 114
        }
      ]
    },
    {
      "cell_type": "markdown",
      "metadata": {
        "id": "orTDlEnG12m0"
      },
      "source": [
        "### Exercise try Elastic Net"
      ]
    },
    {
      "cell_type": "code",
      "metadata": {
        "id": "BgTQJKQJ11wW"
      },
      "source": [
        ""
      ],
      "execution_count": null,
      "outputs": []
    },
    {
      "cell_type": "markdown",
      "metadata": {
        "id": "_5De-c1BBSxV"
      },
      "source": [
        "## Polynomial Features"
      ]
    },
    {
      "cell_type": "code",
      "metadata": {
        "id": "M1KejoxEBmMc"
      },
      "source": [
        "import operator\n",
        "from sklearn.preprocessing import PolynomialFeatures\n",
        "from sklearn.metrics import mean_squared_error, r2_score"
      ],
      "execution_count": null,
      "outputs": []
    },
    {
      "cell_type": "code",
      "metadata": {
        "id": "CACAloZKCJu5"
      },
      "source": [
        "%matplotlib inline\n",
        "%config InlineBackend.figure_format = 'retina'\n",
        "#import matplotlib as mpl\n",
        "#mpl.rcParams['figure.dpi'] = 150"
      ],
      "execution_count": null,
      "outputs": []
    },
    {
      "cell_type": "code",
      "metadata": {
        "colab": {
          "base_uri": "https://localhost:8080/",
          "height": 549
        },
        "id": "HJX6oRwBB3qE",
        "outputId": "db2dd3fb-bd20-4043-8c48-c5e00fee232e"
      },
      "source": [
        "np.random.seed(1693)\n",
        "x = 2 - 3 * np.random.normal(0, 1, 100)\n",
        "\n",
        "def f(x):\n",
        "    sz = len(x)\n",
        "    return x - 1.5 * (x ** 2) + 0.25 * (x ** 3) + 2 * np.random.normal(-3, 3, sz)\n",
        "\n",
        "y = f(x)\n",
        "\n",
        "polynomial_features= PolynomialFeatures(degree=3)\n",
        "x_poly = polynomial_features.fit_transform(x.reshape((-1,1)))\n",
        "\n",
        "# the model created is linear in weights \n",
        "model = LinearRegression()\n",
        "model.fit(x_poly, y)\n",
        "y_poly_pred = model.predict(x_poly)\n",
        "\n",
        "rmse = np.sqrt(mean_squared_error(y,y_poly_pred))\n",
        "r2 = r2_score(y,y_poly_pred)\n",
        "print(rmse)\n",
        "print(r2)\n",
        "\n",
        "fig, ax = plt.subplots(figsize=(12,8))\n",
        "ax.scatter(x, y, color='cyan',edgecolors='k',s=60)\n",
        "# sort the values of x before line plot\n",
        "sort_axis = operator.itemgetter(0)\n",
        "sorted_zip = sorted(zip(x,y_poly_pred), key=sort_axis)\n",
        "x, y_poly_pred = zip(*sorted_zip)\n",
        "ax.plot(x, y_poly_pred, color='m',linestyle='--',lw=2.5)\n",
        "ax.set_xlabel('Input',fontsize=20)\n",
        "ax.set_ylabel('Response',fontsize=20)\n",
        "ax.grid(b=True,which='major', color ='grey', linestyle='-', alpha=0.8)\n",
        "ax.grid(b=True,which='minor', color ='grey', linestyle='--', alpha=0.2)\n",
        "plt.tick_params(axis='x', colors='black',labelsize=18)\n",
        "plt.tick_params(axis='y', colors='black',labelsize=18)\n",
        "ax.minorticks_on()\n",
        "plt.show()"
      ],
      "execution_count": null,
      "outputs": [
        {
          "output_type": "stream",
          "text": [
            "6.443967644634603\n",
            "0.9075020945627927\n"
          ],
          "name": "stdout"
        },
        {
          "output_type": "display_data",
          "data": {
            "image/png": "[encoded data removed]",
            "text/plain": [
              "<Figure size 864x576 with 1 Axes>"
            ]
          },
          "metadata": {
            "tags": [],
            "image/png": {
              "width": 752,
              "height": 497
            },
            "needs_background": "light"
          }
        }
      ]
    },
    {
      "cell_type": "markdown",
      "metadata": {
        "id": "Ko61nkr1Ck2Z"
      },
      "source": [
        "### Now we want to create polynomial features for our real data and try regularized regression"
      ]
    },
    {
      "cell_type": "code",
      "metadata": {
        "id": "ymtgKoDNBWCx"
      },
      "source": [
        "polynomial_features= PolynomialFeatures(degree=3)\n",
        "x_poly = polynomial_features.fit_transform(X)"
      ],
      "execution_count": null,
      "outputs": []
    },
    {
      "cell_type": "code",
      "metadata": {
        "id": "w2ub-ZhZE-_e"
      },
      "source": [
        "from sklearn.model_selection import train_test_split as tts\n",
        "x_poly_train, x_poly_test, y_train, y_test = tts(x_poly,y, test_size=0.3, random_state=1234)"
      ],
      "execution_count": null,
      "outputs": []
    },
    {
      "cell_type": "code",
      "metadata": {
        "colab": {
          "base_uri": "https://localhost:8080/"
        },
        "id": "-3gzvhQyGILC",
        "outputId": "c450d4b2-15cc-44c7-c85f-7bb950e419fd"
      },
      "source": [
        "lr.fit(polynomial_features.fit_transform(dat_train[:,:-1]),dat_train[:,-1])\n",
        "yhat_lp = lr.predict(polynomial_features.fit_transform(dat_test[:,:-1]))\n",
        "mae_lp = mean_absolute_error(dat_test[:,-1], yhat_lp)\n",
        "print(\"MAE Polynomial Model = ${:,.2f}\".format(1000*mae_lp))"
      ],
      "execution_count": null,
      "outputs": [
        {
          "output_type": "stream",
          "text": [
            "MAE Polynomial Model = $2,546.22\n"
          ],
          "name": "stdout"
        },
        {
          "output_type": "stream",
          "text": [
            "/usr/local/lib/python3.6/dist-packages/sklearn/linear_model/_coordinate_descent.py:476: ConvergenceWarning: Objective did not converge. You might want to increase the number of iterations. Duality gap: 1166.1606989099148, tolerance: 2.85630598265659\n",
            "  positive)\n"
          ],
          "name": "stderr"
        }
      ]
    },
    {
      "cell_type": "markdown",
      "metadata": {
        "id": "NVrZZURu3Vcu"
      },
      "source": [
        "## Neural Network Approach"
      ]
    },
    {
      "cell_type": "code",
      "metadata": {
        "id": "no_Y4SpkaZqY"
      },
      "source": [
        "# imports for creating a Neural Networks\n",
        "import keras\n",
        "from keras.models import Sequential\n",
        "from keras.layers import Dense\n",
        "from keras.layers import Dropout\n",
        "from sklearn.metrics import r2_score\n",
        "from keras.optimizers import Adam\n",
        "from keras.callbacks import EarlyStopping"
      ],
      "execution_count": null,
      "outputs": []
    },
    {
      "cell_type": "code",
      "metadata": {
        "id": "pabI8Tz1-wGB",
        "colab": {
          "base_uri": "https://localhost:8080/"
        },
        "outputId": "a5eb8814-e6ab-4256-aefb-baf2d6cc3137"
      },
      "source": [
        "dat_train[:,:-1].shape"
      ],
      "execution_count": null,
      "outputs": [
        {
          "output_type": "execute_result",
          "data": {
            "text/plain": [
              "(354, 11)"
            ]
          },
          "metadata": {
            "tags": []
          },
          "execution_count": 23
        }
      ]
    },
    {
      "cell_type": "code",
      "metadata": {
        "id": "wK1gXIBX7A3F"
      },
      "source": [
        "# Create a Neural Network model\n",
        "model = Sequential()\n",
        "model.add(Dense(128, activation=\"relu\", input_dim=11))\n",
        "model.add(Dense(32, activation=\"relu\"))\n",
        "model.add(Dense(8, activation=\"relu\"))\n",
        "# Since the regression is performed, a Dense layer containing a single neuron with a linear activation function.\n",
        "# Typically ReLu-based activation are used but since it is performed regression, it is needed a linear activation.\n",
        "model.add(Dense(1, activation=\"linear\"))\n",
        "\n",
        "# Compile model: The model is initialized with the Adam optimizer and then it is compiled.\n",
        "model.compile(loss='mean_squared_error', optimizer=Adam(lr=1e-3, decay=1e-3 / 200))\n",
        "\n",
        "# Patient early stopping\n",
        "es = EarlyStopping(monitor='val_loss', mode='min', verbose=1, patience=800)\n",
        "\n",
        "# Fit the model\n",
        "history = model.fit(dat_train[:,:-1], dat_train[:,11], validation_split=0.3, epochs=1000, batch_size=100, verbose=0, callbacks=[es])\n",
        "\n",
        "# Calculate predictions\n",
        "#yhat_nn = model.predict(X_test)"
      ],
      "execution_count": null,
      "outputs": []
    },
    {
      "cell_type": "markdown",
      "metadata": {
        "id": "U_uDLN75b2qH"
      },
      "source": [
        "## Here are the predictions we made for the test data:"
      ]
    },
    {
      "cell_type": "code",
      "metadata": {
        "colab": {
          "base_uri": "https://localhost:8080/"
        },
        "id": "hUbUsyGh-nRw",
        "outputId": "958185cd-6ffe-4392-96dd-4ef78ab5fd9f"
      },
      "source": [
        "from sklearn.metrics import mean_absolute_error\n",
        "\n",
        "yhat_nn = model.predict(dat_test[:,:-1])\n",
        "mae_nn = mean_absolute_error(dat_test[:,-1], yhat_nn)\n",
        "print(\"MAE Neural Network = ${:,.2f}\".format(1000*mae_nn))"
      ],
      "execution_count": null,
      "outputs": [
        {
          "output_type": "stream",
          "text": [
            "MAE Neural Network = $2,661.53\n"
          ],
          "name": "stdout"
        }
      ]
    },
    {
      "cell_type": "code",
      "metadata": {
        "id": "4fObIlRhKJFy"
      },
      "source": [
        "from sklearn.model_selection import KFold"
      ],
      "execution_count": null,
      "outputs": []
    },
    {
      "cell_type": "code",
      "metadata": {
        "id": "Iqzyt7BARDCl"
      },
      "source": [
        "kf = KFold(n_splits=10, shuffle=True, random_state=1693)"
      ],
      "execution_count": null,
      "outputs": []
    },
    {
      "cell_type": "code",
      "metadata": {
        "colab": {
          "base_uri": "https://localhost:8080/"
        },
        "id": "R_CUmGMZR0Tk",
        "outputId": "f108f0b6-8397-418a-e279-47516fb2bc43"
      },
      "source": [
        "#%%timeit -n 1\n",
        "\n",
        "mae_nn = []\n",
        "\n",
        "for idxtrain, idxtest in kf.split(dat):\n",
        "  X_train = dat[idxtrain,0:-1]\n",
        "  y_train = dat[idxtrain,-1]\n",
        "  X_test  = dat[idxtest,0:-1]\n",
        "  y_test = dat[idxtest,-1]\n",
        "  es = EarlyStopping(monitor='val_loss', mode='min', verbose=1, patience=800)\n",
        "  model.fit(X_train,y_train,validation_split=0.3, epochs=1000, batch_size=100, verbose=0, callbacks=[es])\n",
        "  yhat_nn = model.predict(X_test)\n",
        "  mae_nn.append(mean_absolute_error(y_test, yhat_nn))\n",
        "print(\"Validated MAE Neural Network Regression = ${:,.2f}\".format(1000*np.mean(mae_nn)))"
      ],
      "execution_count": null,
      "outputs": [
        {
          "output_type": "stream",
          "text": [
            "Epoch 00846: early stopping\n",
            "Epoch 00803: early stopping\n",
            "Epoch 00844: early stopping\n",
            "Epoch 00872: early stopping\n",
            "Epoch 00866: early stopping\n",
            "Epoch 00899: early stopping\n",
            "Epoch 00805: early stopping\n",
            "Epoch 00966: early stopping\n",
            "Epoch 00910: early stopping\n",
            "Validated MAE Neural Network Regression = $4,331.03\n"
          ],
          "name": "stdout"
        }
      ]
    },
    {
      "cell_type": "markdown",
      "metadata": {
        "id": "Mom_T9x8bUHl"
      },
      "source": [
        "## XGBoost\n",
        "\n",
        "The method is related to Random Forest\n",
        "\n",
        "https://towardsdatascience.com/xgboost-python-example-42777d01001e"
      ]
    },
    {
      "cell_type": "code",
      "metadata": {
        "id": "Z3iQle1ER-cI"
      },
      "source": [
        "import xgboost as xgb"
      ],
      "execution_count": null,
      "outputs": []
    },
    {
      "cell_type": "code",
      "metadata": {
        "id": "OwEh4jc3wKyw"
      },
      "source": [
        "model_xgb = xgb.XGBRegressor(objective ='reg:squarederror',n_estimators=100,reg_lambda=1,alpha=1,gamma=1,max_depth=10)"
      ],
      "execution_count": null,
      "outputs": []
    },
    {
      "cell_type": "code",
      "metadata": {
        "colab": {
          "base_uri": "https://localhost:8080/"
        },
        "id": "UO9TMxFBwcen",
        "outputId": "c0c391ec-ab12-4bec-f2cc-81953df7be9b"
      },
      "source": [
        "%%timeit -n 1\n",
        "\n",
        "mae_xgb = []\n",
        "\n",
        "for idxtrain, idxtest in kf.split(dat):\n",
        "  X_train = dat[idxtrain,0:-1]\n",
        "  y_train = dat[idxtrain,-1]\n",
        "  X_test  = dat[idxtest,0:-1]\n",
        "  y_test = dat[idxtest,-1]\n",
        "  model_xgb.fit(X_train,y_train)\n",
        "  yhat_xgb = model_xgb.predict(X_test)\n",
        "  mae_xgb.append(mean_absolute_error(y_test, yhat_xgb))\n",
        "print(\"Validated MAE XGBoost Regression = ${:,.2f}\".format(1000*np.mean(mae_xgb)))"
      ],
      "execution_count": null,
      "outputs": [
        {
          "output_type": "stream",
          "text": [
            "Validated MAE XGBoost Regression = $2,026.92\n",
            "Validated MAE XGBoost Regression = $2,026.92\n",
            "Validated MAE XGBoost Regression = $2,026.92\n",
            "1 loop, best of 3: 1.26 s per loop\n"
          ],
          "name": "stdout"
        }
      ]
    },
    {
      "cell_type": "markdown",
      "metadata": {
        "id": "5FQyF8aP3r6_"
      },
      "source": [
        "## Using Kernel Regression from StatsModels"
      ]
    },
    {
      "cell_type": "code",
      "metadata": {
        "id": "obBU-bGuwsKq"
      },
      "source": [
        "from statsmodels.nonparametric.kernel_regression import KernelReg\n",
        "\n",
        "\n",
        "model_KernReg = KernelReg(endog=dat_train[:,-1],exog=dat_train[:,:-1],var_type='ccccccccccc',ckertype='gaussian')"
      ],
      "execution_count": null,
      "outputs": []
    },
    {
      "cell_type": "code",
      "metadata": {
        "colab": {
          "base_uri": "https://localhost:8080/"
        },
        "id": "-Q57pk5wtiJ0",
        "outputId": "18ad45d0-461a-459a-f988-906c55a7ea23"
      },
      "source": [
        "dat_train[:,-1].reshape(-1,1).shape"
      ],
      "execution_count": null,
      "outputs": [
        {
          "output_type": "execute_result",
          "data": {
            "text/plain": [
              "(354, 1)"
            ]
          },
          "metadata": {
            "tags": []
          },
          "execution_count": 43
        }
      ]
    },
    {
      "cell_type": "code",
      "metadata": {
        "id": "E0fq_s0_CLMI"
      },
      "source": [
        "yhat_sm_test, y_std = model_KernReg.fit(dat_test[:,:-1])"
      ],
      "execution_count": null,
      "outputs": []
    },
    {
      "cell_type": "code",
      "metadata": {
        "colab": {
          "base_uri": "https://localhost:8080/"
        },
        "id": "geqRpN8siZ1W",
        "outputId": "78bf0992-6cd4-4165-bc78-ffee04ed9612"
      },
      "source": [
        "mae_sm = mean_absolute_error(dat_test[:,-1], yhat_sm_test)\n",
        "print(\"MAE StatsModels Kernel Regression = ${:,.2f}\".format(1000*mae_sm))"
      ],
      "execution_count": null,
      "outputs": [
        {
          "output_type": "stream",
          "text": [
            "MAE StatsModels Kernel Regression = $2,854.57\n"
          ],
          "name": "stdout"
        }
      ]
    }
  ]
}