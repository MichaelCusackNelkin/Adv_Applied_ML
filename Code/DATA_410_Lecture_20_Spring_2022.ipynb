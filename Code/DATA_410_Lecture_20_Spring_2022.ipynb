{
  "cells": [
    {
      "cell_type": "markdown",
      "metadata": {
        "id": "CqNdUXUM3rv9"
      },
      "source": [
        "#DATA 410 Lecture 20 - Spring 2022"
      ]
    },
    {
      "cell_type": "markdown",
      "metadata": {
        "id": "dHOKSncF3r-L"
      },
      "source": [
        "<font face=\"Chalkboard\" color=\"darkgreen\" size=10>Variable Selections and Multivariate Analysis</font>"
      ]
    },
    {
      "cell_type": "code",
      "execution_count": 1,
      "metadata": {
        "id": "jgOMFzp3t393"
      },
      "outputs": [
        {
          "name": "stdout",
          "output_type": "stream",
          "text": [
            "Collecting pyswarms\n",
            "  Downloading pyswarms-1.3.0-py2.py3-none-any.whl (104 kB)\n",
            "Requirement already satisfied: scipy in c:\\users\\mnelk\\appdata\\local\\programs\\python\\python39\\lib\\site-packages (from pyswarms) (1.8.0)\n",
            "Requirement already satisfied: future in c:\\users\\mnelk\\appdata\\local\\programs\\python\\python39\\lib\\site-packages (from pyswarms) (0.18.2)\n",
            "Requirement already satisfied: tqdm in c:\\users\\mnelk\\appdata\\local\\programs\\python\\python39\\lib\\site-packages (from pyswarms) (4.61.2)\n",
            "Requirement already satisfied: matplotlib>=1.3.1 in c:\\users\\mnelk\\appdata\\local\\programs\\python\\python39\\lib\\site-packages (from pyswarms) (3.4.2)\n",
            "Collecting numpy\n",
            "  Downloading numpy-1.22.3-cp39-cp39-win_amd64.whl (14.7 MB)\n",
            "Requirement already satisfied: pyyaml in c:\\users\\mnelk\\appdata\\local\\programs\\python\\python39\\lib\\site-packages (from pyswarms) (5.4.1)\n",
            "Requirement already satisfied: attrs in c:\\users\\mnelk\\appdata\\local\\programs\\python\\python39\\lib\\site-packages (from pyswarms) (20.3.0)\n",
            "Requirement already satisfied: kiwisolver>=1.0.1 in c:\\users\\mnelk\\appdata\\local\\programs\\python\\python39\\lib\\site-packages (from matplotlib>=1.3.1->pyswarms) (1.3.1)\n",
            "Requirement already satisfied: python-dateutil>=2.7 in c:\\users\\mnelk\\appdata\\local\\programs\\python\\python39\\lib\\site-packages (from matplotlib>=1.3.1->pyswarms) (2.8.1)\n",
            "Requirement already satisfied: pillow>=6.2.0 in c:\\users\\mnelk\\appdata\\local\\programs\\python\\python39\\lib\\site-packages (from matplotlib>=1.3.1->pyswarms) (8.3.0)\n",
            "Requirement already satisfied: cycler>=0.10 in c:\\users\\mnelk\\appdata\\local\\programs\\python\\python39\\lib\\site-packages (from matplotlib>=1.3.1->pyswarms) (0.10.0)\n",
            "Requirement already satisfied: pyparsing>=2.2.1 in c:\\users\\mnelk\\appdata\\local\\programs\\python\\python39\\lib\\site-packages (from matplotlib>=1.3.1->pyswarms) (2.4.7)\n",
            "Requirement already satisfied: colorama in c:\\users\\mnelk\\appdata\\local\\programs\\python\\python39\\lib\\site-packages (from tqdm->pyswarms) (0.4.4)\n",
            "Requirement already satisfied: six in c:\\users\\mnelk\\appdata\\local\\programs\\python\\python39\\lib\\site-packages (from cycler>=0.10->matplotlib>=1.3.1->pyswarms) (1.16.0)\n",
            "Installing collected packages: numpy, pyswarms\n",
            "Successfully installed numpy-1.22.3 pyswarms-1.3.0\n"
          ]
        },
        {
          "name": "stderr",
          "output_type": "stream",
          "text": [
            "WARNING: Ignoring invalid distribution -umpy (c:\\users\\mnelk\\appdata\\local\\programs\\python\\python39\\lib\\site-packages)\n",
            "WARNING: Ignoring invalid distribution -umpy (c:\\users\\mnelk\\appdata\\local\\programs\\python\\python39\\lib\\site-packages)\n",
            "WARNING: Ignoring invalid distribution -umpy (c:\\users\\mnelk\\appdata\\local\\programs\\python\\python39\\lib\\site-packages)\n",
            "WARNING: Ignoring invalid distribution -umpy (c:\\users\\mnelk\\appdata\\local\\programs\\python\\python39\\lib\\site-packages)\n",
            "WARNING: Ignoring invalid distribution -umpy (c:\\users\\mnelk\\appdata\\local\\programs\\python\\python39\\lib\\site-packages)\n",
            "WARNING: Ignoring invalid distribution -umpy (c:\\users\\mnelk\\appdata\\local\\programs\\python\\python39\\lib\\site-packages)\n",
            "WARNING: Ignoring invalid distribution -umpy (c:\\users\\mnelk\\appdata\\local\\programs\\python\\python39\\lib\\site-packages)\n",
            "WARNING: Ignoring invalid distribution -umpy (c:\\users\\mnelk\\appdata\\local\\programs\\python\\python39\\lib\\site-packages)\n",
            "WARNING: You are using pip version 21.3.1; however, version 22.0.4 is available.\n",
            "You should consider upgrading via the 'c:\\users\\mnelk\\appdata\\local\\programs\\python\\python39\\python.exe -m pip install --upgrade pip' command.\n"
          ]
        }
      ],
      "source": [
        "!pip install pyswarms"
      ]
    },
    {
      "cell_type": "code",
      "execution_count": 2,
      "metadata": {
        "id": "2MqK5w6skIK9"
      },
      "outputs": [
        {
          "name": "stdout",
          "output_type": "stream",
          "text": [
            "Requirement already satisfied: statsmodels==0.13.2 in c:\\users\\mnelk\\appdata\\local\\programs\\python\\python39\\lib\\site-packages (0.13.2)\n",
            "Requirement already satisfied: patsy>=0.5.2 in c:\\users\\mnelk\\appdata\\local\\programs\\python\\python39\\lib\\site-packages (from statsmodels==0.13.2) (0.5.2)\n",
            "Requirement already satisfied: scipy>=1.3 in c:\\users\\mnelk\\appdata\\local\\programs\\python\\python39\\lib\\site-packages (from statsmodels==0.13.2) (1.8.0)\n",
            "Requirement already satisfied: pandas>=0.25 in c:\\users\\mnelk\\appdata\\local\\programs\\python\\python39\\lib\\site-packages (from statsmodels==0.13.2) (1.3.0)\n",
            "Requirement already satisfied: packaging>=21.3 in c:\\users\\mnelk\\appdata\\local\\programs\\python\\python39\\lib\\site-packages (from statsmodels==0.13.2) (21.3)\n",
            "Requirement already satisfied: numpy>=1.17 in c:\\users\\mnelk\\appdata\\local\\programs\\python\\python39\\lib\\site-packages (from statsmodels==0.13.2) (1.22.3)\n",
            "Requirement already satisfied: pyparsing!=3.0.5,>=2.0.2 in c:\\users\\mnelk\\appdata\\local\\programs\\python\\python39\\lib\\site-packages (from packaging>=21.3->statsmodels==0.13.2) (2.4.7)\n",
            "Requirement already satisfied: pytz>=2017.3 in c:\\users\\mnelk\\appdata\\local\\programs\\python\\python39\\lib\\site-packages (from pandas>=0.25->statsmodels==0.13.2) (2021.1)\n",
            "Requirement already satisfied: python-dateutil>=2.7.3 in c:\\users\\mnelk\\appdata\\local\\programs\\python\\python39\\lib\\site-packages (from pandas>=0.25->statsmodels==0.13.2) (2.8.1)\n",
            "Requirement already satisfied: six in c:\\users\\mnelk\\appdata\\local\\programs\\python\\python39\\lib\\site-packages (from patsy>=0.5.2->statsmodels==0.13.2) (1.16.0)\n"
          ]
        },
        {
          "name": "stderr",
          "output_type": "stream",
          "text": [
            "WARNING: Ignoring invalid distribution -umpy (c:\\users\\mnelk\\appdata\\local\\programs\\python\\python39\\lib\\site-packages)\n",
            "WARNING: Ignoring invalid distribution -umpy (c:\\users\\mnelk\\appdata\\local\\programs\\python\\python39\\lib\\site-packages)\n",
            "WARNING: Ignoring invalid distribution -umpy (c:\\users\\mnelk\\appdata\\local\\programs\\python\\python39\\lib\\site-packages)\n",
            "WARNING: Ignoring invalid distribution -umpy (c:\\users\\mnelk\\appdata\\local\\programs\\python\\python39\\lib\\site-packages)\n",
            "WARNING: Ignoring invalid distribution -umpy (c:\\users\\mnelk\\appdata\\local\\programs\\python\\python39\\lib\\site-packages)\n"
          ]
        }
      ],
      "source": [
        "!pip install --upgrade statsmodels==0.13.2"
      ]
    },
    {
      "cell_type": "code",
      "execution_count": 3,
      "metadata": {
        "id": "ottrbfKt_g5J"
      },
      "outputs": [],
      "source": [
        "import pyswarms as ps"
      ]
    },
    {
      "cell_type": "code",
      "execution_count": 6,
      "metadata": {
        "id": "coEkw1TPvc4L"
      },
      "outputs": [
        {
          "name": "stdout",
          "output_type": "stream",
          "text": [
            "Collecting numba\n",
            "  Using cached numba-0.55.1-cp39-cp39-win_amd64.whl (2.4 MB)\n",
            "Collecting llvmlite<0.39,>=0.38.0rc1\n",
            "  Using cached llvmlite-0.38.0-cp39-cp39-win_amd64.whl (23.2 MB)\n",
            "Requirement already satisfied: numpy<1.22,>=1.18 in c:\\users\\mnelk\\appdata\\local\\programs\\python\\python39\\lib\\site-packages (from numba) (1.21.5)\n",
            "Requirement already satisfied: setuptools in c:\\users\\mnelk\\appdata\\local\\programs\\python\\python39\\lib\\site-packages (from numba) (57.1.0)\n",
            "Installing collected packages: llvmlite, numba\n",
            "Successfully installed llvmlite-0.38.0 numba-0.55.1\n"
          ]
        },
        {
          "name": "stderr",
          "output_type": "stream",
          "text": [
            "WARNING: Ignoring invalid distribution -umpy (c:\\users\\mnelk\\appdata\\local\\programs\\python\\python39\\lib\\site-packages)\n",
            "WARNING: Ignoring invalid distribution -umpy (c:\\users\\mnelk\\appdata\\local\\programs\\python\\python39\\lib\\site-packages)\n",
            "WARNING: Ignoring invalid distribution -umpy (c:\\users\\mnelk\\appdata\\local\\programs\\python\\python39\\lib\\site-packages)\n",
            "WARNING: Ignoring invalid distribution -umpy (c:\\users\\mnelk\\appdata\\local\\programs\\python\\python39\\lib\\site-packages)\n",
            "WARNING: Ignoring invalid distribution -umpy (c:\\users\\mnelk\\appdata\\local\\programs\\python\\python39\\lib\\site-packages)\n",
            "WARNING: Ignoring invalid distribution -umpy (c:\\users\\mnelk\\appdata\\local\\programs\\python\\python39\\lib\\site-packages)\n",
            "WARNING: Ignoring invalid distribution -umpy (c:\\users\\mnelk\\appdata\\local\\programs\\python\\python39\\lib\\site-packages)\n"
          ]
        },
        {
          "ename": "ImportError",
          "evalue": "Numba needs NumPy 1.21 or less",
          "output_type": "error",
          "traceback": [
            "\u001b[1;31m---------------------------------------------------------------------------\u001b[0m",
            "\u001b[1;31mImportError\u001b[0m                               Traceback (most recent call last)",
            "\u001b[1;32m~\\AppData\\Local\\Temp/ipykernel_2212/2598368514.py\u001b[0m in \u001b[0;36m<module>\u001b[1;34m\u001b[0m\n\u001b[0;32m      1\u001b[0m \u001b[0mget_ipython\u001b[0m\u001b[1;33m(\u001b[0m\u001b[1;33m)\u001b[0m\u001b[1;33m.\u001b[0m\u001b[0msystem\u001b[0m\u001b[1;33m(\u001b[0m\u001b[1;34m'pip install numba'\u001b[0m\u001b[1;33m)\u001b[0m\u001b[1;33m\u001b[0m\u001b[1;33m\u001b[0m\u001b[0m\n\u001b[1;32m----> 2\u001b[1;33m \u001b[1;32mfrom\u001b[0m \u001b[0mnumba\u001b[0m \u001b[1;32mimport\u001b[0m \u001b[0mjit\u001b[0m\u001b[1;33m,\u001b[0m \u001b[0mprange\u001b[0m\u001b[1;33m\u001b[0m\u001b[1;33m\u001b[0m\u001b[0m\n\u001b[0m",
            "\u001b[1;32m~\\AppData\\Local\\Programs\\Python\\Python39\\lib\\site-packages\\numba\\__init__.py\u001b[0m in \u001b[0;36m<module>\u001b[1;34m\u001b[0m\n\u001b[0;32m    198\u001b[0m \u001b[1;33m\u001b[0m\u001b[0m\n\u001b[0;32m    199\u001b[0m \u001b[0m_ensure_llvm\u001b[0m\u001b[1;33m(\u001b[0m\u001b[1;33m)\u001b[0m\u001b[1;33m\u001b[0m\u001b[1;33m\u001b[0m\u001b[0m\n\u001b[1;32m--> 200\u001b[1;33m \u001b[0m_ensure_critical_deps\u001b[0m\u001b[1;33m(\u001b[0m\u001b[1;33m)\u001b[0m\u001b[1;33m\u001b[0m\u001b[1;33m\u001b[0m\u001b[0m\n\u001b[0m\u001b[0;32m    201\u001b[0m \u001b[1;33m\u001b[0m\u001b[0m\n\u001b[0;32m    202\u001b[0m \u001b[1;31m# we know llvmlite is working as the above tests passed, import it now as SVML\u001b[0m\u001b[1;33m\u001b[0m\u001b[1;33m\u001b[0m\u001b[1;33m\u001b[0m\u001b[0m\n",
            "\u001b[1;32m~\\AppData\\Local\\Programs\\Python\\Python39\\lib\\site-packages\\numba\\__init__.py\u001b[0m in \u001b[0;36m_ensure_critical_deps\u001b[1;34m()\u001b[0m\n\u001b[0;32m    138\u001b[0m         \u001b[1;32mraise\u001b[0m \u001b[0mImportError\u001b[0m\u001b[1;33m(\u001b[0m\u001b[1;34m\"Numba needs NumPy 1.18 or greater\"\u001b[0m\u001b[1;33m)\u001b[0m\u001b[1;33m\u001b[0m\u001b[1;33m\u001b[0m\u001b[0m\n\u001b[0;32m    139\u001b[0m     \u001b[1;32melif\u001b[0m \u001b[0mnumpy_version\u001b[0m \u001b[1;33m>\u001b[0m \u001b[1;33m(\u001b[0m\u001b[1;36m1\u001b[0m\u001b[1;33m,\u001b[0m \u001b[1;36m21\u001b[0m\u001b[1;33m)\u001b[0m\u001b[1;33m:\u001b[0m\u001b[1;33m\u001b[0m\u001b[1;33m\u001b[0m\u001b[0m\n\u001b[1;32m--> 140\u001b[1;33m         \u001b[1;32mraise\u001b[0m \u001b[0mImportError\u001b[0m\u001b[1;33m(\u001b[0m\u001b[1;34m\"Numba needs NumPy 1.21 or less\"\u001b[0m\u001b[1;33m)\u001b[0m\u001b[1;33m\u001b[0m\u001b[1;33m\u001b[0m\u001b[0m\n\u001b[0m\u001b[0;32m    141\u001b[0m \u001b[1;33m\u001b[0m\u001b[0m\n\u001b[0;32m    142\u001b[0m     \u001b[1;32mtry\u001b[0m\u001b[1;33m:\u001b[0m\u001b[1;33m\u001b[0m\u001b[1;33m\u001b[0m\u001b[0m\n",
            "\u001b[1;31mImportError\u001b[0m: Numba needs NumPy 1.21 or less"
          ]
        }
      ],
      "source": [
        "#!pip install numba\n",
        "#from numba import jit, prange"
      ]
    },
    {
      "cell_type": "code",
      "execution_count": 7,
      "metadata": {
        "id": "ZZHcmJvq99IG"
      },
      "outputs": [],
      "source": [
        "%matplotlib inline\n",
        "%config InlineBackend.figure_format = 'retina'\n",
        "import matplotlib as mpl\n",
        "import matplotlib.pyplot as plt\n",
        "mpl.rcParams['figure.dpi'] = 150"
      ]
    },
    {
      "cell_type": "code",
      "execution_count": 28,
      "metadata": {
        "id": "0zPhjSO04C--"
      },
      "outputs": [],
      "source": [
        "# general imports\n",
        "import numpy as np\n",
        "import pandas as pd\n",
        "from math import ceil\n",
        "from scipy import linalg\n",
        "import statsmodels.api as sm\n",
        "from sklearn.linear_model import LinearRegression, Ridge, Lasso, ElasticNet\n",
        "from sklearn.metrics import mean_absolute_error\n",
        "#from sklearn.metrics import make_scorer\n",
        "from sklearn.model_selection import GridSearchCV\n",
        "from sklearn.datasets import make_spd_matrix\n",
        "import matplotlib.pyplot as plt\n",
        "from scipy.optimize import minimize\n",
        "from scipy.linalg import toeplitz\n",
        "from matplotlib import pyplot\n",
        "from sklearn.metrics import mean_absolute_error as MAE\n",
        "from sklearn.preprocessing import StandardScaler, PolynomialFeatures\n",
        "from sklearn.pipeline import Pipeline\n",
        "from sklearn.model_selection import KFold\n",
        "from sklearn.metrics import mean_squared_error as MSE"
      ]
    },
    {
      "cell_type": "markdown",
      "metadata": {
        "id": "qI0_TbFmHQnK"
      },
      "source": [
        "## Example for Square Root Lasso (based on the statsmodels library)"
      ]
    },
    {
      "cell_type": "markdown",
      "metadata": {
        "id": "1UARjqArF1-K"
      },
      "source": [
        "### Step 1: Data Import"
      ]
    },
    {
      "cell_type": "code",
      "execution_count": 15,
      "metadata": {
        "id": "fYmBlFSidzwy"
      },
      "outputs": [],
      "source": [
        "df = pd.read_csv('Data/Boston_Housing_Prices.csv')\n",
        "features = ['crime','rooms','residential','industrial','nox','older','distance','highway','tax','ptratio','lstat']\n",
        "X = np.array(df[features])\n",
        "y = np.array(df['cmedv']).reshape(-1,1)\n",
        "Xdf = df[features]"
      ]
    },
    {
      "cell_type": "code",
      "execution_count": 16,
      "metadata": {
        "colab": {
          "base_uri": "https://localhost:8080/",
          "height": 415
        },
        "id": "-iqohK_6F_jX",
        "outputId": "e039b8d3-65c2-401b-bac8-4c57bd32b4d2"
      },
      "outputs": [
        {
          "data": {
            "text/html": [
              "<div>\n",
              "<style scoped>\n",
              "    .dataframe tbody tr th:only-of-type {\n",
              "        vertical-align: middle;\n",
              "    }\n",
              "\n",
              "    .dataframe tbody tr th {\n",
              "        vertical-align: top;\n",
              "    }\n",
              "\n",
              "    .dataframe thead th {\n",
              "        text-align: right;\n",
              "    }\n",
              "</style>\n",
              "<table border=\"1\" class=\"dataframe\">\n",
              "  <thead>\n",
              "    <tr style=\"text-align: right;\">\n",
              "      <th></th>\n",
              "      <th>crime</th>\n",
              "      <th>rooms</th>\n",
              "      <th>residential</th>\n",
              "      <th>industrial</th>\n",
              "      <th>nox</th>\n",
              "      <th>older</th>\n",
              "      <th>distance</th>\n",
              "      <th>highway</th>\n",
              "      <th>tax</th>\n",
              "      <th>ptratio</th>\n",
              "      <th>lstat</th>\n",
              "    </tr>\n",
              "  </thead>\n",
              "  <tbody>\n",
              "    <tr>\n",
              "      <th>0</th>\n",
              "      <td>0.00632</td>\n",
              "      <td>6.575</td>\n",
              "      <td>18.0</td>\n",
              "      <td>2.31</td>\n",
              "      <td>0.538</td>\n",
              "      <td>65.199997</td>\n",
              "      <td>4.0900</td>\n",
              "      <td>1</td>\n",
              "      <td>296</td>\n",
              "      <td>15.300000</td>\n",
              "      <td>4.98</td>\n",
              "    </tr>\n",
              "    <tr>\n",
              "      <th>1</th>\n",
              "      <td>0.02731</td>\n",
              "      <td>6.421</td>\n",
              "      <td>0.0</td>\n",
              "      <td>7.07</td>\n",
              "      <td>0.469</td>\n",
              "      <td>78.900002</td>\n",
              "      <td>4.9671</td>\n",
              "      <td>2</td>\n",
              "      <td>242</td>\n",
              "      <td>17.799999</td>\n",
              "      <td>9.14</td>\n",
              "    </tr>\n",
              "    <tr>\n",
              "      <th>2</th>\n",
              "      <td>0.02729</td>\n",
              "      <td>7.185</td>\n",
              "      <td>0.0</td>\n",
              "      <td>7.07</td>\n",
              "      <td>0.469</td>\n",
              "      <td>61.099998</td>\n",
              "      <td>4.9671</td>\n",
              "      <td>2</td>\n",
              "      <td>242</td>\n",
              "      <td>17.799999</td>\n",
              "      <td>4.03</td>\n",
              "    </tr>\n",
              "    <tr>\n",
              "      <th>3</th>\n",
              "      <td>0.03237</td>\n",
              "      <td>6.998</td>\n",
              "      <td>0.0</td>\n",
              "      <td>2.18</td>\n",
              "      <td>0.458</td>\n",
              "      <td>45.799999</td>\n",
              "      <td>6.0622</td>\n",
              "      <td>3</td>\n",
              "      <td>222</td>\n",
              "      <td>18.700001</td>\n",
              "      <td>2.94</td>\n",
              "    </tr>\n",
              "    <tr>\n",
              "      <th>4</th>\n",
              "      <td>0.06905</td>\n",
              "      <td>7.147</td>\n",
              "      <td>0.0</td>\n",
              "      <td>2.18</td>\n",
              "      <td>0.458</td>\n",
              "      <td>54.200001</td>\n",
              "      <td>6.0622</td>\n",
              "      <td>3</td>\n",
              "      <td>222</td>\n",
              "      <td>18.700001</td>\n",
              "      <td>5.33</td>\n",
              "    </tr>\n",
              "    <tr>\n",
              "      <th>...</th>\n",
              "      <td>...</td>\n",
              "      <td>...</td>\n",
              "      <td>...</td>\n",
              "      <td>...</td>\n",
              "      <td>...</td>\n",
              "      <td>...</td>\n",
              "      <td>...</td>\n",
              "      <td>...</td>\n",
              "      <td>...</td>\n",
              "      <td>...</td>\n",
              "      <td>...</td>\n",
              "    </tr>\n",
              "    <tr>\n",
              "      <th>501</th>\n",
              "      <td>0.06263</td>\n",
              "      <td>6.593</td>\n",
              "      <td>0.0</td>\n",
              "      <td>11.93</td>\n",
              "      <td>0.573</td>\n",
              "      <td>69.099998</td>\n",
              "      <td>2.4786</td>\n",
              "      <td>1</td>\n",
              "      <td>273</td>\n",
              "      <td>21.000000</td>\n",
              "      <td>9.67</td>\n",
              "    </tr>\n",
              "    <tr>\n",
              "      <th>502</th>\n",
              "      <td>0.04527</td>\n",
              "      <td>6.120</td>\n",
              "      <td>0.0</td>\n",
              "      <td>11.93</td>\n",
              "      <td>0.573</td>\n",
              "      <td>76.699997</td>\n",
              "      <td>2.2875</td>\n",
              "      <td>1</td>\n",
              "      <td>273</td>\n",
              "      <td>21.000000</td>\n",
              "      <td>9.08</td>\n",
              "    </tr>\n",
              "    <tr>\n",
              "      <th>503</th>\n",
              "      <td>0.06076</td>\n",
              "      <td>6.976</td>\n",
              "      <td>0.0</td>\n",
              "      <td>11.93</td>\n",
              "      <td>0.573</td>\n",
              "      <td>91.000000</td>\n",
              "      <td>2.1675</td>\n",
              "      <td>1</td>\n",
              "      <td>273</td>\n",
              "      <td>21.000000</td>\n",
              "      <td>5.64</td>\n",
              "    </tr>\n",
              "    <tr>\n",
              "      <th>504</th>\n",
              "      <td>0.10959</td>\n",
              "      <td>6.794</td>\n",
              "      <td>0.0</td>\n",
              "      <td>11.93</td>\n",
              "      <td>0.573</td>\n",
              "      <td>89.300003</td>\n",
              "      <td>2.3889</td>\n",
              "      <td>1</td>\n",
              "      <td>273</td>\n",
              "      <td>21.000000</td>\n",
              "      <td>6.48</td>\n",
              "    </tr>\n",
              "    <tr>\n",
              "      <th>505</th>\n",
              "      <td>0.04741</td>\n",
              "      <td>6.030</td>\n",
              "      <td>0.0</td>\n",
              "      <td>11.93</td>\n",
              "      <td>0.573</td>\n",
              "      <td>80.800003</td>\n",
              "      <td>2.5050</td>\n",
              "      <td>1</td>\n",
              "      <td>273</td>\n",
              "      <td>21.000000</td>\n",
              "      <td>7.88</td>\n",
              "    </tr>\n",
              "  </tbody>\n",
              "</table>\n",
              "<p>506 rows × 11 columns</p>\n",
              "</div>"
            ],
            "text/plain": [
              "       crime  rooms  residential  industrial    nox      older  distance  \\\n",
              "0    0.00632  6.575         18.0        2.31  0.538  65.199997    4.0900   \n",
              "1    0.02731  6.421          0.0        7.07  0.469  78.900002    4.9671   \n",
              "2    0.02729  7.185          0.0        7.07  0.469  61.099998    4.9671   \n",
              "3    0.03237  6.998          0.0        2.18  0.458  45.799999    6.0622   \n",
              "4    0.06905  7.147          0.0        2.18  0.458  54.200001    6.0622   \n",
              "..       ...    ...          ...         ...    ...        ...       ...   \n",
              "501  0.06263  6.593          0.0       11.93  0.573  69.099998    2.4786   \n",
              "502  0.04527  6.120          0.0       11.93  0.573  76.699997    2.2875   \n",
              "503  0.06076  6.976          0.0       11.93  0.573  91.000000    2.1675   \n",
              "504  0.10959  6.794          0.0       11.93  0.573  89.300003    2.3889   \n",
              "505  0.04741  6.030          0.0       11.93  0.573  80.800003    2.5050   \n",
              "\n",
              "     highway  tax    ptratio  lstat  \n",
              "0          1  296  15.300000   4.98  \n",
              "1          2  242  17.799999   9.14  \n",
              "2          2  242  17.799999   4.03  \n",
              "3          3  222  18.700001   2.94  \n",
              "4          3  222  18.700001   5.33  \n",
              "..       ...  ...        ...    ...  \n",
              "501        1  273  21.000000   9.67  \n",
              "502        1  273  21.000000   9.08  \n",
              "503        1  273  21.000000   5.64  \n",
              "504        1  273  21.000000   6.48  \n",
              "505        1  273  21.000000   7.88  \n",
              "\n",
              "[506 rows x 11 columns]"
            ]
          },
          "execution_count": 16,
          "metadata": {},
          "output_type": "execute_result"
        }
      ],
      "source": [
        "df[features]"
      ]
    },
    {
      "cell_type": "code",
      "execution_count": 52,
      "metadata": {},
      "outputs": [
        {
          "ename": "TypeError",
          "evalue": "object of type 'StandardScaler' has no len()",
          "output_type": "error",
          "traceback": [
            "\u001b[1;31m---------------------------------------------------------------------------\u001b[0m",
            "\u001b[1;31mTypeError\u001b[0m                                 Traceback (most recent call last)",
            "\u001b[1;32m~\\AppData\\Local\\Temp/ipykernel_2212/1495536756.py\u001b[0m in \u001b[0;36m<module>\u001b[1;34m\u001b[0m\n\u001b[0;32m      1\u001b[0m \u001b[0mscale\u001b[0m \u001b[1;33m=\u001b[0m \u001b[0mStandardScaler\u001b[0m\u001b[1;33m(\u001b[0m\u001b[1;33m)\u001b[0m\u001b[1;33m\u001b[0m\u001b[1;33m\u001b[0m\u001b[0m\n\u001b[0;32m      2\u001b[0m \u001b[1;33m\u001b[0m\u001b[0m\n\u001b[1;32m----> 3\u001b[1;33m \u001b[0mmodel\u001b[0m \u001b[1;33m=\u001b[0m \u001b[0msm\u001b[0m\u001b[1;33m.\u001b[0m\u001b[0mOLS\u001b[0m\u001b[1;33m(\u001b[0m\u001b[0mys\u001b[0m\u001b[1;33m,\u001b[0m\u001b[0mxs\u001b[0m\u001b[1;33m)\u001b[0m\u001b[1;33m\u001b[0m\u001b[1;33m\u001b[0m\u001b[0m\n\u001b[0m\u001b[0;32m      4\u001b[0m \u001b[0mresult\u001b[0m \u001b[1;33m=\u001b[0m \u001b[0mmodel\u001b[0m\u001b[1;33m.\u001b[0m\u001b[0mfit_regularized\u001b[0m\u001b[1;33m(\u001b[0m\u001b[0mmethod\u001b[0m\u001b[1;33m=\u001b[0m\u001b[1;34m'sqrt_lasso'\u001b[0m\u001b[1;33m,\u001b[0m \u001b[0malpha\u001b[0m\u001b[1;33m=\u001b[0m\u001b[1;36m0.1\u001b[0m\u001b[1;33m,\u001b[0m \u001b[0mprofile_scale\u001b[0m\u001b[1;33m=\u001b[0m\u001b[1;32mTrue\u001b[0m\u001b[1;33m)\u001b[0m\u001b[1;33m\u001b[0m\u001b[1;33m\u001b[0m\u001b[0m\n\u001b[0;32m      5\u001b[0m \u001b[0mbeta_hat\u001b[0m \u001b[1;33m=\u001b[0m \u001b[0mresult\u001b[0m\u001b[1;33m.\u001b[0m\u001b[0mparams\u001b[0m\u001b[1;33m\u001b[0m\u001b[1;33m\u001b[0m\u001b[0m\n",
            "\u001b[1;32m~\\AppData\\Local\\Programs\\Python\\Python39\\lib\\site-packages\\statsmodels\\regression\\linear_model.py\u001b[0m in \u001b[0;36m__init__\u001b[1;34m(self, endog, exog, missing, hasconst, **kwargs)\u001b[0m\n\u001b[0;32m    888\u001b[0m                    \"An exception will be raised in the next version.\")\n\u001b[0;32m    889\u001b[0m             \u001b[0mwarnings\u001b[0m\u001b[1;33m.\u001b[0m\u001b[0mwarn\u001b[0m\u001b[1;33m(\u001b[0m\u001b[0mmsg\u001b[0m\u001b[1;33m,\u001b[0m \u001b[0mValueWarning\u001b[0m\u001b[1;33m)\u001b[0m\u001b[1;33m\u001b[0m\u001b[1;33m\u001b[0m\u001b[0m\n\u001b[1;32m--> 890\u001b[1;33m         super(OLS, self).__init__(endog, exog, missing=missing,\n\u001b[0m\u001b[0;32m    891\u001b[0m                                   hasconst=hasconst, **kwargs)\n\u001b[0;32m    892\u001b[0m         \u001b[1;32mif\u001b[0m \u001b[1;34m\"weights\"\u001b[0m \u001b[1;32min\u001b[0m \u001b[0mself\u001b[0m\u001b[1;33m.\u001b[0m\u001b[0m_init_keys\u001b[0m\u001b[1;33m:\u001b[0m\u001b[1;33m\u001b[0m\u001b[1;33m\u001b[0m\u001b[0m\n",
            "\u001b[1;32m~\\AppData\\Local\\Programs\\Python\\Python39\\lib\\site-packages\\statsmodels\\regression\\linear_model.py\u001b[0m in \u001b[0;36m__init__\u001b[1;34m(self, endog, exog, weights, missing, hasconst, **kwargs)\u001b[0m\n\u001b[0;32m    709\u001b[0m                 \u001b[0mweights\u001b[0m \u001b[1;33m=\u001b[0m \u001b[0mnp\u001b[0m\u001b[1;33m.\u001b[0m\u001b[0mrepeat\u001b[0m\u001b[1;33m(\u001b[0m\u001b[0mweights\u001b[0m\u001b[1;33m,\u001b[0m \u001b[0mlen\u001b[0m\u001b[1;33m(\u001b[0m\u001b[0mkwargs\u001b[0m\u001b[1;33m[\u001b[0m\u001b[1;34m'missing_idx'\u001b[0m\u001b[1;33m]\u001b[0m\u001b[1;33m)\u001b[0m\u001b[1;33m)\u001b[0m\u001b[1;33m\u001b[0m\u001b[1;33m\u001b[0m\u001b[0m\n\u001b[0;32m    710\u001b[0m             \u001b[1;32melse\u001b[0m\u001b[1;33m:\u001b[0m\u001b[1;33m\u001b[0m\u001b[1;33m\u001b[0m\u001b[0m\n\u001b[1;32m--> 711\u001b[1;33m                 \u001b[0mweights\u001b[0m \u001b[1;33m=\u001b[0m \u001b[0mnp\u001b[0m\u001b[1;33m.\u001b[0m\u001b[0mrepeat\u001b[0m\u001b[1;33m(\u001b[0m\u001b[0mweights\u001b[0m\u001b[1;33m,\u001b[0m \u001b[0mlen\u001b[0m\u001b[1;33m(\u001b[0m\u001b[0mendog\u001b[0m\u001b[1;33m)\u001b[0m\u001b[1;33m)\u001b[0m\u001b[1;33m\u001b[0m\u001b[1;33m\u001b[0m\u001b[0m\n\u001b[0m\u001b[0;32m    712\u001b[0m         \u001b[1;31m# handle case that endog might be of len == 1\u001b[0m\u001b[1;33m\u001b[0m\u001b[1;33m\u001b[0m\u001b[1;33m\u001b[0m\u001b[0m\n\u001b[0;32m    713\u001b[0m         \u001b[1;32mif\u001b[0m \u001b[0mlen\u001b[0m\u001b[1;33m(\u001b[0m\u001b[0mweights\u001b[0m\u001b[1;33m)\u001b[0m \u001b[1;33m==\u001b[0m \u001b[1;36m1\u001b[0m\u001b[1;33m:\u001b[0m\u001b[1;33m\u001b[0m\u001b[1;33m\u001b[0m\u001b[0m\n",
            "\u001b[1;31mTypeError\u001b[0m: object of type 'StandardScaler' has no len()"
          ]
        }
      ],
      "source": [
        "scale = StandardScaler()\n",
        "xs = scale.fit_transform(X)\n",
        "\n",
        "model = sm.OLS(y,X)\n",
        "result = model.fit_regularized(method='sqrt_lasso', alpha=0.1, profile_scale=True)\n",
        "beta_hat = result.params\n",
        "print(beta_hat)"
      ]
    },
    {
      "cell_type": "code",
      "execution_count": null,
      "metadata": {
        "id": "rMDp_gG3-MCM"
      },
      "outputs": [],
      "source": [
        "scale = StandardScaler()\n",
        "poly = PolynomialFeatures(degree=2)\n",
        "\n",
        "def DoKFold_SK(X,y,model,k):\n",
        "  PE = []\n",
        "  kf = KFold(n_splits=k,shuffle=True,random_state=1234)\n",
        "  pipe = Pipeline([('Scale Data by z-scores',scale),('Polynomial Features',poly),('Regression Model',model)])\n",
        "  for idxtrain, idxtest in kf.split(X):\n",
        "    X_train = X[idxtrain,:]\n",
        "    y_train = y[idxtrain]\n",
        "    X_test  = X[idxtest,:]\n",
        "    y_test  = y[idxtest]\n",
        "    pipe.fit(X_train,y_train)\n",
        "    yhat_test = pipe.predict(X_test)\n",
        "    PE.append(MSE(y_test,yhat_test))\n",
        "  return np.mean(PE)"
      ]
    },
    {
      "cell_type": "code",
      "execution_count": 53,
      "metadata": {
        "colab": {
          "base_uri": "https://localhost:8080/"
        },
        "id": "AlM3GSdtADwO",
        "outputId": "80cdd56c-96ca-4011-ecc8-b8e036097e12"
      },
      "outputs": [
        {
          "data": {
            "text/plain": [
              "13.072864845925285"
            ]
          },
          "execution_count": 53,
          "metadata": {},
          "output_type": "execute_result"
        }
      ],
      "source": [
        "model = Lasso(alpha=0.05,max_iter=5000)\n",
        "DoKFold_SK(X,y,model,10)"
      ]
    },
    {
      "cell_type": "code",
      "execution_count": 54,
      "metadata": {
        "colab": {
          "base_uri": "https://localhost:8080/"
        },
        "id": "flk8zQcCAxtu",
        "outputId": "c3a4dec4-8623-49ba-d5ce-ceaf38c7782c"
      },
      "outputs": [
        {
          "data": {
            "text/plain": [
              "12.440849940902206"
            ]
          },
          "execution_count": 54,
          "metadata": {},
          "output_type": "execute_result"
        }
      ],
      "source": [
        "model = Ridge(alpha=10)\n",
        "DoKFold_SK(X,y,model,10)"
      ]
    },
    {
      "cell_type": "code",
      "execution_count": 55,
      "metadata": {
        "colab": {
          "base_uri": "https://localhost:8080/"
        },
        "id": "kQIlhv5kBC_P",
        "outputId": "57e2c3f1-1019-4e5c-8dcd-9e96d3ac0450"
      },
      "outputs": [
        {
          "data": {
            "text/plain": [
              "12.627459350544342"
            ]
          },
          "execution_count": 55,
          "metadata": {},
          "output_type": "execute_result"
        }
      ],
      "source": [
        "model = ElasticNet(alpha=0.05,l1_ratio=0.25,max_iter=12000)\n",
        "DoKFold_SK(X,y,model,10)"
      ]
    },
    {
      "cell_type": "markdown",
      "metadata": {},
      "source": [
        "For SQRT Lasso, the proposed best alpha is:\n",
        "$$norminv(1-\\frac{0.01}{2p}) \\cdot \\frac{1}{\\sqrt{n}}$$"
      ]
    },
    {
      "cell_type": "code",
      "execution_count": 56,
      "metadata": {
        "id": "-uVIfFZ_WWvU"
      },
      "outputs": [],
      "source": [
        "def DoKFoldSqrtLasso(X,y,alpha,k):\n",
        "  PE = []\n",
        "  kf = KFold(n_splits=k,shuffle=True,random_state=1234)\n",
        "  for idxtrain, idxtest in kf.split(X):\n",
        "    X_train = X[idxtrain,:]\n",
        "    # we create polynomial features\n",
        "    X_train_poly = poly.fit_transform(X_train)\n",
        "    y_train = y[idxtrain]\n",
        "    X_test  = X[idxtest,:]\n",
        "    X_test_poly = poly.fit_transform(X_test)\n",
        "    y_test  = y[idxtest]\n",
        "    model = sm.OLS(y_train,X_train_poly)\n",
        "    result = model.fit_regularized(method='sqrt_lasso', alpha=alpha)\n",
        "    yhat_test = result.predict(X_test_poly)\n",
        "    PE.append(MSE(y_test,yhat_test))\n",
        "  return np.mean(PE)"
      ]
    },
    {
      "cell_type": "code",
      "execution_count": 57,
      "metadata": {
        "colab": {
          "base_uri": "https://localhost:8080/"
        },
        "id": "C434Q7uo-LNg",
        "outputId": "3b28217e-0578-4bb0-daee-a65d32a777e0"
      },
      "outputs": [
        {
          "data": {
            "text/plain": [
              "14.104491920820683"
            ]
          },
          "execution_count": 57,
          "metadata": {},
          "output_type": "execute_result"
        }
      ],
      "source": [
        "DoKFoldSqrtLasso(X,y,0.9,10)"
      ]
    },
    {
      "cell_type": "code",
      "execution_count": 68,
      "metadata": {
        "id": "dTR88a48K3y1"
      },
      "outputs": [
        {
          "name": "stdout",
          "output_type": "stream",
          "text": [
            "0.1\n",
            "0.35789473684210527\n",
            "0.6157894736842106\n",
            "0.8736842105263158\n",
            "1.1315789473684212\n",
            "1.3894736842105266\n",
            "1.6473684210526318\n",
            "1.905263157894737\n",
            "2.1631578947368424\n",
            "2.421052631578948\n",
            "2.678947368421053\n",
            "2.936842105263158\n",
            "3.1947368421052635\n",
            "3.452631578947369\n",
            "3.710526315789474\n",
            "3.9684210526315793\n",
            "4.226315789473684\n",
            "4.484210526315789\n",
            "4.742105263157895\n",
            "5.0\n"
          ]
        },
        {
          "data": {
            "text/plain": [
              "[<matplotlib.lines.Line2D at 0x23ff986da30>]"
            ]
          },
          "execution_count": 68,
          "metadata": {},
          "output_type": "execute_result"
        },
        {
          "data": {
            "image/png": "[encoded data removed]",
            "text/plain": [
              "<Figure size 1200x900 with 1 Axes>"
            ]
          },
          "metadata": {
            "image/png": {
              "height": 745,
              "width": 1021
            },
            "needs_background": "light"
          },
          "output_type": "display_data"
        }
      ],
      "source": [
        "a_range = np.linspace(0.1,5,20) #For lasso we have no hint abobut what is the best alpha, so we have to go through many\n",
        "test_mse = []\n",
        "for a in a_range:\n",
        "  mse = DoKFoldSqrtLasso(xs,y,a,10)\n",
        "  test_mse.append(mse)\n",
        "  print(a)\n",
        "\n",
        "fig, ax = plt.subplots(figsize=(8,6))\n",
        "ax.scatter(a_range,test_mse)\n",
        "ax.plot(a_range,test_mse,c='red')"
      ]
    },
    {
      "cell_type": "code",
      "execution_count": 69,
      "metadata": {
        "colab": {
          "base_uri": "https://localhost:8080/"
        },
        "id": "yLSlBrSN3HyI",
        "outputId": "22e31110-384b-4c50-e1d3-178d87b73d10"
      },
      "outputs": [
        {
          "name": "stdout",
          "output_type": "stream",
          "text": [
            "4.226315789473684\n"
          ]
        }
      ],
      "source": [
        "best_mse = test_mse[np.argmin(test_mse)]\n",
        "best_a = a_range[np.argmin(test_mse)]\n",
        "print(best_a)"
      ]
    },
    {
      "cell_type": "code",
      "execution_count": 70,
      "metadata": {},
      "outputs": [
        {
          "name": "stdout",
          "output_type": "stream",
          "text": [
            "[-9.61926949e-01  2.65622309e+00  9.59958450e-01  1.00470450e-05\n",
            " -1.82423284e+00  2.45603129e-04 -3.03443622e+00  2.02716864e+00\n",
            " -1.82520818e+00 -1.97205506e+00 -3.98127173e+00]\n"
          ]
        }
      ],
      "source": [
        "model = sm.OLS(y,xs)\n",
        "result = model.fit_regularized(method='sqrt_lasso', alpha=4.226315789473684, profile_scale=True)\n",
        "beta_hat = result.params\n",
        "print(beta_hat)"
      ]
    },
    {
      "cell_type": "code",
      "execution_count": null,
      "metadata": {},
      "outputs": [],
      "source": []
    },
    {
      "cell_type": "code",
      "execution_count": null,
      "metadata": {
        "id": "MaVe58fnMwGQ"
      },
      "outputs": [],
      "source": [
        "@jit\n",
        "def scad_penalty(beta_hat, lambda_val, a_val):\n",
        "    is_linear = (np.abs(beta_hat) <= lambda_val)\n",
        "    is_quadratic = np.logical_and(lambda_val < np.abs(beta_hat), np.abs(beta_hat) <= a_val * lambda_val)\n",
        "    is_constant = (a_val * lambda_val) < np.abs(beta_hat)\n",
        "    \n",
        "    linear_part = lambda_val * np.abs(beta_hat) * is_linear\n",
        "    quadratic_part = (2 * a_val * lambda_val * np.abs(beta_hat) - beta_hat**2 - lambda_val**2) / (2 * (a_val - 1)) * is_quadratic\n",
        "    constant_part = (lambda_val**2 * (a_val + 1)) / 2 * is_constant\n",
        "    return linear_part + quadratic_part + constant_part\n",
        "    \n",
        "def scad_derivative(beta_hat, lambda_val, a_val):\n",
        "    return lambda_val * ((beta_hat <= lambda_val) + (a_val * lambda_val - beta_hat)*((a_val * lambda_val - beta_hat) > 0) / ((a_val - 1) * lambda_val) * (beta_hat > lambda_val))"
      ]
    },
    {
      "cell_type": "code",
      "execution_count": null,
      "metadata": {
        "id": "Th_s9ETyNCxG"
      },
      "outputs": [],
      "source": [
        "def scad_model(X,y,lam,a):\n",
        "  n = X.shape[0]\n",
        "  p = X.shape[1]\n",
        "  # we add aan extra columns of 1 for the intercept\n",
        "  #X = np.c_[np.ones((n,1)),X]\n",
        "  def scad(beta):\n",
        "    beta = beta.flatten()\n",
        "    beta = beta.reshape(-1,1)\n",
        "    n = len(y)\n",
        "    return 1/n*np.sum((y-X.dot(beta))**2) + np.sum(scad_penalty(beta,lam,a))\n",
        "  \n",
        "  def dscad(beta):\n",
        "    beta = beta.flatten()\n",
        "    beta = beta.reshape(-1,1)\n",
        "    n = len(y)\n",
        "    return np.array(-2/n*np.transpose(X).dot(y-X.dot(beta))+scad_derivative(beta,lam,a)).flatten()\n",
        "  b0 = np.ones((p,1))\n",
        "  output = minimize(scad, b0, method='L-BFGS-B', jac=dscad,options={'gtol': 1e-8, 'maxiter': 1e7,'maxls': 25,'disp': True})\n",
        "  return output.x"
      ]
    },
    {
      "cell_type": "code",
      "execution_count": null,
      "metadata": {
        "id": "1MA2acupMrFa"
      },
      "outputs": [],
      "source": [
        "def DoKFoldScad(X,y,lam,a,k):\n",
        "  PE = []\n",
        "  kf = KFold(n_splits=k,shuffle=True,random_state=1234)\n",
        "  for idxtrain, idxtest in kf.split(X):\n",
        "    X_train = X[idxtrain,:]\n",
        "    X_train_scaled = scale.fit_transform(X_train)\n",
        "    X_train_poly = poly.fit_transform(X_train_scaled)\n",
        "    y_train = y[idxtrain]\n",
        "    X_test  = X[idxtest,:]\n",
        "    X_test_scaled = scale.transform(X_test)\n",
        "    X_test_poly = poly.fit_transform(X_test_scaled)\n",
        "    y_test  = y[idxtest]\n",
        "    beta_scad = scad_model(X_train_poly,y_train,lam,a)\n",
        "    n = X_test_poly.shape[0]\n",
        "    p = X_test_poly.shape[1]\n",
        "    # we add an extra columns of 1 for the intercept\n",
        "    #X1_test = np.c_[np.ones((n,1)),X_test]\n",
        "    yhat_scad = X_test_poly.dot(beta_scad)\n",
        "    PE.append(MAE(y_test,yhat_scad))\n",
        "  return 1000*np.mean(PE)"
      ]
    },
    {
      "cell_type": "code",
      "execution_count": null,
      "metadata": {
        "colab": {
          "base_uri": "https://localhost:8080/"
        },
        "id": "sfcHpz2QMrG_",
        "outputId": "dc22a2dc-10e2-4d3f-b5cf-4729ca3f6ba3"
      },
      "outputs": [
        {
          "data": {
            "text/plain": [
              "2503.7921511708114"
            ]
          },
          "execution_count": 138,
          "metadata": {
            "tags": []
          },
          "output_type": "execute_result"
        }
      ],
      "source": [
        "DoKFoldScad(X,y,0.001,1.55,10)"
      ]
    },
    {
      "cell_type": "code",
      "execution_count": null,
      "metadata": {
        "id": "tzv9XNE3MrIi"
      },
      "outputs": [],
      "source": []
    },
    {
      "cell_type": "code",
      "execution_count": null,
      "metadata": {
        "id": "022plll_MrVe"
      },
      "outputs": [],
      "source": []
    },
    {
      "cell_type": "markdown",
      "metadata": {
        "id": "1gVpDDjjduaQ"
      },
      "source": [
        "## Automated approach with Particle Swarm Optimization\n",
        "\n",
        "- INPUT: array or latice of candidate values for the hyperparameter(s)\n",
        "\n",
        "- OUTPUT: the choice that is the cross-validated best"
      ]
    },
    {
      "cell_type": "code",
      "execution_count": null,
      "metadata": {
        "id": "yS0gh25a4hD-"
      },
      "outputs": [],
      "source": [
        "L_test = []\n",
        "L_train = []\n",
        "for idxtrain, idxtest in kf.split(X):\n",
        "  L_test.append(idxtest)\n",
        "  L_train.append(idxtrain)"
      ]
    },
    {
      "cell_type": "code",
      "execution_count": null,
      "metadata": {
        "colab": {
          "base_uri": "https://localhost:8080/"
        },
        "id": "P57m2jal42ME",
        "outputId": "b037d147-f0b0-40ff-a4df-1280fde946d5"
      },
      "outputs": [
        {
          "data": {
            "text/plain": [
              "array([  5,   6,   9,  17,  23,  31,  32,  35,  48,  52,  60,  63,  65,\n",
              "        72,  77,  80,  83,  93,  94,  95, 106, 125, 127, 132, 134, 137,\n",
              "       144, 146, 147, 157, 162, 167, 168, 173, 176, 178, 179, 180, 184,\n",
              "       185, 186, 193, 199, 202, 203, 206, 209, 216, 217, 222, 223, 227,\n",
              "       232, 245, 248, 254, 260, 261, 271, 273, 278, 283, 289, 297, 302,\n",
              "       312, 327, 330, 335, 356, 357, 360, 364, 376, 381, 382, 390, 397,\n",
              "       410, 413, 414, 415, 425, 436, 439, 445, 446, 453, 455, 461, 462,\n",
              "       464, 467, 468, 471, 479, 482, 488, 489, 499, 502])"
            ]
          },
          "execution_count": 55,
          "metadata": {
            "tags": []
          },
          "output_type": "execute_result"
        }
      ],
      "source": [
        "L_test[2]"
      ]
    },
    {
      "cell_type": "code",
      "execution_count": null,
      "metadata": {
        "id": "7V_6h1IxamuX"
      },
      "outputs": [],
      "source": [
        "@jit\n",
        "def SqrtLassoCV(alpha):\n",
        "  PEV = []\n",
        "  for i in range(len(alpha[:,0])):\n",
        "    PE  = []\n",
        "    a = alpha[i,0]\n",
        "    for i in range(5):\n",
        "      idxtrain = L_train[i]\n",
        "      idxtest  = L_test[i]\n",
        "      X_train = X[idxtrain,:]\n",
        "      y_train = y[idxtrain]\n",
        "      X_test  = X[idxtest,:]\n",
        "      y_test  = y[idxtest]\n",
        "      model = sm.OLS(y_train,X_train)\n",
        "      result = model.fit_regularized(method='sqrt_lasso', alpha=a)\n",
        "      yhat_test = result.predict(X_test)\n",
        "      # mae = np.mean(np.abs(y_test-yhat_test))\n",
        "      PE.append(MAE(y_test,yhat_test))\n",
        "    PEV.append(np.mean(PE))\n",
        "  return np.array(PEV)"
      ]
    },
    {
      "cell_type": "code",
      "execution_count": null,
      "metadata": {
        "id": "-r0Ui7yWWXAe"
      },
      "outputs": [],
      "source": [
        "x_max = 20 *np.ones(1)\n",
        "x_min = 0.001 * np.ones(1)\n",
        "bounds = (x_min, x_max)\n",
        "options = {'c1': 0.5, 'c2': 0.3, 'w': 0.9}\n",
        "\n",
        "optimizer = ps.single.GlobalBestPSO(n_particles=10, dimensions=1, options=options, bounds=bounds)\n",
        "\n",
        "cost, pos = optimizer.optimize(SqrtLassoCV, iters=100)"
      ]
    },
    {
      "cell_type": "code",
      "execution_count": null,
      "metadata": {
        "id": "vo4cWTm1gAwz"
      },
      "outputs": [],
      "source": [
        "yy = np.random.normal(0,1,(100,1))\n",
        "yh = np.random.normal(0,1,(100,1))"
      ]
    },
    {
      "cell_type": "code",
      "execution_count": null,
      "metadata": {
        "colab": {
          "base_uri": "https://localhost:8080/"
        },
        "id": "3GPBiALl7l10",
        "outputId": "f9e0c042-6b9e-470d-95b6-0fc621821cad"
      },
      "outputs": [
        {
          "data": {
            "text/plain": [
              "1.1224248949316133"
            ]
          },
          "execution_count": 65,
          "metadata": {
            "tags": []
          },
          "output_type": "execute_result"
        }
      ],
      "source": [
        "MAE(yy,yh)"
      ]
    },
    {
      "cell_type": "code",
      "execution_count": null,
      "metadata": {
        "colab": {
          "base_uri": "https://localhost:8080/"
        },
        "id": "WaWi_9Pf7qsm",
        "outputId": "d992d5bc-fed7-44d6-a5dc-8cd7f8389e47"
      },
      "outputs": [
        {
          "data": {
            "text/plain": [
              "1.1224248949316133"
            ]
          },
          "execution_count": 67,
          "metadata": {
            "tags": []
          },
          "output_type": "execute_result"
        }
      ],
      "source": [
        "np.mean(np.abs(yy-yh))"
      ]
    },
    {
      "cell_type": "markdown",
      "metadata": {
        "id": "xIAORQRDGHd-"
      },
      "source": [
        "## Simmulated Annealing"
      ]
    },
    {
      "cell_type": "code",
      "execution_count": null,
      "metadata": {
        "id": "2FJ4avVBGSgq"
      },
      "outputs": [],
      "source": [
        "MIN_ALPHA = 1e-3\n",
        "MAX_ALPHA = 20\n",
        "STEP_SIZE = 1     # Std of gaussian steps\n",
        "COOLING = 0.975     # T_{n+1} = T_{n}*COOLING, i.e. geometric cooling"
      ]
    },
    {
      "cell_type": "code",
      "execution_count": null,
      "metadata": {
        "id": "4znewZJUgA0a"
      },
      "outputs": [],
      "source": [
        "# We already have the cost embedded into DoKFold\n",
        "def random_start():\n",
        "    alpha = np.random.random()*(MAX_ALPHA-MIN_ALPHA) + MIN_ALPHA\n",
        "    return alpha\n",
        "def random_neighbour(alpha,T):\n",
        "    delta_alpha = np.random.normal()*STEP_SIZE*T\n",
        "    new_alpha = min(MAX_ALPHA, max(MIN_ALPHA, alpha+delta_alpha))\n",
        "    return new_alpha\n",
        "def acceptance_probability(cost, new_cost, temperature):\n",
        "    if new_cost < cost:\n",
        "        return 1\n",
        "    else:\n",
        "        p = np.exp(-(new_cost - cost) / temperature)\n",
        "        return p\n",
        "def locate_min(a):\n",
        "    smallest = min(a)\n",
        "    return smallest, [index for index, element in enumerate(a) if smallest == element]\n",
        "\n",
        "def annealing(alpha0 = random_start()):\n",
        "    # Start with a random configuration\n",
        "    # alpha = random_start()\n",
        "    alpha = alpha0\n",
        "    \n",
        "    # Compute the cost function (in this case, 1-accuracy)\n",
        "    cost = DoKFoldSqrtLasso(X,y,alpha)\n",
        "    \n",
        "    # Keep lists of results, start with the current\n",
        "    states, costs = [alpha], [cost]\n",
        "    T = 1\n",
        "    while T > 1e-10:\n",
        "        new_alpha = random_neighbour(alpha,T)\n",
        "        new_cost = DoKFoldSqrtLasso(X,y,alpha=new_alpha)\n",
        "        if acceptance_probability(cost, new_cost, T) > np.random.random():\n",
        "            cost = new_cost\n",
        "            alpha = new_alpha\n",
        "            states.append(alpha)\n",
        "            costs.append(cost)\n",
        "        T = T*COOLING\n",
        "    return model,states,costs"
      ]
    },
    {
      "cell_type": "code",
      "execution_count": null,
      "metadata": {
        "colab": {
          "base_uri": "https://localhost:8080/",
          "height": 420
        },
        "id": "AKET2iW0gA4d",
        "outputId": "3f56e443-50bc-4270-bb8c-8016e26d220c"
      },
      "outputs": [
        {
          "name": "stdout",
          "output_type": "stream",
          "text": [
            "Lowest cost function value: 3546.35580653421\n",
            "Best alpha value(s):\n",
            "[0.49016785990413153]\n"
          ]
        },
        {
          "data": {
            "image/png": "[encoded data removed]",
            "text/plain": [
              "<Figure size 864x360 with 2 Axes>"
            ]
          },
          "metadata": {
            "image/png": {
              "height": 351,
              "width": 856
            },
            "needs_background": "light",
            "tags": []
          },
          "output_type": "display_data"
        }
      ],
      "source": [
        "model,states,costs = annealing()\n",
        "\n",
        "lowest_cost, best_states = locate_min(costs)\n",
        "print('Lowest cost function value: ' + str(lowest_cost))\n",
        "print('Best alpha value(s):')\n",
        "print([states[idx] for idx in best_states])\n",
        "\n",
        "plt.figure(figsize=(12,5))\n",
        "plt.subplot(1,2,1)\n",
        "plt.plot(states,':.r')\n",
        "plt.xlabel('Iteration')\n",
        "plt.ylabel('alpha')\n",
        "plt.subplot(1,2,2)\n",
        "plt.plot(costs,':.b')\n",
        "plt.xlabel('Iteration')\n",
        "plt.ylabel('MAE')\n",
        "plt.tight_layout()\n",
        "plt.show()"
      ]
    },
    {
      "cell_type": "code",
      "execution_count": null,
      "metadata": {
        "id": "XKepQ1pOgA77"
      },
      "outputs": [],
      "source": []
    },
    {
      "cell_type": "code",
      "execution_count": null,
      "metadata": {
        "id": "qqSCC7ZjUM8v"
      },
      "outputs": [],
      "source": [
        "model  = LinearRegression()\n",
        "model.fit(X,y)\n",
        "model.coef_"
      ]
    },
    {
      "cell_type": "code",
      "execution_count": null,
      "metadata": {
        "colab": {
          "base_uri": "https://localhost:8080/"
        },
        "id": "dfFuQ_HzUNII",
        "outputId": "faec6188-f20d-4f3c-ab99-f85865bce254"
      },
      "outputs": [
        {
          "data": {
            "text/plain": [
              "array([-0.72989416,  1.67586938,  2.5186417 ,  0.01460169,  0.16767627,\n",
              "        0.        , -0.        ,  1.68780325, -0.34387493,  3.8160577 ,\n",
              "        0.12751221,  0.        ,  0.06810297, -0.06883119, -0.        ,\n",
              "       -0.        , -0.        ,  0.        ,  0.        ,  0.        ])"
            ]
          },
          "execution_count": 61,
          "metadata": {
            "tags": []
          },
          "output_type": "execute_result"
        }
      ],
      "source": [
        "model = Lasso(alpha=0.1)\n",
        "model.fit(X,y)\n",
        "model.coef_"
      ]
    },
    {
      "cell_type": "code",
      "execution_count": null,
      "metadata": {
        "colab": {
          "base_uri": "https://localhost:8080/"
        },
        "id": "RdWg02PNV5Ci",
        "outputId": "413be1a3-96ee-46d6-ab3f-fb06fba43781"
      },
      "outputs": [
        {
          "data": {
            "text/plain": [
              "array([-0.39403815,  1.3998379 ,  2.20618106,  0.21584558,  0.24331836,\n",
              "        0.        ,  0.        ,  1.54099904, -0.        ,  3.19358678,\n",
              "        0.41944205,  0.        ,  0.        , -0.        , -0.        ,\n",
              "       -0.        , -0.        ,  0.        ,  0.        ,  0.        ])"
            ]
          },
          "execution_count": 62,
          "metadata": {
            "tags": []
          },
          "output_type": "execute_result"
        }
      ],
      "source": [
        "model = ElasticNet(alpha=0.2,l1_ratio=0.75)\n",
        "model.fit(X,y)\n",
        "model.coef_"
      ]
    },
    {
      "cell_type": "markdown",
      "metadata": {
        "id": "p66gvix44gqw"
      },
      "source": [
        "## SCAD"
      ]
    },
    {
      "cell_type": "code",
      "execution_count": null,
      "metadata": {
        "id": "SLDy5ApX4eTE"
      },
      "outputs": [],
      "source": [
        "@jit\n",
        "def scad_penalty(beta_hat, lambda_val, a_val):\n",
        "    is_linear = (np.abs(beta_hat) <= lambda_val)\n",
        "    is_quadratic = np.logical_and(lambda_val < np.abs(beta_hat), np.abs(beta_hat) <= a_val * lambda_val)\n",
        "    is_constant = (a_val * lambda_val) < np.abs(beta_hat)\n",
        "    \n",
        "    linear_part = lambda_val * np.abs(beta_hat) * is_linear\n",
        "    quadratic_part = (2 * a_val * lambda_val * np.abs(beta_hat) - beta_hat**2 - lambda_val**2) / (2 * (a_val - 1)) * is_quadratic\n",
        "    constant_part = (lambda_val**2 * (a_val + 1)) / 2 * is_constant\n",
        "    return linear_part + quadratic_part + constant_part\n",
        "    \n",
        "def scad_derivative(beta_hat, lambda_val, a_val):\n",
        "    return lambda_val * ((beta_hat <= lambda_val) + (a_val * lambda_val - beta_hat)*((a_val * lambda_val - beta_hat) > 0) / ((a_val - 1) * lambda_val) * (beta_hat > lambda_val))"
      ]
    },
    {
      "cell_type": "code",
      "execution_count": null,
      "metadata": {
        "id": "O5_N9Ex7l8tf"
      },
      "outputs": [],
      "source": [
        "def scad_model(X,y,lam,a):\n",
        "  n = X.shape[0]\n",
        "  p = X.shape[1]\n",
        "  # we add aan extra columns of 1 for the intercept\n",
        "  X = np.c_[np.ones((n,1)),X]\n",
        "  def scad(beta):\n",
        "    beta = beta.flatten()\n",
        "    beta = beta.reshape(-1,1)\n",
        "    n = len(y)\n",
        "    return 1/n*np.sum((y-X.dot(beta))**2) + np.sum(scad_penalty(beta,lam,a))\n",
        "  \n",
        "  def dscad(beta):\n",
        "    beta = beta.flatten()\n",
        "    beta = beta.reshape(-1,1)\n",
        "    n = len(y)\n",
        "    return np.array(-2/n*np.transpose(X).dot(y-X.dot(beta))+scad_derivative(beta,lam,a)).flatten()\n",
        "  b0 = np.ones((p+1,1))\n",
        "  output = minimize(scad, b0, method='L-BFGS-B', jac=dscad,options={'gtol': 1e-8, 'maxiter': 1e7,'maxls': 25,'disp': True})\n",
        "  return output.x"
      ]
    },
    {
      "cell_type": "code",
      "execution_count": null,
      "metadata": {
        "colab": {
          "base_uri": "https://localhost:8080/"
        },
        "id": "dPfDeDVmoEvc",
        "outputId": "5dbe3bf9-83c9-4742-8a4a-3fae34dc0042"
      },
      "outputs": [
        {
          "name": "stderr",
          "output_type": "stream",
          "text": [
            "\n",
            "\n",
            "pyswarms.single.global_best:   6%|▌         |6/100, best_cost=9.16\n"
          ]
        },
        {
          "data": {
            "text/plain": [
              "array([-1.35823170e-01, -1.57306693e-01,  4.63919361e+00,  9.54177909e-02,\n",
              "       -1.27275656e-01, -4.38167624e-01,  1.09807143e-02, -1.41843315e+00,\n",
              "       -3.68115294e-02, -4.37181483e-03,  4.09109429e-01, -4.98606069e-01])"
            ]
          },
          "execution_count": 82,
          "metadata": {
            "tags": []
          },
          "output_type": "execute_result"
        }
      ],
      "source": [
        "scad_model(X,y,2,2)"
      ]
    },
    {
      "cell_type": "code",
      "execution_count": null,
      "metadata": {
        "id": "jYqCt9L2PgMD"
      },
      "outputs": [],
      "source": [
        "def scad_predict(X,y,lam,a):\n",
        "  beta_scad = scad_model(X,y,lam,a)\n",
        "  n = X.shape[0]\n",
        "  p = X.shape[1]\n",
        "  # we add aan extra columns of 1 for the intercept\n",
        "  X = np.c_[np.ones((n,1)),X]\n",
        "  return X.dot(beta_scad)"
      ]
    },
    {
      "cell_type": "code",
      "execution_count": null,
      "metadata": {
        "id": "4yL2CYDOcHg0"
      },
      "outputs": [],
      "source": [
        "def DoKFoldScad(X,y,lam,a):\n",
        "  PE = []\n",
        "  for idxtrain, idxtest in kf.split(X):\n",
        "    X_train = X[idxtrain,:]\n",
        "    y_train = y[idxtrain]\n",
        "    X_test  = X[idxtest,:]\n",
        "    y_test  = y[idxtest]\n",
        "    beta_scad = scad_model(X_train,y_train,lam,a)\n",
        "    n = X_test.shape[0]\n",
        "    p = X_test.shape[1]\n",
        "    # we add an extra columns of 1 for the intercept\n",
        "    X1_test = np.c_[np.ones((n,1)),X_test]\n",
        "    yhat_scad = X1_test.dot(beta_scad)\n",
        "    PE.append(MAE(y_test,yhat_scad))\n",
        "  return 1000*np.mean(PE)"
      ]
    },
    {
      "cell_type": "code",
      "execution_count": null,
      "metadata": {
        "colab": {
          "base_uri": "https://localhost:8080/"
        },
        "id": "ni058y59cnDU",
        "outputId": "db8a17ff-921a-4f1f-a933-3912ec29f93b"
      },
      "outputs": [
        {
          "data": {
            "text/plain": [
              "3563.3315517943674"
            ]
          },
          "execution_count": 85,
          "metadata": {
            "tags": []
          },
          "output_type": "execute_result"
        }
      ],
      "source": [
        "DoKFoldScad(X,y,0.1,1.2)"
      ]
    },
    {
      "cell_type": "code",
      "execution_count": null,
      "metadata": {
        "id": "4aI3pVhQurfb"
      },
      "outputs": [],
      "source": [
        "from numba import jit, prange"
      ]
    },
    {
      "cell_type": "code",
      "execution_count": null,
      "metadata": {
        "id": "ww1Jckw4Pg8T"
      },
      "outputs": [],
      "source": [
        "@jit\n",
        "def ScadCV(hparam):\n",
        "  PEV = []\n",
        "  for i in prange(len(hparam[:,0])):\n",
        "    for j in prange(len(hparam[:,1])):\n",
        "      PE  = []\n",
        "      for idxtrain, idxtest in kf.split(X):\n",
        "        X_train = X[idxtrain,:]\n",
        "        y_train = y[idxtrain]\n",
        "        X_test  = X[idxtest,:]\n",
        "        y_test  = y[idxtest]\n",
        "        beta_scad = scad_model(X_train,y_train,hparam[i,0],hparam[j,1])\n",
        "        n = X_test.shape[0]\n",
        "        p = X_test.shape[1]\n",
        "        # we add an extra columns of 1 for the intercept\n",
        "        X1_test = np.c_[np.ones((n,1)),X_test]\n",
        "        yhat_scad = X1_test.dot(beta_scad)\n",
        "        PE.append(MAE(y_test,yhat_scad))\n",
        "    PEV.append(np.mean(PE))\n",
        "  return np.array(PEV)"
      ]
    },
    {
      "cell_type": "code",
      "execution_count": null,
      "metadata": {
        "colab": {
          "base_uri": "https://localhost:8080/"
        },
        "id": "VwJdJoDa3Uzw",
        "outputId": "374eaea1-3e73-4057-abed-0d0c5e7ae6ea"
      },
      "outputs": [
        {
          "name": "stderr",
          "output_type": "stream",
          "text": [
            "pyswarms.single.global_best: 100%|██████████|70/70, best_cost=3.48\n",
            "2021-03-12 18:31:29,736 - pyswarms.single.global_best - INFO - Optimization finished | best cost: 3.4778452007773084, best pos: [0.01053186 1.54210738]\n"
          ]
        }
      ],
      "source": [
        "x_max = np.array([2, 2])\n",
        "x_min = np.array([0.001, 1.0001])\n",
        "bounds = (x_min, x_max)\n",
        "options = {'c1': 0.5, 'c2': 0.3, 'w': 0.9}\n",
        "\n",
        "optimizer = ps.single.GlobalBestPSO(n_particles=20, dimensions=2, options=options, bounds=bounds)\n",
        "\n",
        "cost, pos = optimizer.optimize(ScadCV, iters=70)"
      ]
    },
    {
      "cell_type": "code",
      "execution_count": null,
      "metadata": {
        "colab": {
          "base_uri": "https://localhost:8080/"
        },
        "id": "tjSK12qg3mn2",
        "outputId": "00e4948f-09e6-41f7-f005-240b051a8aaa"
      },
      "outputs": [
        {
          "data": {
            "text/plain": [
              "array([2, 2])"
            ]
          },
          "execution_count": 153,
          "metadata": {
            "tags": []
          },
          "output_type": "execute_result"
        }
      ],
      "source": [
        "x_max "
      ]
    },
    {
      "cell_type": "code",
      "execution_count": null,
      "metadata": {
        "id": "O_2JEaow3pGQ"
      },
      "outputs": [],
      "source": [
        "x_max = np.array([2, 2])"
      ]
    },
    {
      "cell_type": "code",
      "execution_count": null,
      "metadata": {
        "id": "Jo2hNMWoFTuG"
      },
      "outputs": [],
      "source": [
        "%%time\n",
        "model = ElasticNet()\n",
        "params = [{'alpha':np.linspace(0.001,1,num=50),'l1_ratio':np.linspace(0,1,num=50)}]\n",
        "gs = GridSearchCV(estimator=model,cv=10,scoring='neg_mean_squared_error',param_grid=params)\n",
        "gs_results = gs.fit(X,y)\n",
        "print(gs_results.best_params_)\n",
        "print('The mean square error is: ', np.abs(gs_results.best_score_))"
      ]
    },
    {
      "cell_type": "markdown",
      "metadata": {
        "id": "op2_MRk5thJM"
      },
      "source": [
        "## Example of Stepwise Regression"
      ]
    },
    {
      "cell_type": "code",
      "execution_count": null,
      "metadata": {
        "id": "J4-R5nngtmMR"
      },
      "outputs": [],
      "source": [
        "# Implementation of stepwise regression\n",
        "def stepwise_selection(X, y, \n",
        "                       initial_list=[], \n",
        "                       threshold_in=0.01, \n",
        "                       threshold_out = 0.05, \n",
        "                       verbose=True):\n",
        "    \"\"\" Perform a forward-backward feature selection \n",
        "    based on p-value from statsmodels.api.OLS\n",
        "    Arguments:\n",
        "        X - pandas.DataFrame with candidate features\n",
        "        y - list-like with the target\n",
        "        initial_list - list of features to start with (column names of X)\n",
        "        threshold_in - include a feature if its p-value < threshold_in\n",
        "        threshold_out - exclude a feature if its p-value > threshold_out\n",
        "        verbose - whether to print the sequence of inclusions and exclusions\n",
        "    Returns: list of selected features \n",
        "    Always set threshold_in < threshold_out to avoid infinite looping.\n",
        "    See https://en.wikipedia.org/wiki/Stepwise_regression for the details \"\"\"\n",
        "    \n",
        "    included = list(initial_list)\n",
        "    while True:\n",
        "        changed=False\n",
        "        # forward step\n",
        "        excluded = list(set(X.columns)-set(included))\n",
        "        new_pval = pd.Series(index=excluded)\n",
        "        for new_column in excluded:\n",
        "            model = sm.OLS(y, sm.add_constant(pd.DataFrame(X[included+[new_column]]))).fit()\n",
        "            new_pval[new_column] = model.pvalues[new_column]\n",
        "        best_pval = new_pval.min()\n",
        "        if best_pval < threshold_in:\n",
        "            best_feature = new_pval.idxmin()\n",
        "            included.append(best_feature)\n",
        "            changed=True\n",
        "            if verbose:\n",
        "                print('Add  {:30} with p-value {:.6}'.format(best_feature, best_pval))\n",
        "\n",
        "        # backward step\n",
        "        model = sm.OLS(y, sm.add_constant(pd.DataFrame(X[included]))).fit()\n",
        "        # use all coefs except intercept\n",
        "        pvalues = model.pvalues.iloc[1:]\n",
        "        worst_pval = pvalues.max() # null if pvalues is empty\n",
        "        if worst_pval > threshold_out:\n",
        "            changed=True\n",
        "            worst_feature = pvalues.idxmax()\n",
        "            included.remove(worst_feature)\n",
        "            if verbose:\n",
        "                print('Drop {:30} with p-value {:.6}'.format(worst_feature, worst_pval))\n",
        "        if not changed:\n",
        "            break\n",
        "    return included"
      ]
    },
    {
      "cell_type": "markdown",
      "metadata": {
        "id": "QkY8Sg3gs42o"
      },
      "source": [
        "## Ranking Variables (this is relative to the context/model)"
      ]
    },
    {
      "cell_type": "code",
      "execution_count": null,
      "metadata": {
        "colab": {
          "base_uri": "https://localhost:8080/"
        },
        "id": "AoaqcGFYtCkF",
        "outputId": "1d176b66-8bc6-47c6-e122-154dd46185e2"
      },
      "outputs": [
        {
          "name": "stderr",
          "output_type": "stream",
          "text": [
            "/usr/local/lib/python3.7/dist-packages/ipykernel_launcher.py:5: DataConversionWarning: A column-vector y was passed when a 1d array was expected. Please change the shape of y to (n_samples,), for example using ravel().\n",
            "  \"\"\"\n"
          ]
        },
        {
          "data": {
            "text/plain": [
              "RandomForestRegressor(bootstrap=True, ccp_alpha=0.0, criterion='mse',\n",
              "                      max_depth=10, max_features='auto', max_leaf_nodes=None,\n",
              "                      max_samples=None, min_impurity_decrease=0.0,\n",
              "                      min_impurity_split=None, min_samples_leaf=1,\n",
              "                      min_samples_split=2, min_weight_fraction_leaf=0.0,\n",
              "                      n_estimators=100, n_jobs=None, oob_score=False,\n",
              "                      random_state=310, verbose=0, warm_start=False)"
            ]
          },
          "execution_count": 24,
          "metadata": {
            "tags": []
          },
          "output_type": "execute_result"
        }
      ],
      "source": [
        "from sklearn.ensemble import RandomForestRegressor\n",
        "\n",
        "model = RandomForestRegressor(random_state=310, max_depth=10,n_estimators=100)\n"
      ]
    },
    {
      "cell_type": "code",
      "execution_count": null,
      "metadata": {
        "id": "mi06RTxpy-5V"
      },
      "outputs": [],
      "source": [
        "df.drop('cmedv',axis=1)"
      ]
    },
    {
      "cell_type": "code",
      "execution_count": null,
      "metadata": {
        "colab": {
          "base_uri": "https://localhost:8080/"
        },
        "id": "uWpvk5HBy1KZ",
        "outputId": "f96cff89-c670-4d1a-9ea0-5efaf9559fa3"
      },
      "outputs": [
        {
          "name": "stderr",
          "output_type": "stream",
          "text": [
            "/usr/local/lib/python3.7/dist-packages/ipykernel_launcher.py:1: DataConversionWarning: A column-vector y was passed when a 1d array was expected. Please change the shape of y to (n_samples,), for example using ravel().\n",
            "  \"\"\"Entry point for launching an IPython kernel.\n"
          ]
        },
        {
          "data": {
            "text/plain": [
              "RandomForestRegressor(bootstrap=True, ccp_alpha=0.0, criterion='mse',\n",
              "                      max_depth=10, max_features='auto', max_leaf_nodes=None,\n",
              "                      max_samples=None, min_impurity_decrease=0.0,\n",
              "                      min_impurity_split=None, min_samples_leaf=1,\n",
              "                      min_samples_split=2, min_weight_fraction_leaf=0.0,\n",
              "                      n_estimators=100, n_jobs=None, oob_score=False,\n",
              "                      random_state=310, verbose=0, warm_start=False)"
            ]
          },
          "execution_count": 38,
          "metadata": {
            "tags": []
          },
          "output_type": "execute_result"
        }
      ],
      "source": [
        "model.fit(X,y)"
      ]
    },
    {
      "cell_type": "code",
      "execution_count": null,
      "metadata": {
        "colab": {
          "base_uri": "https://localhost:8080/",
          "height": 294
        },
        "id": "G4gjNvoitMXN",
        "outputId": "321e6f6e-c37a-4925-cfee-37ba6274b0ee"
      },
      "outputs": [
        {
          "data": {
            "image/png": "[encoded data removed]",
            "text/plain": [
              "<Figure size 432x288 with 1 Axes>"
            ]
          },
          "metadata": {
            "image/png": {
              "height": 277,
              "width": 403
            },
            "needs_background": "light",
            "tags": []
          },
          "output_type": "display_data"
        }
      ],
      "source": [
        "features = Xdf.columns\n",
        "importances = model.feature_importances_\n",
        "indices = np.argsort(importances)[-9:]  # top 10 features\n",
        "plt.title('Feature Importances')\n",
        "plt.barh(range(len(indices)), importances[indices], color='b', align='center')\n",
        "plt.yticks(range(len(indices)), [features[i] for i in indices])\n",
        "plt.xlabel('Relative Importance')\n",
        "plt.show()"
      ]
    },
    {
      "cell_type": "code",
      "execution_count": null,
      "metadata": {
        "id": "n5l50uhrysHo"
      },
      "outputs": [],
      "source": []
    }
  ],
  "metadata": {
    "colab": {
      "collapsed_sections": [],
      "name": "DATA 410 Lecture 20 - Spring 2022.ipynb",
      "provenance": []
    },
    "kernelspec": {
      "display_name": "Python 3",
      "name": "python3"
    },
    "language_info": {
      "codemirror_mode": {
        "name": "ipython",
        "version": 3
      },
      "file_extension": ".py",
      "mimetype": "text/x-python",
      "name": "python",
      "nbconvert_exporter": "python",
      "pygments_lexer": "ipython3",
      "version": "3.9.6"
    }
  },
  "nbformat": 4,
  "nbformat_minor": 0
}
