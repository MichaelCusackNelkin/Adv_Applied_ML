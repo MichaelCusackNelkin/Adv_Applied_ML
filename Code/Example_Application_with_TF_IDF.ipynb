{
  "nbformat": 4,
  "nbformat_minor": 0,
  "metadata": {
    "colab": {
      "name": "Example Application with TF-IDF.ipynb",
      "provenance": [],
      "collapsed_sections": []
    },
    "kernelspec": {
      "name": "python3",
      "display_name": "Python 3"
    },
    "language_info": {
      "name": "python"
    }
  },
  "cells": [
    {
      "cell_type": "markdown",
      "metadata": {
        "id": "3EolUBgShy0j"
      },
      "source": [
        "# Applications with TF-IDF\n",
        "\n",
        "The term frequency-inverse document frequency is a measure that quantifies the importance of a word in the context of a document or a *corpus*.\n",
        "\n",
        "The *term-frequency* of a word is the relative frequency of the term in the context of the document.\n",
        "\n",
        "$$\\text{TF}(t,d):=\\frac{\\text{# of times the term appears in the document}}{\\text{# of terms in the document }}$$\n",
        "\n",
        "\n",
        "The *inverse document frequency* is defined as:\n",
        "\n",
        "$$\\text{IDF}(t,d):=\\log\\left(\\frac{\\text{# of documents}}{\\text{# of documents with term } t}\\right)$$\n",
        "\n",
        "Our quantification of relative importance is defined as the product between TF and IDF.\n",
        "\n",
        "TF-IDF gives larger values for less frequent words and is high when both IDF and TF values are high, for instance the word is rare in all the documents combined but frequent in a single document."
      ]
    },
    {
      "cell_type": "code",
      "metadata": {
        "id": "xGzlQa0Ug0uI"
      },
      "source": [
        "import pandas as pd\n",
        "import numpy as np\n",
        "from sklearn.feature_extraction.text import TfidfVectorizer"
      ],
      "execution_count": null,
      "outputs": []
    },
    {
      "cell_type": "code",
      "source": [
        "from sklearn.linear_model import LogisticRegression\n",
        "from sklearn.metrics import confusion_matrix"
      ],
      "metadata": {
        "id": "EFN5osOrpy4u"
      },
      "execution_count": null,
      "outputs": []
    },
    {
      "cell_type": "code",
      "metadata": {
        "id": "0FdOIuXig5aJ"
      },
      "source": [
        "documentA = 'jurassic world was the pinnacle of human achievement'\n",
        "documentB = 'human kind would be better without jurassic world'"
      ],
      "execution_count": null,
      "outputs": []
    },
    {
      "cell_type": "code",
      "source": [
        "documents = []"
      ],
      "metadata": {
        "id": "hJ75k-e5R_ut"
      },
      "execution_count": null,
      "outputs": []
    },
    {
      "cell_type": "code",
      "source": [
        "documents.append(documentA)\n",
        "documents.append(documentB)"
      ],
      "metadata": {
        "id": "R7IO2W_TSDVM"
      },
      "execution_count": null,
      "outputs": []
    },
    {
      "cell_type": "code",
      "metadata": {
        "id": "u45l7Zphg87S"
      },
      "source": [
        "bagOfWordsA = documentA.split(' ')\n",
        "bagOfWordsB = documentB.split(' ')"
      ],
      "execution_count": null,
      "outputs": []
    },
    {
      "cell_type": "code",
      "metadata": {
        "colab": {
          "base_uri": "https://localhost:8080/"
        },
        "id": "XDdSdvZmhA9K",
        "outputId": "22bbca34-66de-48f3-c452-715c8df2d9af"
      },
      "source": [
        "len(bagOfWordsA)"
      ],
      "execution_count": null,
      "outputs": [
        {
          "output_type": "execute_result",
          "data": {
            "text/plain": [
              "8"
            ]
          },
          "metadata": {},
          "execution_count": 5
        }
      ]
    },
    {
      "cell_type": "code",
      "source": [
        "1/8"
      ],
      "metadata": {
        "colab": {
          "base_uri": "https://localhost:8080/"
        },
        "id": "T_bX3Y2V9BKE",
        "outputId": "4932c35a-5285-4741-8437-ef60ded5dde5"
      },
      "execution_count": null,
      "outputs": [
        {
          "output_type": "execute_result",
          "data": {
            "text/plain": [
              "0.125"
            ]
          },
          "metadata": {},
          "execution_count": 22
        }
      ]
    },
    {
      "cell_type": "code",
      "metadata": {
        "id": "weTU0oLshC_a"
      },
      "source": [
        "corpus = set(bagOfWordsA).union(set(bagOfWordsB))"
      ],
      "execution_count": null,
      "outputs": []
    },
    {
      "cell_type": "code",
      "metadata": {
        "colab": {
          "base_uri": "https://localhost:8080/"
        },
        "id": "74Vrkkbxhi51",
        "outputId": "44f43fda-21ff-4f26-db30-baba4c9d24d5"
      },
      "source": [
        "len(corpus) # all the different features on which we train the classifier"
      ],
      "execution_count": null,
      "outputs": [
        {
          "output_type": "execute_result",
          "data": {
            "text/plain": [
              "13"
            ]
          },
          "metadata": {},
          "execution_count": 25
        }
      ]
    },
    {
      "cell_type": "code",
      "source": [
        "words = dict.fromkeys(corpus, 0)"
      ],
      "metadata": {
        "id": "yuazZFlWNSbQ"
      },
      "execution_count": null,
      "outputs": []
    },
    {
      "cell_type": "code",
      "source": [
        "words"
      ],
      "metadata": {
        "colab": {
          "base_uri": "https://localhost:8080/"
        },
        "id": "UhVXJpbUNT9_",
        "outputId": "3e2fdd1f-d445-4c1e-f25b-378d97e4e526"
      },
      "execution_count": null,
      "outputs": [
        {
          "output_type": "execute_result",
          "data": {
            "text/plain": [
              "{'achievement': 0,\n",
              " 'be': 0,\n",
              " 'better': 0,\n",
              " 'human': 0,\n",
              " 'jurassic': 0,\n",
              " 'kind': 0,\n",
              " 'of': 0,\n",
              " 'pinnacle': 0,\n",
              " 'the': 0,\n",
              " 'was': 0,\n",
              " 'without': 0,\n",
              " 'world': 0,\n",
              " 'would': 0}"
            ]
          },
          "metadata": {},
          "execution_count": 10
        }
      ]
    },
    {
      "cell_type": "code",
      "metadata": {
        "id": "HupevTddhkyn"
      },
      "source": [
        "WordsA = dict.fromkeys(corpus, 0)\n",
        "for word in bagOfWordsA:\n",
        "    WordsA[word] += 1\n",
        "WordsB = dict.fromkeys(corpus, 0)\n",
        "for word in bagOfWordsB:\n",
        "    WordsB[word] += 1"
      ],
      "execution_count": null,
      "outputs": []
    },
    {
      "cell_type": "code",
      "metadata": {
        "colab": {
          "base_uri": "https://localhost:8080/"
        },
        "id": "5DgsaUyChpdc",
        "outputId": "df19b7dd-9fb0-48a9-ca89-453c4c757de1"
      },
      "source": [
        "WordsA"
      ],
      "execution_count": null,
      "outputs": [
        {
          "output_type": "execute_result",
          "data": {
            "text/plain": [
              "{'achievement': 1,\n",
              " 'be': 0,\n",
              " 'better': 0,\n",
              " 'human': 1,\n",
              " 'jurassic': 1,\n",
              " 'kind': 0,\n",
              " 'of': 1,\n",
              " 'pinnacle': 1,\n",
              " 'the': 1,\n",
              " 'was': 1,\n",
              " 'without': 0,\n",
              " 'world': 1,\n",
              " 'would': 0}"
            ]
          },
          "metadata": {},
          "execution_count": 12
        }
      ]
    },
    {
      "cell_type": "code",
      "metadata": {
        "id": "xYxU49djh9KA"
      },
      "source": [
        "def computeTF(wordDict, bagOfWords):\n",
        "    tfDict = {}\n",
        "    bagOfWordsCount = len(bagOfWords)\n",
        "    for word, count in wordDict.items():\n",
        "        tfDict[word] = count / float(bagOfWordsCount)\n",
        "    return tfDict"
      ],
      "execution_count": null,
      "outputs": []
    },
    {
      "cell_type": "code",
      "metadata": {
        "id": "2CSxxwE5kM9_"
      },
      "source": [
        "tfA = computeTF(WordsA, words)\n",
        "tfB = computeTF(WordsB, words)"
      ],
      "execution_count": null,
      "outputs": []
    },
    {
      "cell_type": "code",
      "metadata": {
        "colab": {
          "base_uri": "https://localhost:8080/"
        },
        "id": "-M-D335skdBE",
        "outputId": "f07cfcfd-44a1-4296-a9fd-b0e06d0ab529"
      },
      "source": [
        "tfA"
      ],
      "execution_count": null,
      "outputs": [
        {
          "output_type": "execute_result",
          "data": {
            "text/plain": [
              "{'achievement': 0.07692307692307693,\n",
              " 'be': 0.0,\n",
              " 'better': 0.0,\n",
              " 'human': 0.07692307692307693,\n",
              " 'jurassic': 0.07692307692307693,\n",
              " 'kind': 0.0,\n",
              " 'of': 0.07692307692307693,\n",
              " 'pinnacle': 0.07692307692307693,\n",
              " 'the': 0.07692307692307693,\n",
              " 'was': 0.07692307692307693,\n",
              " 'without': 0.0,\n",
              " 'world': 0.07692307692307693,\n",
              " 'would': 0.0}"
            ]
          },
          "metadata": {},
          "execution_count": 16
        }
      ]
    },
    {
      "cell_type": "code",
      "metadata": {
        "id": "LKGurfPQkd1-"
      },
      "source": [
        "def computeIDF(documents):\n",
        "    N = len(documents)\n",
        "    idfDict = dict.fromkeys(documents[0].keys(), 0)\n",
        "    for document in documents:\n",
        "        for word, val in document.items():\n",
        "            if val > 0:\n",
        "                idfDict[word] += 1\n",
        "    \n",
        "    for word, val in idfDict.items():\n",
        "        idfDict[word] = math.log(N / float(val))\n",
        "    return idfDict"
      ],
      "execution_count": null,
      "outputs": []
    },
    {
      "cell_type": "code",
      "source": [
        "def computeIDF(documents):\n",
        "    N = len(documents)\n",
        "    idfDict = dict.fromkeys(documents[0].keys(), 0)\n",
        "    for document in documents:\n",
        "        for word, val in document.items():\n",
        "            if val > 0:\n",
        "                idfDict[word] += 1\n",
        "    \n",
        "    for word, val in idfDict.items():\n",
        "        idfDict[word] = math.log(N / float(val))\n",
        "    return idfDict"
      ],
      "metadata": {
        "id": "tMVyhGxLUqjD"
      },
      "execution_count": null,
      "outputs": []
    },
    {
      "cell_type": "code",
      "source": [
        "'world' in documents[0].split()"
      ],
      "metadata": {
        "colab": {
          "base_uri": "https://localhost:8080/"
        },
        "id": "vbWYf_F6Susr",
        "outputId": "1c4082cd-a4b8-43ea-fc61-d4ed57a26b09"
      },
      "execution_count": null,
      "outputs": [
        {
          "output_type": "execute_result",
          "data": {
            "text/plain": [
              "True"
            ]
          },
          "metadata": {},
          "execution_count": 28
        }
      ]
    },
    {
      "cell_type": "code",
      "metadata": {
        "id": "9f1gXX-Rk1qa",
        "colab": {
          "base_uri": "https://localhost:8080/",
          "height": 292
        },
        "outputId": "2218e891-0061-442a-c152-3b602f9e22a2"
      },
      "source": [
        "idfs = computeIDF(documents)"
      ],
      "execution_count": null,
      "outputs": [
        {
          "output_type": "error",
          "ename": "AttributeError",
          "evalue": "ignored",
          "traceback": [
            "\u001b[0;31m---------------------------------------------------------------------------\u001b[0m",
            "\u001b[0;31mAttributeError\u001b[0m                            Traceback (most recent call last)",
            "\u001b[0;32m<ipython-input-23-2cdb8d6004f3>\u001b[0m in \u001b[0;36m<module>\u001b[0;34m()\u001b[0m\n\u001b[0;32m----> 1\u001b[0;31m \u001b[0midfs\u001b[0m \u001b[0;34m=\u001b[0m \u001b[0mcomputeIDF\u001b[0m\u001b[0;34m(\u001b[0m\u001b[0mdocuments\u001b[0m\u001b[0;34m)\u001b[0m\u001b[0;34m\u001b[0m\u001b[0;34m\u001b[0m\u001b[0m\n\u001b[0m",
            "\u001b[0;32m<ipython-input-18-1143ac2288ed>\u001b[0m in \u001b[0;36mcomputeIDF\u001b[0;34m(documents)\u001b[0m\n\u001b[1;32m      3\u001b[0m     \u001b[0mN\u001b[0m \u001b[0;34m=\u001b[0m \u001b[0mlen\u001b[0m\u001b[0;34m(\u001b[0m\u001b[0mdocuments\u001b[0m\u001b[0;34m)\u001b[0m\u001b[0;34m\u001b[0m\u001b[0;34m\u001b[0m\u001b[0m\n\u001b[1;32m      4\u001b[0m \u001b[0;34m\u001b[0m\u001b[0m\n\u001b[0;32m----> 5\u001b[0;31m     \u001b[0midfDict\u001b[0m \u001b[0;34m=\u001b[0m \u001b[0mdict\u001b[0m\u001b[0;34m.\u001b[0m\u001b[0mfromkeys\u001b[0m\u001b[0;34m(\u001b[0m\u001b[0mdocuments\u001b[0m\u001b[0;34m[\u001b[0m\u001b[0;36m0\u001b[0m\u001b[0;34m]\u001b[0m\u001b[0;34m.\u001b[0m\u001b[0mkeys\u001b[0m\u001b[0;34m(\u001b[0m\u001b[0;34m)\u001b[0m\u001b[0;34m,\u001b[0m \u001b[0;36m0\u001b[0m\u001b[0;34m)\u001b[0m\u001b[0;34m\u001b[0m\u001b[0;34m\u001b[0m\u001b[0m\n\u001b[0m\u001b[1;32m      6\u001b[0m     \u001b[0;32mfor\u001b[0m \u001b[0mdocument\u001b[0m \u001b[0;32min\u001b[0m \u001b[0mdocuments\u001b[0m\u001b[0;34m:\u001b[0m\u001b[0;34m\u001b[0m\u001b[0;34m\u001b[0m\u001b[0m\n\u001b[1;32m      7\u001b[0m         \u001b[0;32mfor\u001b[0m \u001b[0mword\u001b[0m\u001b[0;34m,\u001b[0m \u001b[0mval\u001b[0m \u001b[0;32min\u001b[0m \u001b[0mdocument\u001b[0m\u001b[0;34m.\u001b[0m\u001b[0mitems\u001b[0m\u001b[0;34m(\u001b[0m\u001b[0;34m)\u001b[0m\u001b[0;34m:\u001b[0m\u001b[0;34m\u001b[0m\u001b[0;34m\u001b[0m\u001b[0m\n",
            "\u001b[0;31mAttributeError\u001b[0m: 'str' object has no attribute 'keys'"
          ]
        }
      ]
    },
    {
      "cell_type": "code",
      "metadata": {
        "colab": {
          "base_uri": "https://localhost:8080/"
        },
        "id": "O8jnL-sUyEd9",
        "outputId": "02ff1736-4fda-4d23-e5b2-47996cfd8e1e"
      },
      "source": [
        "idfs"
      ],
      "execution_count": null,
      "outputs": [
        {
          "output_type": "execute_result",
          "data": {
            "text/plain": [
              "{'achievement': 0.6931471805599453,\n",
              " 'be': 0.6931471805599453,\n",
              " 'better': 0.6931471805599453,\n",
              " 'human': 0.0,\n",
              " 'jurassic': 0.0,\n",
              " 'kind': 0.6931471805599453,\n",
              " 'of': 0.6931471805599453,\n",
              " 'pinnacle': 0.6931471805599453,\n",
              " 'the': 0.6931471805599453,\n",
              " 'was': 0.6931471805599453,\n",
              " 'without': 0.6931471805599453,\n",
              " 'world': 0.0,\n",
              " 'would': 0.6931471805599453}"
            ]
          },
          "metadata": {},
          "execution_count": 15
        }
      ]
    },
    {
      "cell_type": "code",
      "metadata": {
        "id": "0CI04eNykjgo"
      },
      "source": [
        "def computeTFIDF(words, idfs):\n",
        "    tfidf = {}\n",
        "    for word, val in tfBagOfWords.items():\n",
        "        tfidf[word] = val * idfs[word]\n",
        "    return tfidf"
      ],
      "execution_count": null,
      "outputs": []
    },
    {
      "cell_type": "code",
      "metadata": {
        "id": "E-OtjLn_knNO"
      },
      "source": [
        "tfidfA = computeTFIDF(tfA, idfs)\n",
        "tfidfB = computeTFIDF(tfB, idfs)\n",
        "df = pd.DataFrame([tfidfA, tfidfB])"
      ],
      "execution_count": null,
      "outputs": []
    },
    {
      "cell_type": "code",
      "metadata": {
        "colab": {
          "base_uri": "https://localhost:8080/",
          "height": 112
        },
        "id": "QzWZudhSk3_S",
        "outputId": "910d4b56-65d6-4781-998e-5a79a4ebb270"
      },
      "source": [
        "df"
      ],
      "execution_count": null,
      "outputs": [
        {
          "output_type": "execute_result",
          "data": {
            "text/html": [
              "<div>\n",
              "<style scoped>\n",
              "    .dataframe tbody tr th:only-of-type {\n",
              "        vertical-align: middle;\n",
              "    }\n",
              "\n",
              "    .dataframe tbody tr th {\n",
              "        vertical-align: top;\n",
              "    }\n",
              "\n",
              "    .dataframe thead th {\n",
              "        text-align: right;\n",
              "    }\n",
              "</style>\n",
              "<table border=\"1\" class=\"dataframe\">\n",
              "  <thead>\n",
              "    <tr style=\"text-align: right;\">\n",
              "      <th></th>\n",
              "      <th>the</th>\n",
              "      <th>of</th>\n",
              "      <th>jurassic</th>\n",
              "      <th>was</th>\n",
              "      <th>pinnacle</th>\n",
              "      <th>achievement</th>\n",
              "      <th>would</th>\n",
              "      <th>without</th>\n",
              "      <th>kind</th>\n",
              "      <th>better</th>\n",
              "      <th>be</th>\n",
              "      <th>human</th>\n",
              "      <th>world</th>\n",
              "    </tr>\n",
              "  </thead>\n",
              "  <tbody>\n",
              "    <tr>\n",
              "      <th>0</th>\n",
              "      <td>0.086643</td>\n",
              "      <td>0.086643</td>\n",
              "      <td>0.0</td>\n",
              "      <td>0.086643</td>\n",
              "      <td>0.086643</td>\n",
              "      <td>0.086643</td>\n",
              "      <td>0.000000</td>\n",
              "      <td>0.000000</td>\n",
              "      <td>0.000000</td>\n",
              "      <td>0.000000</td>\n",
              "      <td>0.000000</td>\n",
              "      <td>0.0</td>\n",
              "      <td>0.0</td>\n",
              "    </tr>\n",
              "    <tr>\n",
              "      <th>1</th>\n",
              "      <td>0.000000</td>\n",
              "      <td>0.000000</td>\n",
              "      <td>0.0</td>\n",
              "      <td>0.000000</td>\n",
              "      <td>0.000000</td>\n",
              "      <td>0.000000</td>\n",
              "      <td>0.086643</td>\n",
              "      <td>0.086643</td>\n",
              "      <td>0.086643</td>\n",
              "      <td>0.086643</td>\n",
              "      <td>0.086643</td>\n",
              "      <td>0.0</td>\n",
              "      <td>0.0</td>\n",
              "    </tr>\n",
              "  </tbody>\n",
              "</table>\n",
              "</div>"
            ],
            "text/plain": [
              "        the        of  jurassic       was  ...    better        be  human  world\n",
              "0  0.086643  0.086643       0.0  0.086643  ...  0.000000  0.000000    0.0    0.0\n",
              "1  0.000000  0.000000       0.0  0.000000  ...  0.086643  0.086643    0.0    0.0\n",
              "\n",
              "[2 rows x 13 columns]"
            ]
          },
          "metadata": {},
          "execution_count": 18
        }
      ]
    },
    {
      "cell_type": "code",
      "metadata": {
        "id": "aWlWKxTjkpo-"
      },
      "source": [
        "vectorizer = TfidfVectorizer()\n",
        "vectors = vectorizer.fit_transform([documentA, documentB])\n",
        "feature_names = vectorizer.get_feature_names_out()\n",
        "dense = vectors.todense()\n",
        "denselist = dense.tolist()\n",
        "df = pd.DataFrame(denselist, columns=feature_names)"
      ],
      "execution_count": null,
      "outputs": []
    },
    {
      "cell_type": "code",
      "metadata": {
        "colab": {
          "base_uri": "https://localhost:8080/",
          "height": 112
        },
        "id": "LwSuU0HTkvIt",
        "outputId": "5abd88c1-2705-4621-c3e4-903f89e0554d"
      },
      "source": [
        "df"
      ],
      "execution_count": null,
      "outputs": [
        {
          "output_type": "execute_result",
          "data": {
            "text/html": [
              "<div>\n",
              "<style scoped>\n",
              "    .dataframe tbody tr th:only-of-type {\n",
              "        vertical-align: middle;\n",
              "    }\n",
              "\n",
              "    .dataframe tbody tr th {\n",
              "        vertical-align: top;\n",
              "    }\n",
              "\n",
              "    .dataframe thead th {\n",
              "        text-align: right;\n",
              "    }\n",
              "</style>\n",
              "<table border=\"1\" class=\"dataframe\">\n",
              "  <thead>\n",
              "    <tr style=\"text-align: right;\">\n",
              "      <th></th>\n",
              "      <th>achievement</th>\n",
              "      <th>be</th>\n",
              "      <th>better</th>\n",
              "      <th>human</th>\n",
              "      <th>jurassic</th>\n",
              "      <th>kind</th>\n",
              "      <th>of</th>\n",
              "      <th>pinnacle</th>\n",
              "      <th>the</th>\n",
              "      <th>was</th>\n",
              "      <th>without</th>\n",
              "      <th>world</th>\n",
              "      <th>would</th>\n",
              "    </tr>\n",
              "  </thead>\n",
              "  <tbody>\n",
              "    <tr>\n",
              "      <th>0</th>\n",
              "      <td>0.391668</td>\n",
              "      <td>0.000000</td>\n",
              "      <td>0.000000</td>\n",
              "      <td>0.278675</td>\n",
              "      <td>0.278675</td>\n",
              "      <td>0.000000</td>\n",
              "      <td>0.391668</td>\n",
              "      <td>0.391668</td>\n",
              "      <td>0.391668</td>\n",
              "      <td>0.391668</td>\n",
              "      <td>0.000000</td>\n",
              "      <td>0.278675</td>\n",
              "      <td>0.000000</td>\n",
              "    </tr>\n",
              "    <tr>\n",
              "      <th>1</th>\n",
              "      <td>0.000000</td>\n",
              "      <td>0.391668</td>\n",
              "      <td>0.391668</td>\n",
              "      <td>0.278675</td>\n",
              "      <td>0.278675</td>\n",
              "      <td>0.391668</td>\n",
              "      <td>0.000000</td>\n",
              "      <td>0.000000</td>\n",
              "      <td>0.000000</td>\n",
              "      <td>0.000000</td>\n",
              "      <td>0.391668</td>\n",
              "      <td>0.278675</td>\n",
              "      <td>0.391668</td>\n",
              "    </tr>\n",
              "  </tbody>\n",
              "</table>\n",
              "</div>"
            ],
            "text/plain": [
              "   achievement        be    better  ...   without     world     would\n",
              "0     0.391668  0.000000  0.000000  ...  0.000000  0.278675  0.000000\n",
              "1     0.000000  0.391668  0.391668  ...  0.391668  0.278675  0.391668\n",
              "\n",
              "[2 rows x 13 columns]"
            ]
          },
          "metadata": {},
          "execution_count": 20
        }
      ]
    },
    {
      "cell_type": "markdown",
      "source": [
        "---------------------------\n"
      ],
      "metadata": {
        "id": "aKTsBWGjnqra"
      }
    },
    {
      "cell_type": "markdown",
      "source": [
        "## Application of TF-IDF to Amazon Reviews"
      ],
      "metadata": {
        "id": "hN1CXkjynud-"
      }
    },
    {
      "cell_type": "code",
      "metadata": {
        "id": "d1mR_BtvhtaN",
        "colab": {
          "base_uri": "https://localhost:8080/"
        },
        "outputId": "5bad15d7-8574-4b24-c87d-2ebdda335a9c"
      },
      "source": [
        "import nltk\n",
        "nltk.download('stopwords')\n",
        "from nltk.corpus import stopwords\n",
        "#stopwords.words('english')"
      ],
      "execution_count": null,
      "outputs": [
        {
          "output_type": "stream",
          "name": "stdout",
          "text": [
            "[nltk_data] Downloading package stopwords to /root/nltk_data...\n",
            "[nltk_data]   Package stopwords is already up-to-date!\n"
          ]
        }
      ]
    },
    {
      "cell_type": "code",
      "metadata": {
        "id": "69Mx540MyqMb"
      },
      "source": [
        "# this data is available via Kaggle\n",
        "df = pd.read_csv('drive/MyDrive/Data Sets/amazon_reviews.csv', quoting=2 )\n",
        "# Extract the ratings and text reviews\n",
        "data = df[['reviews.text', 'reviews.rating']].dropna().reset_index(drop=True)\n",
        "\n",
        "reviews = data['reviews.text']\n",
        "y = data['reviews.rating']"
      ],
      "execution_count": null,
      "outputs": []
    },
    {
      "cell_type": "code",
      "source": [
        "# for the number of stars we say 5 star is a hit and less than 5 is a miss\n",
        "yb = y.where(y==5, other=0).where(y<5, other=1)"
      ],
      "metadata": {
        "id": "H42rsRYAojPz"
      },
      "execution_count": null,
      "outputs": []
    },
    {
      "cell_type": "code",
      "source": [
        "import re\n",
        "# Stopword dictionary\n",
        "from nltk.corpus import stopwords\n",
        "nltk.download('stopwords')\n",
        "# For stemming\n",
        "from nltk.stem.porter import PorterStemmer\n",
        "stemmer = PorterStemmer()"
      ],
      "metadata": {
        "colab": {
          "base_uri": "https://localhost:8080/"
        },
        "id": "hibVg9gKoYIn",
        "outputId": "0527c884-a7a0-4a5f-f5e2-b6e8ca8dc391"
      },
      "execution_count": null,
      "outputs": [
        {
          "output_type": "stream",
          "name": "stdout",
          "text": [
            "[nltk_data] Downloading package stopwords to /root/nltk_data...\n",
            "[nltk_data]   Package stopwords is already up-to-date!\n"
          ]
        }
      ]
    },
    {
      "cell_type": "code",
      "source": [
        "from sklearn.model_selection import train_test_split"
      ],
      "metadata": {
        "id": "GalsLvn3pjUy"
      },
      "execution_count": null,
      "outputs": []
    },
    {
      "cell_type": "code",
      "source": [
        "# Here we throw the stopwords and then root the remaining ones in each sentence. The punctuation is also removed.\n",
        "allreviews = []\n",
        "for i in range(len(reviews)):\n",
        "    txt = re.sub('[^a-zA-Z0-9 ]','',reviews[i])\n",
        "    txt = txt.lower()\n",
        "    txt = txt.split()\n",
        "    txt = [word for word in txt if not word in set(stopwords.words('english'))]\n",
        "    txt = [stemmer.stem(word) for word in txt]\n",
        "    txt = ' '.join(txt)\n",
        "    allreviews.append(txt)"
      ],
      "metadata": {
        "id": "4zzIwQZfoCAs"
      },
      "execution_count": null,
      "outputs": []
    },
    {
      "cell_type": "markdown",
      "source": [
        "## The following is where we apply the TF-IDF vectorizer"
      ],
      "metadata": {
        "id": "prc_PX8mcIpL"
      }
    },
    {
      "cell_type": "code",
      "source": [
        "vectorizer = TfidfVectorizer()\n",
        "vectors = vectorizer.fit_transform(allreviews)"
      ],
      "metadata": {
        "id": "AX50L4Xmn75L"
      },
      "execution_count": null,
      "outputs": []
    },
    {
      "cell_type": "code",
      "source": [
        "feature_names = vectorizer.get_feature_names_out()\n",
        "dense = vectors.todense()\n",
        "denselist = dense.tolist()\n",
        "Xreviews = pd.DataFrame(denselist, columns=feature_names)"
      ],
      "metadata": {
        "id": "wwiZW4Tco6mw"
      },
      "execution_count": null,
      "outputs": []
    },
    {
      "cell_type": "code",
      "source": [
        "Xreviews.iloc[0:3,400:410]"
      ],
      "metadata": {
        "id": "NTpzhZRjqXX3",
        "colab": {
          "base_uri": "https://localhost:8080/",
          "height": 143
        },
        "outputId": "244ff89d-b622-4127-9549-210475ab661d"
      },
      "execution_count": null,
      "outputs": [
        {
          "output_type": "execute_result",
          "data": {
            "text/html": [
              "<div>\n",
              "<style scoped>\n",
              "    .dataframe tbody tr th:only-of-type {\n",
              "        vertical-align: middle;\n",
              "    }\n",
              "\n",
              "    .dataframe tbody tr th {\n",
              "        vertical-align: top;\n",
              "    }\n",
              "\n",
              "    .dataframe thead th {\n",
              "        text-align: right;\n",
              "    }\n",
              "</style>\n",
              "<table border=\"1\" class=\"dataframe\">\n",
              "  <thead>\n",
              "    <tr style=\"text-align: right;\">\n",
              "      <th></th>\n",
              "      <th>ah</th>\n",
              "      <th>ahead</th>\n",
              "      <th>ai</th>\n",
              "      <th>ailment</th>\n",
              "      <th>aim</th>\n",
              "      <th>air</th>\n",
              "      <th>airconditioningheat</th>\n",
              "      <th>airplay</th>\n",
              "      <th>airreceiv</th>\n",
              "      <th>ala</th>\n",
              "    </tr>\n",
              "  </thead>\n",
              "  <tbody>\n",
              "    <tr>\n",
              "      <th>0</th>\n",
              "      <td>0.0</td>\n",
              "      <td>0.0</td>\n",
              "      <td>0.0</td>\n",
              "      <td>0.0</td>\n",
              "      <td>0.0</td>\n",
              "      <td>0.0</td>\n",
              "      <td>0.0</td>\n",
              "      <td>0.0</td>\n",
              "      <td>0.0</td>\n",
              "      <td>0.0</td>\n",
              "    </tr>\n",
              "    <tr>\n",
              "      <th>1</th>\n",
              "      <td>0.0</td>\n",
              "      <td>0.0</td>\n",
              "      <td>0.0</td>\n",
              "      <td>0.0</td>\n",
              "      <td>0.0</td>\n",
              "      <td>0.0</td>\n",
              "      <td>0.0</td>\n",
              "      <td>0.0</td>\n",
              "      <td>0.0</td>\n",
              "      <td>0.0</td>\n",
              "    </tr>\n",
              "    <tr>\n",
              "      <th>2</th>\n",
              "      <td>0.0</td>\n",
              "      <td>0.0</td>\n",
              "      <td>0.0</td>\n",
              "      <td>0.0</td>\n",
              "      <td>0.0</td>\n",
              "      <td>0.0</td>\n",
              "      <td>0.0</td>\n",
              "      <td>0.0</td>\n",
              "      <td>0.0</td>\n",
              "      <td>0.0</td>\n",
              "    </tr>\n",
              "  </tbody>\n",
              "</table>\n",
              "</div>"
            ],
            "text/plain": [
              "    ah  ahead   ai  ailment  ...  airconditioningheat  airplay  airreceiv  ala\n",
              "0  0.0    0.0  0.0      0.0  ...                  0.0      0.0        0.0  0.0\n",
              "1  0.0    0.0  0.0      0.0  ...                  0.0      0.0        0.0  0.0\n",
              "2  0.0    0.0  0.0      0.0  ...                  0.0      0.0        0.0  0.0\n",
              "\n",
              "[3 rows x 10 columns]"
            ]
          },
          "metadata": {},
          "execution_count": 30
        }
      ]
    },
    {
      "cell_type": "code",
      "source": [
        "Xtrain,Xtest,ytrain,ytest = train_test_split(Xreviews,yb,random_state=310,test_size=0.25)"
      ],
      "metadata": {
        "id": "rG6WbolEpPYD"
      },
      "execution_count": null,
      "outputs": []
    },
    {
      "cell_type": "code",
      "source": [
        "model = LogisticRegression(random_state=310, solver='lbfgs')\n",
        "model.fit(Xtrain,ytrain)\n",
        "ypred = model.predict(Xtest)\n",
        "cm = confusion_matrix(ytest, ypred)\n",
        "pd.DataFrame(cm, columns=['Not 5', '5'], index =['Not 5', '5'])"
      ],
      "metadata": {
        "colab": {
          "base_uri": "https://localhost:8080/",
          "height": 112
        },
        "id": "MFpubO-Qp45n",
        "outputId": "0a8b0276-2679-4678-d751-4bfbb58b9d1a"
      },
      "execution_count": null,
      "outputs": [
        {
          "output_type": "execute_result",
          "data": {
            "text/html": [
              "<div>\n",
              "<style scoped>\n",
              "    .dataframe tbody tr th:only-of-type {\n",
              "        vertical-align: middle;\n",
              "    }\n",
              "\n",
              "    .dataframe tbody tr th {\n",
              "        vertical-align: top;\n",
              "    }\n",
              "\n",
              "    .dataframe thead th {\n",
              "        text-align: right;\n",
              "    }\n",
              "</style>\n",
              "<table border=\"1\" class=\"dataframe\">\n",
              "  <thead>\n",
              "    <tr style=\"text-align: right;\">\n",
              "      <th></th>\n",
              "      <th>Not 5</th>\n",
              "      <th>5</th>\n",
              "    </tr>\n",
              "  </thead>\n",
              "  <tbody>\n",
              "    <tr>\n",
              "      <th>Not 5</th>\n",
              "      <td>33</td>\n",
              "      <td>83</td>\n",
              "    </tr>\n",
              "    <tr>\n",
              "      <th>5</th>\n",
              "      <td>10</td>\n",
              "      <td>169</td>\n",
              "    </tr>\n",
              "  </tbody>\n",
              "</table>\n",
              "</div>"
            ],
            "text/plain": [
              "       Not 5    5\n",
              "Not 5     33   83\n",
              "5         10  169"
            ]
          },
          "metadata": {},
          "execution_count": 33
        }
      ]
    },
    {
      "cell_type": "code",
      "source": [
        "model.score(Xtest,ytest)"
      ],
      "metadata": {
        "colab": {
          "base_uri": "https://localhost:8080/"
        },
        "id": "gFDCfw5yp-JY",
        "outputId": "484fe180-21b2-4f3a-90f1-de9af46fc881"
      },
      "execution_count": null,
      "outputs": [
        {
          "output_type": "execute_result",
          "data": {
            "text/plain": [
              "0.6474576271186441"
            ]
          },
          "metadata": {},
          "execution_count": 39
        }
      ]
    },
    {
      "cell_type": "code",
      "source": [
        "from sklearn.naive_bayes import GaussianNB\n",
        "model = GaussianNB()\n",
        "model.fit(Xtrain,ytrain)\n",
        "ypred = model.predict(Xtest)\n",
        "cm = confusion_matrix(ytest, ypred)\n",
        "pd.DataFrame(cm, columns=['Not 5', '5'], index =['Not 5', '5'])"
      ],
      "metadata": {
        "colab": {
          "base_uri": "https://localhost:8080/",
          "height": 112
        },
        "id": "AMBeCTZLqKFN",
        "outputId": "14949199-691e-48de-f378-c528640f7827"
      },
      "execution_count": null,
      "outputs": [
        {
          "output_type": "execute_result",
          "data": {
            "text/html": [
              "<div>\n",
              "<style scoped>\n",
              "    .dataframe tbody tr th:only-of-type {\n",
              "        vertical-align: middle;\n",
              "    }\n",
              "\n",
              "    .dataframe tbody tr th {\n",
              "        vertical-align: top;\n",
              "    }\n",
              "\n",
              "    .dataframe thead th {\n",
              "        text-align: right;\n",
              "    }\n",
              "</style>\n",
              "<table border=\"1\" class=\"dataframe\">\n",
              "  <thead>\n",
              "    <tr style=\"text-align: right;\">\n",
              "      <th></th>\n",
              "      <th>Not 5</th>\n",
              "      <th>5</th>\n",
              "    </tr>\n",
              "  </thead>\n",
              "  <tbody>\n",
              "    <tr>\n",
              "      <th>Not 5</th>\n",
              "      <td>81</td>\n",
              "      <td>35</td>\n",
              "    </tr>\n",
              "    <tr>\n",
              "      <th>5</th>\n",
              "      <td>69</td>\n",
              "      <td>110</td>\n",
              "    </tr>\n",
              "  </tbody>\n",
              "</table>\n",
              "</div>"
            ],
            "text/plain": [
              "       Not 5    5\n",
              "Not 5     81   35\n",
              "5         69  110"
            ]
          },
          "metadata": {},
          "execution_count": 36
        }
      ]
    },
    {
      "cell_type": "code",
      "source": [
        "model.score(Xtrain,ytrain)"
      ],
      "metadata": {
        "id": "IgCzZSalqi_W",
        "colab": {
          "base_uri": "https://localhost:8080/"
        },
        "outputId": "9db54799-10bf-406f-d6de-2541a096507a"
      },
      "execution_count": null,
      "outputs": [
        {
          "output_type": "execute_result",
          "data": {
            "text/plain": [
              "0.8356009070294784"
            ]
          },
          "metadata": {},
          "execution_count": 37
        }
      ]
    },
    {
      "cell_type": "code",
      "source": [
        "model.score(Xtest,ytest)"
      ],
      "metadata": {
        "colab": {
          "base_uri": "https://localhost:8080/"
        },
        "id": "FBfu1LV9dzMJ",
        "outputId": "51d7cda8-c747-4fb3-dde7-5ecfba52fab2"
      },
      "execution_count": null,
      "outputs": [
        {
          "output_type": "execute_result",
          "data": {
            "text/plain": [
              "0.6474576271186441"
            ]
          },
          "metadata": {},
          "execution_count": 38
        }
      ]
    },
    {
      "cell_type": "code",
      "source": [
        ""
      ],
      "metadata": {
        "id": "3Xn3RHCld3PS"
      },
      "execution_count": null,
      "outputs": []
    }
  ]
}