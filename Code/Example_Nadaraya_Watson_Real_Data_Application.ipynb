{
  "nbformat": 4,
  "nbformat_minor": 0,
  "metadata": {
    "colab": {
      "name": "Example Nadaraya-Watson  Real Data Application.ipynb",
      "provenance": [],
      "collapsed_sections": [],
      "toc_visible": true
    },
    "kernelspec": {
      "name": "python3",
      "display_name": "Python 3"
    },
    "language_info": {
      "name": "python"
    }
  },
  "cells": [
    {
      "cell_type": "code",
      "metadata": {
        "colab": {
          "base_uri": "https://localhost:8080/"
        },
        "id": "L6MeKjTEGz5j",
        "outputId": "173f1a2a-b2d8-4c1e-a74f-09656a7bf645"
      },
      "source": [
        "cd /content/drive/MyDrive/Colab Notebooks"
      ],
      "execution_count": 1,
      "outputs": [
        {
          "output_type": "stream",
          "text": [
            "/content/drive/MyDrive/Colab Notebooks\n"
          ],
          "name": "stdout"
        }
      ]
    },
    {
      "cell_type": "markdown",
      "metadata": {
        "id": "gJ921YYhyGHa"
      },
      "source": [
        "# Multivariate application of Kernel Regression (Nadaraya-Watson)"
      ]
    },
    {
      "cell_type": "code",
      "metadata": {
        "id": "KXHX2sozoRm4"
      },
      "source": [
        "from nadaraya_watson import NadarayaWatson, NadarayaWatsonCV"
      ],
      "execution_count": 5,
      "outputs": []
    },
    {
      "cell_type": "code",
      "metadata": {
        "id": "4kgxHkgEt3b2"
      },
      "source": [
        "import time\n",
        "import numpy as np\n",
        "import pandas as pd\n",
        "import matplotlib.pyplot as plt\n",
        "from sklearn.metrics import mean_squared_error as mse\n",
        "from sklearn.datasets import make_regression\n",
        "from sklearn.model_selection import train_test_split as tts\n",
        "from sklearn.model_selection import GridSearchCV\n",
        "from sklearn.metrics import mean_absolute_error as MAE\n",
        "from sklearn.preprocessing import StandardScaler, PolynomialFeatures\n",
        "from sklearn.pipeline import Pipeline\n",
        "from sklearn.model_selection import KFold"
      ],
      "execution_count": 6,
      "outputs": []
    },
    {
      "cell_type": "code",
      "metadata": {
        "id": "Yjdm3Gp3yfoJ"
      },
      "source": [
        "%matplotlib inline\n",
        "%config InlineBackend.figure_format = 'retina'"
      ],
      "execution_count": 8,
      "outputs": []
    },
    {
      "cell_type": "code",
      "metadata": {
        "id": "9VqWYAHOuieW"
      },
      "source": [
        "df = pd.read_csv('/content/drive/MyDrive/Data Sets/Boston Housing Prices.csv')\n",
        "features = ['crime','rooms','residential','industrial','nox','older','distance','highway','tax','ptratio','lstat']\n",
        "X = np.array(df[features])\n",
        "y = np.array(df['cmedv']).reshape(-1,1)\n",
        "Xdf = df[features]"
      ],
      "execution_count": 9,
      "outputs": []
    },
    {
      "cell_type": "code",
      "metadata": {
        "colab": {
          "base_uri": "https://localhost:8080/"
        },
        "id": "swY02Inhwr-p",
        "outputId": "dd5946e1-2c82-4a17-9198-50f3da954056"
      },
      "source": [
        "param_grid=dict(kernel=[\"laplacian\"],gamma=np.logspace(-5, 5, 1000))\n",
        "model = NadarayaWatsonCV(param_grid,scoring='neg_mean_absolute_error')\n",
        "model.fit(Xdf, y)"
      ],
      "execution_count": 14,
      "outputs": [
        {
          "output_type": "execute_result",
          "data": {
            "text/plain": [
              "NadarayaWatsonCV(coef0=1, cv=None, degree=3, gamma=0.4117319931161679,\n",
              "                 kernel='laplacian', kernel_params=None,\n",
              "                 param_grid={'gamma': array([1.00000000e-05, 1.02331658e-05, 1.04717682e-05, 1.07159340e-05,\n",
              "       1.09657929e-05, 1.12214777e-05, 1.14831241e-05, 1.17508713e-05,\n",
              "       1.20248614e-05, 1.23052400e-05, 1.25921561e-05, 1.28857621e-05,\n",
              "       1.31862140e-05, 1.34936714e-05, 1.380829...\n",
              "       6.45371540e+04, 6.60419396e+04, 6.75818117e+04, 6.91575883e+04,\n",
              "       7.07701066e+04, 7.24202233e+04, 7.41088152e+04, 7.58367791e+04,\n",
              "       7.76050334e+04, 7.94145172e+04, 8.12661920e+04, 8.31610415e+04,\n",
              "       8.51000725e+04, 8.70843150e+04, 8.91148232e+04, 9.11926760e+04,\n",
              "       9.33189772e+04, 9.54948564e+04, 9.77214697e+04, 1.00000000e+05]),\n",
              "                             'kernel': ['laplacian']},\n",
              "                 scoring='neg_mean_absolute_error', store_cv_scores=False)"
            ]
          },
          "metadata": {
            "tags": []
          },
          "execution_count": 14
        }
      ]
    },
    {
      "cell_type": "code",
      "metadata": {
        "id": "hTMZ8thNwxAu"
      },
      "source": [
        "yhat = model.predict(Xdf)"
      ],
      "execution_count": 15,
      "outputs": []
    },
    {
      "cell_type": "code",
      "metadata": {
        "colab": {
          "base_uri": "https://localhost:8080/"
        },
        "id": "FdBA7GqkLejA",
        "outputId": "50d5e1f3-b304-4735-9847-5bd8547cac15"
      },
      "source": [
        "1000*MAE(y,yhat)"
      ],
      "execution_count": 16,
      "outputs": [
        {
          "output_type": "execute_result",
          "data": {
            "text/plain": [
              "558.64221577306"
            ]
          },
          "metadata": {
            "tags": []
          },
          "execution_count": 16
        }
      ]
    },
    {
      "cell_type": "code",
      "metadata": {
        "id": "5L33giobMtt0"
      },
      "source": [
        "def DoKFold(X,y,k):\n",
        "  PE = []\n",
        "  kf = KFold(n_splits=k,shuffle=True,random_state=1234)\n",
        "  for idxtrain, idxtest in kf.split(X):\n",
        "    param_grid=dict(kernel=[\"laplacian\"],gamma=np.logspace(-5, 5, 1000))\n",
        "    model = NadarayaWatsonCV(param_grid,scoring='neg_mean_absolute_error')\n",
        "    X_train = X[idxtrain,:]\n",
        "    y_train = y[idxtrain]\n",
        "    X_test  = X[idxtest,:]\n",
        "    y_test  = y[idxtest]\n",
        "    model.fit(X_train,y_train)\n",
        "    yhat_test = model.predict(X_test)\n",
        "    PE.append(MAE(y_test,yhat_test))\n",
        "  return 1000*np.mean(PE)"
      ],
      "execution_count": 19,
      "outputs": []
    },
    {
      "cell_type": "code",
      "metadata": {
        "colab": {
          "base_uri": "https://localhost:8080/"
        },
        "id": "lqYnxq26Jufh",
        "outputId": "9a91ff90-1d5f-4e66-ab3d-dd472a224715"
      },
      "source": [
        "DoKFold(Xdf.values,y,10)"
      ],
      "execution_count": 20,
      "outputs": [
        {
          "output_type": "execute_result",
          "data": {
            "text/plain": [
              "3356.2040861244845"
            ]
          },
          "metadata": {
            "tags": []
          },
          "execution_count": 20
        }
      ]
    },
    {
      "cell_type": "code",
      "metadata": {
        "colab": {
          "base_uri": "https://localhost:8080/"
        },
        "id": "_Gy4OYlYNzE8",
        "outputId": "87765f31-cb0f-4bc6-b9c2-ca4b509323ab"
      },
      "source": [
        "450/650"
      ],
      "execution_count": null,
      "outputs": [
        {
          "output_type": "execute_result",
          "data": {
            "text/plain": [
              "0.6923076923076923"
            ]
          },
          "metadata": {
            "tags": []
          },
          "execution_count": 106
        }
      ]
    },
    {
      "cell_type": "code",
      "metadata": {
        "id": "-HSuoipETzCk"
      },
      "source": [
        ""
      ],
      "execution_count": null,
      "outputs": []
    }
  ]
}